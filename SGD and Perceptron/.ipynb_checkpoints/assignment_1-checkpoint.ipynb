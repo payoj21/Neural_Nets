{
 "cells": [
  {
   "cell_type": "markdown",
   "metadata": {},
   "source": [
    "# <center> Neural Networks and Deep Learning (CSCI 5922)</center>\n",
    "# <center> Spring 2019 </center>"
   ]
  },
  {
   "cell_type": "markdown",
   "metadata": {},
   "source": [
    "**Name: Payoj Jain**"
   ]
  },
  {
   "cell_type": "markdown",
   "metadata": {},
   "source": [
    "## Goal"
   ]
  },
  {
   "cell_type": "markdown",
   "metadata": {},
   "source": [
    "The goal of this assignment is to introduce neural networks in terms of ideas you are already familiar with:  linear regression and linear-threshold classification"
   ]
  },
  {
   "cell_type": "markdown",
   "metadata": {},
   "source": [
    "## Dataset"
   ]
  },
  {
   "cell_type": "markdown",
   "metadata": {},
   "source": [
    "You are given a dataset with 2 input variables ($x_1$, $x_2$) and an output variable ($y$)."
   ]
  },
  {
   "cell_type": "code",
   "execution_count": 1,
   "metadata": {},
   "outputs": [],
   "source": [
    "from sklearn.datasets import make_regression\n",
    "from matplotlib import pyplot as plt\n",
    "import numpy as np\n",
    "import os\n",
    "\n",
    "# Load data\n",
    "data = np.loadtxt(os.path.join('data', 'assign1_data.txt'))\n",
    "X = data[:,:2]\n",
    "y = data[:, 2]\n",
    "z = data[:, 3]\n",
    "\n",
    "# Concatenating bias to X\n",
    "b = np.array([[1]]*X.shape[0])\n",
    "X = np.concatenate((X,b),axis=1)\n",
    "\n",
    "cost_updates = []\n",
    "incorrect_updates = []"
   ]
  },
  {
   "cell_type": "markdown",
   "metadata": {},
   "source": [
    "## Part 1"
   ]
  },
  {
   "cell_type": "markdown",
   "metadata": {},
   "source": [
    "Write a program to find the least squares solution to $y = w_1 x_1 + w_2 x_2 + b$ for the above dataset. "
   ]
  },
  {
   "cell_type": "markdown",
   "metadata": {},
   "source": [
    "Complete the following function below and use it to answer questions (A) and (B). \n",
    "\n",
    "**Note:** Please do not change the interface of the given function."
   ]
  },
  {
   "cell_type": "code",
   "execution_count": 2,
   "metadata": {},
   "outputs": [],
   "source": [
    "def lms(X, y):\n",
    "    \"\"\"\n",
    "    Finds the Least Mean Squares solution\n",
    "    \n",
    "    Parameters\n",
    "    ----------\n",
    "    X : NumPy array of features (size : no of examples X features)\n",
    "    y : Numpy array of output value 'y' (size : no of examples X 1)\n",
    "    \n",
    "    Returns\n",
    "    -------\n",
    "    w : solution array\n",
    "    \"\"\"\n",
    "\n",
    "    from numpy.linalg import inv\n",
    "    w = (inv((X.T@X))@X.T)@y\n",
    "    return w"
   ]
  },
  {
   "cell_type": "markdown",
   "metadata": {},
   "source": [
    "(A) Report the values of $w_1$, $w_2$, and $b$."
   ]
  },
  {
   "cell_type": "code",
   "execution_count": 3,
   "metadata": {
    "scrolled": false
   },
   "outputs": [
    {
     "name": "stdout",
     "output_type": "stream",
     "text": [
      "w1: -2.04424259514 w2: 3.99686016866 b: -0.924290811868\n"
     ]
    }
   ],
   "source": [
    "w = lms(X,y)\n",
    "print(\"w1:\", w[0], \"w2:\", w[1], \"b:\", w[2])"
   ]
  },
  {
   "cell_type": "markdown",
   "metadata": {},
   "source": [
    "(B) What function or method did you use to find the least-squares solution?"
   ]
  },
  {
   "cell_type": "markdown",
   "metadata": {},
   "source": [
    "> Closed form Normal Equation which is derived from $$ y = X^T \\cdot w $$  The Normal equation is written as:  \n",
    "$$ w = (X^T \\cdot X)^{-1}X^T \\cdot y$$\n"
   ]
  },
  {
   "cell_type": "markdown",
   "metadata": {},
   "source": [
    "## Part 2"
   ]
  },
  {
   "cell_type": "markdown",
   "metadata": {},
   "source": [
    "Using the LMS algorithm, write a program that determines the coefficients {w1,w2,b} via incremental updating, steepest descent, and multiple passes through the training data. You will need to experiment with updating rules (online, batch, minibatch), step sizes (i.e., learning rates), stopping criteria, etc. Experiment to find settings that lead to solutions with the fewest number of sweeps through the data."
   ]
  },
  {
   "cell_type": "markdown",
   "metadata": {},
   "source": [
    "Complete the following functions below and use them to answer questions (A), (B) and (C). You may find the shuffle function from scikit-learn useful. \n",
    "\n",
    "Use the following hyperparameters:\n",
    "\n",
    "Learning rates = [0.001, 0.05, 0.01, 0.05, 0.1, 0.3]\n",
    "\n",
    "MaxIter = [10, 50, 100, 500, 1000, 5000, 10000, 25000, 50000]\n",
    "\n",
    "**Note:** Please do not change the interface of the given functions."
   ]
  },
  {
   "cell_type": "code",
   "execution_count": 4,
   "metadata": {},
   "outputs": [],
   "source": [
    "from sklearn.utils import shuffle\n",
    "\n",
    "\n",
    "def cost_(X,y,w):\n",
    "    \"\"\"\n",
    "    takes training example, labels and weights and compute the cost for a particular iteration\n",
    "    \n",
    "    Returns\n",
    "    -------\n",
    "    cost : Mean square error\n",
    "    \"\"\"\n",
    "    num_of_training_samples = len(y)\n",
    "    fx = X.dot(w.T)\n",
    "    cost = (1/(2*num_of_training_samples))*np.sum(np.square(fx-y))\n",
    "    return cost\n",
    "\n",
    "def online_update(X, y, w, alpha = 0.01):\n",
    "    \"\"\"\n",
    "    One iteration of the online update over the entire dataset (one sweep of the dataset).\n",
    "    \n",
    "    Parameters\n",
    "    ----------\n",
    "    X : NumPy array of features (size : no of examples X features)\n",
    "    y : Numpy array of class labels (size : no of examples X 1)\n",
    "    w : array of coefficients from the previous iteration\n",
    "    alpha : Learning rate, default 0.01\n",
    "    \n",
    "    Returns\n",
    "    -------\n",
    "    w : Coefficients of the classifier (after updating)\n",
    "    cost : average cost for one iteration\n",
    "    \"\"\"\n",
    "    cost = 0\n",
    "    for i,x in enumerate(X):\n",
    "        \n",
    "        fx = X[i].dot(w.T)\n",
    "        w = w - alpha*(x*(fx - y[i]))\n",
    "        cost += cost_(X,y,w)\n",
    "    cost /= len(y)\n",
    "    return w,cost\n",
    "\n",
    "def batch_update(X, y, w, alpha = 0.01):\n",
    "    \"\"\"\n",
    "    One iteration of the batch update.\n",
    "    \n",
    "    Parameters\n",
    "    ----------\n",
    "    X : NumPy array of features (size : no of examples X features)\n",
    "    y : Numpy array of class labels (size : no of examples X 1)\n",
    "    w : array of coefficients from the previous iteration\n",
    "    alpha : Learning rate, default 0.01\n",
    "    \n",
    "    Returns\n",
    "    -------\n",
    "    w : Coefficients of the classifier (after updating)\n",
    "    cost : cost of 1 iteration\n",
    "    \"\"\"\n",
    "    \n",
    "    num_of_training_samples = X.shape[0]\n",
    "    fx = X.dot(w.T)\n",
    "    w = w - (1/num_of_training_samples)*alpha*(X.T@(fx - y))\n",
    "    cost = cost_(X,y,w)\n",
    "    return w, cost\n",
    "\n",
    "def mini_batch_update(X, y, w, alpha, batch_size = 10):\n",
    "    \"\"\"\n",
    "    One iteration of the mini-batch update over the entire dataset (one sweep of the dataset).\n",
    "    \n",
    "    Parameters\n",
    "    ----------\n",
    "    X : NumPy array of features (size : no of examples X features)\n",
    "    y : Numpy array of class labels (size : no of examples X 1)\n",
    "    w : array of coefficients from the previous iteration\n",
    "    alpha : Learning rate, default 0.01\n",
    "    batch_size : size of the batch for gradient update\n",
    "    \n",
    "    Returns\n",
    "    -------\n",
    "    w : Coefficients of the classifier (after updating)\n",
    "    cost: cost of 1 iteration\n",
    "    \"\"\"\n",
    "    \n",
    "    batches = int(X.shape[0]/batch_size)\n",
    "    num_of_training_samples = X.shape[0]\n",
    "    cost = 0\n",
    "    for i in range(0,num_of_training_samples,batch_size):\n",
    "        train_X = X[i:i+batch_size]\n",
    "        train_y = y[i:i+batch_size]\n",
    "\n",
    "        w,c = batch_update(train_X,train_y,w,alpha)\n",
    "        cost += c\n",
    "        \n",
    "    cost = cost/batches\n",
    "    \n",
    "    return w,cost\n",
    "\n",
    "def lms_grad_desc(X, y, maxIter, alpha, update, *batch_size):\n",
    "    \"\"\"\n",
    "    Implements the LMS with gradient descent.\n",
    "    \n",
    "    Parameters\n",
    "    ----------\n",
    "    X : NumPy array of features (size : no of examples X features)\n",
    "    y : Numpy array of class labels (size : no of examples X 1)\n",
    "    maxIter : Maximum number of iterations allowed\n",
    "    alpha : Learning rate\n",
    "    update : update function to utilize (one of online, batch, mini-batch)\n",
    "    batch_size : number of examples in a batch (only useful when update = mini_batch_update)\n",
    "    \n",
    "    Returns\n",
    "    -------\n",
    "    w : Coefficients of the classifier (after updating)\n",
    "    \n",
    "    Note : *batch_size is an optional argument and only to be used when doing mini-batch Gradient Descent \n",
    "    \"\"\"\n",
    "    \n",
    "    map = {\"online\":online_update,\"batch\":batch_update,\"mini-batch\":mini_batch_update}\n",
    "    \n",
    "    w = np.zeros(X[0].size)\n",
    "    \n",
    "    \n",
    "#     w_updates = np.zeros(maxIter)\n",
    "    for iter in range(maxIter):\n",
    "        \n",
    "        X,y = shuffle(X,y)\n",
    "        if update == 'mini-batch':\n",
    "            w,cost = map[update](X,y,w,alpha,batch_size[0])\n",
    "        else:\n",
    "            w,cost = map[update](X,y,w,alpha)\n",
    "#         w_updates[iter] = w\n",
    "        cost_updates.append(cost)\n",
    "    \n",
    "        if(iter >1 and abs(cost_updates[-1]-cost_updates[-2])/cost_updates[-2] < 0.001):\n",
    "            break\n",
    "            \n",
    "    if update == \"mini-batch\":\n",
    "        print(\"Batch size: \"+str(batch_size[0]) +\" Learning Rate: \"+str(alpha)+\" Epochs: \"+str(iter)+\" Maximum Iterations: \"+str(maxIter)+\" Error: \"+str(cost_updates[iter]))\n",
    "    else:\n",
    "        print(\"Learning Rate: \"+str(alpha)+\" Epochs: \"+str(iter)+\" Maximum Iterations: \"+str(maxIter)+\" Error: \"+str(cost_updates[iter]))\n",
    "\n",
    "    return w"
   ]
  },
  {
   "cell_type": "markdown",
   "metadata": {},
   "source": [
    "(A) Report the values of $w_1$, $w_2$, and $b$. "
   ]
  },
  {
   "cell_type": "code",
   "execution_count": 8,
   "metadata": {
    "scrolled": false
   },
   "outputs": [
    {
     "name": "stdout",
     "output_type": "stream",
     "text": [
      "Learning Rate: 0.1 Epochs: 24 Maximum Iterations: 10000 Error: 0.613878780865\n",
      "w1: -2.04377317429 w2: 4.0012470224 b: -0.897510001068\n"
     ]
    }
   ],
   "source": [
    "w = lms_grad_desc(X,y,10000,0.1,\"online\")\n",
    "print(\"w1:\", w[0], \"w2:\", w[1], \"b:\", w[2])"
   ]
  },
  {
   "cell_type": "code",
   "execution_count": 9,
   "metadata": {},
   "outputs": [
    {
     "name": "stdout",
     "output_type": "stream",
     "text": [
      "Learning Rate: 0.1 Epochs: 457 Maximum Iterations: 10000 Error: 0.0416539644597\n",
      "w1: -1.973413552 w2: 3.79729431956 b: -0.856425664993\n"
     ]
    }
   ],
   "source": [
    "w = lms_grad_desc(X,y,10000,0.1,\"batch\")\n",
    "print(\"w1:\", w[0], \"w2:\", w[1], \"b:\", w[2])"
   ]
  },
  {
   "cell_type": "code",
   "execution_count": 10,
   "metadata": {},
   "outputs": [
    {
     "name": "stdout",
     "output_type": "stream",
     "text": [
      "Batch size: 10 Learning Rate: 0.1 Epochs: 48 Maximum Iterations: 10000 Error: 0.450799991423\n",
      "w1: -1.98649495028 w2: 3.8403761818 b: -0.861561047441\n"
     ]
    }
   ],
   "source": [
    "w = lms_grad_desc(X,y,10000,0.1,\"mini-batch\",10)\n",
    "print(\"w1:\", w[0], \"w2:\", w[1], \"b:\", w[2])"
   ]
  },
  {
   "cell_type": "code",
   "execution_count": 14,
   "metadata": {
    "scrolled": true
   },
   "outputs": [
    {
     "name": "stdout",
     "output_type": "stream",
     "text": [
      "----------------------------------------------------\n",
      "\n",
      "\t\t\tONLINE\n",
      "\n",
      "\n",
      "------------------Learning rate : 0.001-------------\n",
      "\n",
      "Learning Rate: 0.001 Epochs: 9 Maximum Iterations: 10 Error: 0.6341975846\n",
      "Learning Rate: 0.001 Epochs: 49 Maximum Iterations: 50 Error: 0.380097147146\n",
      "Learning Rate: 0.001 Epochs: 99 Maximum Iterations: 100 Error: 0.205215294832\n",
      "Learning Rate: 0.001 Epochs: 442 Maximum Iterations: 500 Error: 0.0217134160287\n",
      "Learning Rate: 0.001 Epochs: 442 Maximum Iterations: 1000 Error: 0.0217170366381\n",
      "Learning Rate: 0.001 Epochs: 438 Maximum Iterations: 5000 Error: 0.0218233278398\n",
      "Learning Rate: 0.001 Epochs: 440 Maximum Iterations: 10000 Error: 0.0217665460416\n",
      "Learning Rate: 0.001 Epochs: 443 Maximum Iterations: 25000 Error: 0.02169058352\n",
      "Learning Rate: 0.001 Epochs: 444 Maximum Iterations: 50000 Error: 0.021664313007\n",
      "\n",
      "\n",
      "------------------Learning rate : 0.05-------------\n",
      "\n",
      "Learning Rate: 0.05 Epochs: 9 Maximum Iterations: 10 Error: 0.0218328367915\n",
      "Learning Rate: 0.05 Epochs: 49 Maximum Iterations: 50 Error: 0.0205585243839\n",
      "Learning Rate: 0.05 Epochs: 26 Maximum Iterations: 100 Error: 0.0202937756746\n",
      "Learning Rate: 0.05 Epochs: 14 Maximum Iterations: 500 Error: 0.0202660899469\n",
      "Learning Rate: 0.05 Epochs: 20 Maximum Iterations: 1000 Error: 0.0201575581287\n",
      "Learning Rate: 0.05 Epochs: 35 Maximum Iterations: 5000 Error: 0.0200738077911\n",
      "Learning Rate: 0.05 Epochs: 33 Maximum Iterations: 10000 Error: 0.0202872445007\n",
      "Learning Rate: 0.05 Epochs: 47 Maximum Iterations: 25000 Error: 0.0201242590371\n",
      "Learning Rate: 0.05 Epochs: 14 Maximum Iterations: 50000 Error: 0.0202034776265\n",
      "\n",
      "\n",
      "------------------Learning rate : 0.01-------------\n",
      "\n",
      "Learning Rate: 0.01 Epochs: 9 Maximum Iterations: 10 Error: 0.216041602639\n",
      "Learning Rate: 0.01 Epochs: 49 Maximum Iterations: 50 Error: 0.0207215483461\n",
      "Learning Rate: 0.01 Epochs: 59 Maximum Iterations: 100 Error: 0.0200110524369\n",
      "Learning Rate: 0.01 Epochs: 49 Maximum Iterations: 500 Error: 0.0208726032058\n",
      "Learning Rate: 0.01 Epochs: 56 Maximum Iterations: 1000 Error: 0.0201459844634\n",
      "Learning Rate: 0.01 Epochs: 58 Maximum Iterations: 5000 Error: 0.0200910972042\n",
      "Learning Rate: 0.01 Epochs: 57 Maximum Iterations: 10000 Error: 0.0201695903712\n",
      "Learning Rate: 0.01 Epochs: 54 Maximum Iterations: 25000 Error: 0.020305332412\n",
      "Learning Rate: 0.01 Epochs: 57 Maximum Iterations: 50000 Error: 0.0201081640091\n",
      "\n",
      "\n",
      "------------------Learning rate : 0.05-------------\n",
      "\n",
      "Learning Rate: 0.05 Epochs: 9 Maximum Iterations: 10 Error: 0.0215756780409\n",
      "Learning Rate: 0.05 Epochs: 15 Maximum Iterations: 50 Error: 0.0202956283302\n",
      "Learning Rate: 0.05 Epochs: 64 Maximum Iterations: 100 Error: 0.0203043947653\n",
      "Learning Rate: 0.05 Epochs: 30 Maximum Iterations: 500 Error: 0.0201768593762\n",
      "Learning Rate: 0.05 Epochs: 41 Maximum Iterations: 1000 Error: 0.0202573259579\n",
      "Learning Rate: 0.05 Epochs: 42 Maximum Iterations: 5000 Error: 0.020258549461\n",
      "Learning Rate: 0.05 Epochs: 33 Maximum Iterations: 10000 Error: 0.0200856090491\n",
      "Learning Rate: 0.05 Epochs: 19 Maximum Iterations: 25000 Error: 0.0200613881971\n",
      "Learning Rate: 0.05 Epochs: 41 Maximum Iterations: 50000 Error: 0.0200693396685\n",
      "\n",
      "\n",
      "------------------Learning rate : 0.1-------------\n",
      "\n",
      "Learning Rate: 0.1 Epochs: 9 Maximum Iterations: 10 Error: 0.0209587997337\n",
      "Learning Rate: 0.1 Epochs: 49 Maximum Iterations: 50 Error: 0.0208463567558\n",
      "Learning Rate: 0.1 Epochs: 16 Maximum Iterations: 100 Error: 0.0207857968356\n",
      "Learning Rate: 0.1 Epochs: 21 Maximum Iterations: 500 Error: 0.0208475528897\n",
      "Learning Rate: 0.1 Epochs: 48 Maximum Iterations: 1000 Error: 0.0212729208054\n",
      "Learning Rate: 0.1 Epochs: 35 Maximum Iterations: 5000 Error: 0.0208452480509\n",
      "Learning Rate: 0.1 Epochs: 8 Maximum Iterations: 10000 Error: 0.0210858060164\n",
      "Learning Rate: 0.1 Epochs: 29 Maximum Iterations: 25000 Error: 0.0214135297941\n",
      "Learning Rate: 0.1 Epochs: 9 Maximum Iterations: 50000 Error: 0.0205694070782\n",
      "\n",
      "\n",
      "------------------Learning rate : 0.3-------------\n",
      "\n",
      "Learning Rate: 0.3 Epochs: 9 Maximum Iterations: 10 Error: 0.026448373248\n",
      "Learning Rate: 0.3 Epochs: 8 Maximum Iterations: 50 Error: 0.0245294899689\n",
      "Learning Rate: 0.3 Epochs: 17 Maximum Iterations: 100 Error: 0.025979461018\n",
      "Learning Rate: 0.3 Epochs: 22 Maximum Iterations: 500 Error: 0.0256435700181\n",
      "Learning Rate: 0.3 Epochs: 77 Maximum Iterations: 1000 Error: 0.0252088649426\n",
      "Learning Rate: 0.3 Epochs: 21 Maximum Iterations: 5000 Error: 0.0261250088291\n",
      "Learning Rate: 0.3 Epochs: 21 Maximum Iterations: 10000 Error: 0.0251382204905\n",
      "Learning Rate: 0.3 Epochs: 70 Maximum Iterations: 25000 Error: 0.0255598650727\n",
      "Learning Rate: 0.3 Epochs: 35 Maximum Iterations: 50000 Error: 0.0263757787529\n",
      "----------------------------------------------------\n",
      "\n",
      "\t\t\tBATCH\n",
      "\n",
      "\n",
      "------------------Learning rate : 0.001-------------\n",
      "\n",
      "Learning Rate: 0.001 Epochs: 2 Maximum Iterations: 10 Error: 0.725923754177\n",
      "Learning Rate: 0.001 Epochs: 2 Maximum Iterations: 50 Error: 0.725923754177\n",
      "Learning Rate: 0.001 Epochs: 2 Maximum Iterations: 100 Error: 0.725923754177\n",
      "Learning Rate: 0.001 Epochs: 2 Maximum Iterations: 500 Error: 0.725923754177\n",
      "Learning Rate: 0.001 Epochs: 2 Maximum Iterations: 1000 Error: 0.725923754177\n",
      "Learning Rate: 0.001 Epochs: 2 Maximum Iterations: 5000 Error: 0.725923754177\n",
      "Learning Rate: 0.001 Epochs: 2 Maximum Iterations: 10000 Error: 0.725923754177\n",
      "Learning Rate: 0.001 Epochs: 2 Maximum Iterations: 25000 Error: 0.725923754177\n",
      "Learning Rate: 0.001 Epochs: 2 Maximum Iterations: 50000 Error: 0.725923754177\n",
      "\n",
      "\n",
      "------------------Learning rate : 0.05-------------\n",
      "\n",
      "Learning Rate: 0.05 Epochs: 9 Maximum Iterations: 10 Error: 0.674028299494\n",
      "Learning Rate: 0.05 Epochs: 49 Maximum Iterations: 50 Error: 0.519276394402\n",
      "Learning Rate: 0.05 Epochs: 99 Maximum Iterations: 100 Error: 0.377736844989\n",
      "Learning Rate: 0.05 Epochs: 499 Maximum Iterations: 500 Error: 0.0448990530393\n",
      "Learning Rate: 0.05 Epochs: 798 Maximum Iterations: 1000 Error: 0.023215856734\n",
      "Learning Rate: 0.05 Epochs: 798 Maximum Iterations: 5000 Error: 0.023215856734\n",
      "Learning Rate: 0.05 Epochs: 798 Maximum Iterations: 10000 Error: 0.023215856734\n",
      "Learning Rate: 0.05 Epochs: 798 Maximum Iterations: 25000 Error: 0.023215856734\n",
      "Learning Rate: 0.05 Epochs: 798 Maximum Iterations: 50000 Error: 0.023215856734\n",
      "\n",
      "\n",
      "------------------Learning rate : 0.01-------------\n",
      "\n",
      "Learning Rate: 0.01 Epochs: 9 Maximum Iterations: 10 Error: 0.714687714004\n",
      "Learning Rate: 0.01 Epochs: 49 Maximum Iterations: 50 Error: 0.674181033051\n",
      "Learning Rate: 0.01 Epochs: 99 Maximum Iterations: 100 Error: 0.630491489684\n",
      "Learning Rate: 0.01 Epochs: 499 Maximum Iterations: 500 Error: 0.37805518526\n",
      "Learning Rate: 0.01 Epochs: 999 Maximum Iterations: 1000 Error: 0.204094326922\n",
      "Learning Rate: 0.01 Epochs: 1834 Maximum Iterations: 5000 Error: 0.0806577716177\n",
      "Learning Rate: 0.01 Epochs: 1834 Maximum Iterations: 10000 Error: 0.0806577716177\n",
      "Learning Rate: 0.01 Epochs: 1834 Maximum Iterations: 25000 Error: 0.0806577716177\n",
      "Learning Rate: 0.01 Epochs: 1834 Maximum Iterations: 50000 Error: 0.0806577716177\n",
      "\n",
      "\n",
      "------------------Learning rate : 0.05-------------\n",
      "\n",
      "Learning Rate: 0.05 Epochs: 9 Maximum Iterations: 10 Error: 0.674028299494\n",
      "Learning Rate: 0.05 Epochs: 49 Maximum Iterations: 50 Error: 0.519276394402\n",
      "Learning Rate: 0.05 Epochs: 99 Maximum Iterations: 100 Error: 0.377736844989\n",
      "Learning Rate: 0.05 Epochs: 499 Maximum Iterations: 500 Error: 0.0448990530393\n",
      "Learning Rate: 0.05 Epochs: 798 Maximum Iterations: 1000 Error: 0.023215856734\n",
      "Learning Rate: 0.05 Epochs: 798 Maximum Iterations: 5000 Error: 0.023215856734\n",
      "Learning Rate: 0.05 Epochs: 798 Maximum Iterations: 10000 Error: 0.023215856734\n",
      "Learning Rate: 0.05 Epochs: 798 Maximum Iterations: 25000 Error: 0.023215856734\n",
      "Learning Rate: 0.05 Epochs: 798 Maximum Iterations: 50000 Error: 0.023215856734\n",
      "\n",
      "\n",
      "------------------Learning rate : 0.1-------------\n",
      "\n",
      "Learning Rate: 0.1 Epochs: 9 Maximum Iterations: 10 Error: 0.630150631284\n",
      "Learning Rate: 0.1 Epochs: 49 Maximum Iterations: 50 Error: 0.377337720331\n",
      "Learning Rate: 0.1 Epochs: 99 Maximum Iterations: 100 Error: 0.203359329627\n",
      "Learning Rate: 0.1 Epochs: 457 Maximum Iterations: 500 Error: 0.0213175790153\n",
      "Learning Rate: 0.1 Epochs: 457 Maximum Iterations: 1000 Error: 0.0213175790153\n",
      "Learning Rate: 0.1 Epochs: 457 Maximum Iterations: 5000 Error: 0.0213175790153\n"
     ]
    },
    {
     "name": "stdout",
     "output_type": "stream",
     "text": [
      "Learning Rate: 0.1 Epochs: 457 Maximum Iterations: 10000 Error: 0.0213175790153\n",
      "Learning Rate: 0.1 Epochs: 457 Maximum Iterations: 25000 Error: 0.0213175790153\n",
      "Learning Rate: 0.1 Epochs: 457 Maximum Iterations: 50000 Error: 0.0213175790153\n",
      "\n",
      "\n",
      "------------------Learning rate : 0.3-------------\n",
      "\n",
      "Learning Rate: 0.3 Epochs: 9 Maximum Iterations: 10 Error: 0.485484515696\n",
      "Learning Rate: 0.3 Epochs: 49 Maximum Iterations: 50 Error: 0.112871427044\n",
      "Learning Rate: 0.3 Epochs: 99 Maximum Iterations: 100 Error: 0.0322974110737\n",
      "Learning Rate: 0.3 Epochs: 181 Maximum Iterations: 500 Error: 0.0201898138323\n",
      "Learning Rate: 0.3 Epochs: 181 Maximum Iterations: 1000 Error: 0.0201898138323\n",
      "Learning Rate: 0.3 Epochs: 181 Maximum Iterations: 5000 Error: 0.0201898138323\n",
      "Learning Rate: 0.3 Epochs: 181 Maximum Iterations: 10000 Error: 0.0201898138323\n",
      "Learning Rate: 0.3 Epochs: 181 Maximum Iterations: 25000 Error: 0.0201898138323\n",
      "Learning Rate: 0.3 Epochs: 181 Maximum Iterations: 50000 Error: 0.0201898138323\n",
      "----------------------------------------------------\n",
      "\n",
      "\t\t\tMINI-BATCH\n",
      "\n",
      "\n",
      "------------------Learning rate : 0.001-------------\n",
      "\n",
      "Batch size: 5 Learning Rate: 0.001 Epochs: 9 Maximum Iterations: 10 Error: 0.704626465411\n",
      "Batch size: 10 Learning Rate: 0.001 Epochs: 9 Maximum Iterations: 10 Error: 0.715158024795\n",
      "Batch size: 20 Learning Rate: 0.001 Epochs: 2 Maximum Iterations: 10 Error: 0.724650092175\n",
      "Batch size: 25 Learning Rate: 0.001 Epochs: 2 Maximum Iterations: 10 Error: 0.725010350204\n",
      "Batch size: 50 Learning Rate: 0.001 Epochs: 2 Maximum Iterations: 10 Error: 0.72562123977\n",
      "Batch size: 5 Learning Rate: 0.001 Epochs: 49 Maximum Iterations: 50 Error: 0.63110699634\n",
      "Batch size: 10 Learning Rate: 0.001 Epochs: 49 Maximum Iterations: 50 Error: 0.674539084632\n",
      "Batch size: 20 Learning Rate: 0.001 Epochs: 2 Maximum Iterations: 50 Error: 0.724714889723\n",
      "Batch size: 25 Learning Rate: 0.001 Epochs: 2 Maximum Iterations: 50 Error: 0.725012124503\n",
      "Batch size: 50 Learning Rate: 0.001 Epochs: 2 Maximum Iterations: 50 Error: 0.725600466221\n",
      "Batch size: 5 Learning Rate: 0.001 Epochs: 99 Maximum Iterations: 100 Error: 0.55443652656\n",
      "Batch size: 10 Learning Rate: 0.001 Epochs: 99 Maximum Iterations: 100 Error: 0.630803217686\n",
      "Batch size: 20 Learning Rate: 0.001 Epochs: 2 Maximum Iterations: 100 Error: 0.724621822681\n",
      "Batch size: 25 Learning Rate: 0.001 Epochs: 2 Maximum Iterations: 100 Error: 0.725002843642\n",
      "Batch size: 50 Learning Rate: 0.001 Epochs: 2 Maximum Iterations: 100 Error: 0.725617442693\n",
      "Batch size: 5 Learning Rate: 0.001 Epochs: 499 Maximum Iterations: 500 Error: 0.204271294001\n",
      "Batch size: 10 Learning Rate: 0.001 Epochs: 499 Maximum Iterations: 500 Error: 0.37824372356\n",
      "Batch size: 20 Learning Rate: 0.001 Epochs: 2 Maximum Iterations: 500 Error: 0.724694702837\n",
      "Batch size: 25 Learning Rate: 0.001 Epochs: 2 Maximum Iterations: 500 Error: 0.72501349144\n",
      "Batch size: 50 Learning Rate: 0.001 Epochs: 2 Maximum Iterations: 500 Error: 0.725611598362\n",
      "Batch size: 5 Learning Rate: 0.001 Epochs: 999 Maximum Iterations: 1000 Error: 0.0687598503838\n",
      "Batch size: 10 Learning Rate: 0.001 Epochs: 904 Maximum Iterations: 1000 Error: 0.229054846387\n",
      "Batch size: 20 Learning Rate: 0.001 Epochs: 2 Maximum Iterations: 1000 Error: 0.724698099167\n",
      "Batch size: 25 Learning Rate: 0.001 Epochs: 2 Maximum Iterations: 1000 Error: 0.724996758995\n",
      "Batch size: 50 Learning Rate: 0.001 Epochs: 2 Maximum Iterations: 1000 Error: 0.725614506258\n",
      "Batch size: 5 Learning Rate: 0.001 Epochs: 1369 Maximum Iterations: 5000 Error: 0.0381651872678\n",
      "Batch size: 10 Learning Rate: 0.001 Epochs: 654 Maximum Iterations: 5000 Error: 0.311525524377\n",
      "Batch size: 20 Learning Rate: 0.001 Epochs: 2 Maximum Iterations: 5000 Error: 0.724701213335\n",
      "Batch size: 25 Learning Rate: 0.001 Epochs: 2 Maximum Iterations: 5000 Error: 0.724968166151\n",
      "Batch size: 50 Learning Rate: 0.001 Epochs: 2 Maximum Iterations: 5000 Error: 0.72559870083\n",
      "Batch size: 5 Learning Rate: 0.001 Epochs: 1428 Maximum Iterations: 10000 Error: 0.0355032714794\n",
      "Batch size: 10 Learning Rate: 0.001 Epochs: 316 Maximum Iterations: 10000 Error: 0.477113310871\n",
      "Batch size: 20 Learning Rate: 0.001 Epochs: 2 Maximum Iterations: 10000 Error: 0.724698780955\n",
      "Batch size: 25 Learning Rate: 0.001 Epochs: 2 Maximum Iterations: 10000 Error: 0.725019031639\n",
      "Batch size: 50 Learning Rate: 0.001 Epochs: 2 Maximum Iterations: 10000 Error: 0.725618474631\n",
      "Batch size: 5 Learning Rate: 0.001 Epochs: 1404 Maximum Iterations: 25000 Error: 0.0365368454166\n",
      "Batch size: 10 Learning Rate: 0.001 Epochs: 982 Maximum Iterations: 25000 Error: 0.208458597155\n",
      "Batch size: 20 Learning Rate: 0.001 Epochs: 2 Maximum Iterations: 25000 Error: 0.724614644464\n",
      "Batch size: 25 Learning Rate: 0.001 Epochs: 2 Maximum Iterations: 25000 Error: 0.725023196413\n",
      "Batch size: 50 Learning Rate: 0.001 Epochs: 2 Maximum Iterations: 25000 Error: 0.725621897358\n",
      "Batch size: 5 Learning Rate: 0.001 Epochs: 1411 Maximum Iterations: 50000 Error: 0.036230501079\n",
      "Batch size: 10 Learning Rate: 0.001 Epochs: 927 Maximum Iterations: 50000 Error: 0.222754387002\n",
      "Batch size: 20 Learning Rate: 0.001 Epochs: 2 Maximum Iterations: 50000 Error: 0.724722257782\n",
      "Batch size: 25 Learning Rate: 0.001 Epochs: 2 Maximum Iterations: 50000 Error: 0.724981733637\n",
      "Batch size: 50 Learning Rate: 0.001 Epochs: 2 Maximum Iterations: 50000 Error: 0.725616080103\n",
      "\n",
      "\n",
      "------------------Learning rate : 0.05-------------\n",
      "\n",
      "Batch size: 5 Learning Rate: 0.05 Epochs: 9 Maximum Iterations: 10 Error: 0.209393166684\n",
      "Batch size: 10 Learning Rate: 0.05 Epochs: 9 Maximum Iterations: 10 Error: 0.386128047547\n",
      "Batch size: 20 Learning Rate: 0.05 Epochs: 9 Maximum Iterations: 10 Error: 0.525360637975\n",
      "Batch size: 25 Learning Rate: 0.05 Epochs: 9 Maximum Iterations: 10 Error: 0.558196240534\n",
      "Batch size: 50 Learning Rate: 0.05 Epochs: 9 Maximum Iterations: 10 Error: 0.632084499773\n",
      "Batch size: 5 Learning Rate: 0.05 Epochs: 49 Maximum Iterations: 50 Error: 0.0203344798408\n",
      "Batch size: 10 Learning Rate: 0.05 Epochs: 49 Maximum Iterations: 50 Error: 0.0451923936951\n",
      "Batch size: 20 Learning Rate: 0.05 Epochs: 49 Maximum Iterations: 50 Error: 0.152750723193\n",
      "Batch size: 25 Learning Rate: 0.05 Epochs: 49 Maximum Iterations: 50 Error: 0.205089830822\n",
      "Batch size: 50 Learning Rate: 0.05 Epochs: 49 Maximum Iterations: 50 Error: 0.378302215466\n",
      "Batch size: 5 Learning Rate: 0.05 Epochs: 55 Maximum Iterations: 100 Error: 0.019837303886\n",
      "Batch size: 10 Learning Rate: 0.05 Epochs: 90 Maximum Iterations: 100 Error: 0.0213389522137\n",
      "Batch size: 20 Learning Rate: 0.05 Epochs: 99 Maximum Iterations: 100 Error: 0.0450387020357\n",
      "Batch size: 25 Learning Rate: 0.05 Epochs: 99 Maximum Iterations: 100 Error: 0.0687430683793\n",
      "Batch size: 50 Learning Rate: 0.05 Epochs: 99 Maximum Iterations: 100 Error: 0.204285843474\n",
      "Batch size: 5 Learning Rate: 0.05 Epochs: 62 Maximum Iterations: 500 Error: 0.019604867738\n",
      "Batch size: 10 Learning Rate: 0.05 Epochs: 95 Maximum Iterations: 500 Error: 0.0208087444536\n",
      "Batch size: 20 Learning Rate: 0.05 Epochs: 163 Maximum Iterations: 500 Error: 0.0227490260025\n",
      "Batch size: 25 Learning Rate: 0.05 Epochs: 188 Maximum Iterations: 500 Error: 0.0243564569527\n",
      "Batch size: 50 Learning Rate: 0.05 Epochs: 300 Maximum Iterations: 500 Error: 0.0325207503598\n",
      "Batch size: 5 Learning Rate: 0.05 Epochs: 39 Maximum Iterations: 1000 Error: 0.0231149408944\n",
      "Batch size: 10 Learning Rate: 0.05 Epochs: 97 Maximum Iterations: 1000 Error: 0.0206982417723\n",
      "Batch size: 20 Learning Rate: 0.05 Epochs: 156 Maximum Iterations: 1000 Error: 0.0235603963363\n",
      "Batch size: 25 Learning Rate: 0.05 Epochs: 201 Maximum Iterations: 1000 Error: 0.0230223796744\n",
      "Batch size: 50 Learning Rate: 0.05 Epochs: 350 Maximum Iterations: 1000 Error: 0.0263546767707\n",
      "Batch size: 5 Learning Rate: 0.05 Epochs: 58 Maximum Iterations: 5000 Error: 0.0195813630984\n",
      "Batch size: 10 Learning Rate: 0.05 Epochs: 98 Maximum Iterations: 5000 Error: 0.0204820906509\n",
      "Batch size: 20 Learning Rate: 0.05 Epochs: 176 Maximum Iterations: 5000 Error: 0.0216919942268\n",
      "Batch size: 25 Learning Rate: 0.05 Epochs: 205 Maximum Iterations: 5000 Error: 0.0226901353316\n",
      "Batch size: 50 Learning Rate: 0.05 Epochs: 324 Maximum Iterations: 5000 Error: 0.0290677816399\n",
      "Batch size: 5 Learning Rate: 0.05 Epochs: 62 Maximum Iterations: 10000 Error: 0.0195903035813\n",
      "Batch size: 10 Learning Rate: 0.05 Epochs: 93 Maximum Iterations: 10000 Error: 0.0210453534258\n",
      "Batch size: 20 Learning Rate: 0.05 Epochs: 168 Maximum Iterations: 10000 Error: 0.0222864429692\n",
      "Batch size: 25 Learning Rate: 0.05 Epochs: 180 Maximum Iterations: 10000 Error: 0.025442357743\n",
      "Batch size: 50 Learning Rate: 0.05 Epochs: 374 Maximum Iterations: 10000 Error: 0.02453832466\n",
      "Batch size: 5 Learning Rate: 0.05 Epochs: 54 Maximum Iterations: 25000 Error: 0.0198283586314\n"
     ]
    },
    {
     "name": "stdout",
     "output_type": "stream",
     "text": [
      "Batch size: 10 Learning Rate: 0.05 Epochs: 86 Maximum Iterations: 25000 Error: 0.0217655381149\n",
      "Batch size: 20 Learning Rate: 0.05 Epochs: 149 Maximum Iterations: 25000 Error: 0.0244468493824\n",
      "Batch size: 25 Learning Rate: 0.05 Epochs: 181 Maximum Iterations: 25000 Error: 0.0252817269837\n",
      "Batch size: 50 Learning Rate: 0.05 Epochs: 326 Maximum Iterations: 25000 Error: 0.028828436886\n",
      "Batch size: 5 Learning Rate: 0.05 Epochs: 57 Maximum Iterations: 50000 Error: 0.0197894995194\n",
      "Batch size: 10 Learning Rate: 0.05 Epochs: 75 Maximum Iterations: 50000 Error: 0.0241271670953\n",
      "Batch size: 20 Learning Rate: 0.05 Epochs: 148 Maximum Iterations: 50000 Error: 0.0247222618403\n",
      "Batch size: 25 Learning Rate: 0.05 Epochs: 181 Maximum Iterations: 50000 Error: 0.0252964083497\n",
      "Batch size: 50 Learning Rate: 0.05 Epochs: 329 Maximum Iterations: 50000 Error: 0.0284630110921\n",
      "\n",
      "\n",
      "------------------Learning rate : 0.01-------------\n",
      "\n",
      "Batch size: 5 Learning Rate: 0.01 Epochs: 9 Maximum Iterations: 10 Error: 0.558683400446\n",
      "Batch size: 10 Learning Rate: 0.01 Epochs: 9 Maximum Iterations: 10 Error: 0.632765324361\n",
      "Batch size: 20 Learning Rate: 0.01 Epochs: 9 Maximum Iterations: 10 Error: 0.675735521565\n",
      "Batch size: 25 Learning Rate: 0.01 Epochs: 9 Maximum Iterations: 10 Error: 0.685033332431\n",
      "Batch size: 50 Learning Rate: 0.01 Epochs: 9 Maximum Iterations: 10 Error: 0.704044089741\n",
      "Batch size: 5 Learning Rate: 0.01 Epochs: 49 Maximum Iterations: 50 Error: 0.205428353364\n",
      "Batch size: 10 Learning Rate: 0.01 Epochs: 49 Maximum Iterations: 50 Error: 0.379715345881\n",
      "Batch size: 20 Learning Rate: 0.01 Epochs: 49 Maximum Iterations: 50 Error: 0.520292463994\n",
      "Batch size: 25 Learning Rate: 0.01 Epochs: 49 Maximum Iterations: 50 Error: 0.554757626514\n",
      "Batch size: 50 Learning Rate: 0.01 Epochs: 49 Maximum Iterations: 50 Error: 0.630884524301\n",
      "Batch size: 5 Learning Rate: 0.01 Epochs: 99 Maximum Iterations: 100 Error: 0.0689367567561\n",
      "Batch size: 10 Learning Rate: 0.01 Epochs: 99 Maximum Iterations: 100 Error: 0.204633554766\n",
      "Batch size: 20 Learning Rate: 0.01 Epochs: 99 Maximum Iterations: 100 Error: 0.37865947578\n",
      "Batch size: 25 Learning Rate: 0.01 Epochs: 99 Maximum Iterations: 100 Error: 0.429477156491\n",
      "Batch size: 50 Learning Rate: 0.01 Epochs: 99 Maximum Iterations: 100 Error: 0.554251149661\n",
      "Batch size: 5 Learning Rate: 0.01 Epochs: 208 Maximum Iterations: 500 Error: 0.0224483230283\n",
      "Batch size: 10 Learning Rate: 0.01 Epochs: 368 Maximum Iterations: 500 Error: 0.0249638017363\n",
      "Batch size: 20 Learning Rate: 0.01 Epochs: 499 Maximum Iterations: 500 Error: 0.0449945914329\n",
      "Batch size: 25 Learning Rate: 0.01 Epochs: 499 Maximum Iterations: 500 Error: 0.0686506969259\n",
      "Batch size: 50 Learning Rate: 0.01 Epochs: 499 Maximum Iterations: 500 Error: 0.204170762203\n",
      "Batch size: 5 Learning Rate: 0.01 Epochs: 221 Maximum Iterations: 1000 Error: 0.0216354991262\n",
      "Batch size: 10 Learning Rate: 0.01 Epochs: 399 Maximum Iterations: 1000 Error: 0.0232048546179\n",
      "Batch size: 20 Learning Rate: 0.01 Epochs: 668 Maximum Iterations: 1000 Error: 0.0280152862123\n",
      "Batch size: 25 Learning Rate: 0.01 Epochs: 785 Maximum Iterations: 1000 Error: 0.0305307025642\n",
      "Batch size: 50 Learning Rate: 0.01 Epochs: 90 Maximum Iterations: 1000 Error: 0.567109721141\n",
      "Batch size: 5 Learning Rate: 0.01 Epochs: 216 Maximum Iterations: 5000 Error: 0.0219288461871\n",
      "Batch size: 10 Learning Rate: 0.01 Epochs: 377 Maximum Iterations: 5000 Error: 0.0243853141318\n",
      "Batch size: 20 Learning Rate: 0.01 Epochs: 649 Maximum Iterations: 5000 Error: 0.0291249752072\n",
      "Batch size: 25 Learning Rate: 0.01 Epochs: 764 Maximum Iterations: 5000 Error: 0.0317952544657\n",
      "Batch size: 50 Learning Rate: 0.01 Epochs: 414 Maximum Iterations: 5000 Error: 0.250905193265\n",
      "Batch size: 5 Learning Rate: 0.01 Epochs: 222 Maximum Iterations: 10000 Error: 0.0215950258284\n",
      "Batch size: 10 Learning Rate: 0.01 Epochs: 385 Maximum Iterations: 10000 Error: 0.0239140845614\n",
      "Batch size: 20 Learning Rate: 0.01 Epochs: 642 Maximum Iterations: 10000 Error: 0.0295728244533\n",
      "Batch size: 25 Learning Rate: 0.01 Epochs: 761 Maximum Iterations: 10000 Error: 0.0319893810559\n",
      "Batch size: 50 Learning Rate: 0.01 Epochs: 954 Maximum Iterations: 10000 Error: 0.0749224923327\n",
      "Batch size: 5 Learning Rate: 0.01 Epochs: 219 Maximum Iterations: 25000 Error: 0.0217477514498\n",
      "Batch size: 10 Learning Rate: 0.01 Epochs: 382 Maximum Iterations: 25000 Error: 0.0240849392132\n",
      "Batch size: 20 Learning Rate: 0.01 Epochs: 672 Maximum Iterations: 25000 Error: 0.027804217679\n",
      "Batch size: 25 Learning Rate: 0.01 Epochs: 786 Maximum Iterations: 25000 Error: 0.0304804499452\n",
      "Batch size: 50 Learning Rate: 0.01 Epochs: 761 Maximum Iterations: 25000 Error: 0.111752875869\n",
      "Batch size: 5 Learning Rate: 0.01 Epochs: 206 Maximum Iterations: 50000 Error: 0.0225930198415\n",
      "Batch size: 10 Learning Rate: 0.01 Epochs: 413 Maximum Iterations: 50000 Error: 0.0226086767226\n",
      "Batch size: 20 Learning Rate: 0.01 Epochs: 487 Maximum Iterations: 50000 Error: 0.0471103353643\n",
      "Batch size: 25 Learning Rate: 0.01 Epochs: 737 Maximum Iterations: 50000 Error: 0.0336450409856\n",
      "Batch size: 50 Learning Rate: 0.01 Epochs: 1081 Maximum Iterations: 50000 Error: 0.0591656683061\n",
      "\n",
      "\n",
      "------------------Learning rate : 0.05-------------\n",
      "\n",
      "Batch size: 5 Learning Rate: 0.05 Epochs: 9 Maximum Iterations: 10 Error: 0.209106202721\n",
      "Batch size: 10 Learning Rate: 0.05 Epochs: 9 Maximum Iterations: 10 Error: 0.382442079466\n",
      "Batch size: 20 Learning Rate: 0.05 Epochs: 9 Maximum Iterations: 10 Error: 0.523979960503\n",
      "Batch size: 25 Learning Rate: 0.05 Epochs: 9 Maximum Iterations: 10 Error: 0.556880671499\n",
      "Batch size: 50 Learning Rate: 0.05 Epochs: 9 Maximum Iterations: 10 Error: 0.631937010089\n",
      "Batch size: 5 Learning Rate: 0.05 Epochs: 49 Maximum Iterations: 50 Error: 0.0204717134656\n",
      "Batch size: 10 Learning Rate: 0.05 Epochs: 49 Maximum Iterations: 50 Error: 0.0451729237019\n",
      "Batch size: 20 Learning Rate: 0.05 Epochs: 49 Maximum Iterations: 50 Error: 0.152780366186\n",
      "Batch size: 25 Learning Rate: 0.05 Epochs: 49 Maximum Iterations: 50 Error: 0.205023566444\n",
      "Batch size: 50 Learning Rate: 0.05 Epochs: 49 Maximum Iterations: 50 Error: 0.378782042413\n",
      "Batch size: 5 Learning Rate: 0.05 Epochs: 45 Maximum Iterations: 100 Error: 0.0210050122204\n",
      "Batch size: 10 Learning Rate: 0.05 Epochs: 99 Maximum Iterations: 100 Error: 0.020480081361\n",
      "Batch size: 20 Learning Rate: 0.05 Epochs: 99 Maximum Iterations: 100 Error: 0.0447539769063\n",
      "Batch size: 25 Learning Rate: 0.05 Epochs: 99 Maximum Iterations: 100 Error: 0.0686309995683\n",
      "Batch size: 50 Learning Rate: 0.05 Epochs: 99 Maximum Iterations: 100 Error: 0.204201354343\n",
      "Batch size: 5 Learning Rate: 0.05 Epochs: 58 Maximum Iterations: 500 Error: 0.019577057069\n",
      "Batch size: 10 Learning Rate: 0.05 Epochs: 68 Maximum Iterations: 500 Error: 0.0268546853176\n",
      "Batch size: 20 Learning Rate: 0.05 Epochs: 183 Maximum Iterations: 500 Error: 0.0212431703164\n",
      "Batch size: 25 Learning Rate: 0.05 Epochs: 200 Maximum Iterations: 500 Error: 0.0230948870588\n",
      "Batch size: 50 Learning Rate: 0.05 Epochs: 198 Maximum Iterations: 500 Error: 0.0692428103389\n",
      "Batch size: 5 Learning Rate: 0.05 Epochs: 63 Maximum Iterations: 1000 Error: 0.0195197753321\n",
      "Batch size: 10 Learning Rate: 0.05 Epochs: 86 Maximum Iterations: 1000 Error: 0.0218623416553\n",
      "Batch size: 20 Learning Rate: 0.05 Epochs: 168 Maximum Iterations: 1000 Error: 0.0223001515173\n",
      "Batch size: 25 Learning Rate: 0.05 Epochs: 198 Maximum Iterations: 1000 Error: 0.0232767471267\n",
      "Batch size: 50 Learning Rate: 0.05 Epochs: 274 Maximum Iterations: 1000 Error: 0.0378391982354\n",
      "Batch size: 5 Learning Rate: 0.05 Epochs: 60 Maximum Iterations: 5000 Error: 0.0196247574126\n",
      "Batch size: 10 Learning Rate: 0.05 Epochs: 88 Maximum Iterations: 5000 Error: 0.0216011732808\n",
      "Batch size: 20 Learning Rate: 0.05 Epochs: 174 Maximum Iterations: 5000 Error: 0.0218140138406\n",
      "Batch size: 25 Learning Rate: 0.05 Epochs: 201 Maximum Iterations: 5000 Error: 0.0230038225062\n",
      "Batch size: 50 Learning Rate: 0.05 Epochs: 283 Maximum Iterations: 5000 Error: 0.0358024569807\n",
      "Batch size: 5 Learning Rate: 0.05 Epochs: 67 Maximum Iterations: 10000 Error: 0.0195305805379\n",
      "Batch size: 10 Learning Rate: 0.05 Epochs: 74 Maximum Iterations: 10000 Error: 0.0244903854199\n",
      "Batch size: 20 Learning Rate: 0.05 Epochs: 183 Maximum Iterations: 10000 Error: 0.0212354995509\n"
     ]
    },
    {
     "name": "stdout",
     "output_type": "stream",
     "text": [
      "Batch size: 25 Learning Rate: 0.05 Epochs: 195 Maximum Iterations: 10000 Error: 0.0235746094528\n",
      "Batch size: 50 Learning Rate: 0.05 Epochs: 338 Maximum Iterations: 10000 Error: 0.0274878262757\n",
      "Batch size: 5 Learning Rate: 0.05 Epochs: 67 Maximum Iterations: 25000 Error: 0.0194386369782\n",
      "Batch size: 10 Learning Rate: 0.05 Epochs: 107 Maximum Iterations: 25000 Error: 0.0201621469356\n",
      "Batch size: 20 Learning Rate: 0.05 Epochs: 189 Maximum Iterations: 25000 Error: 0.0209518481569\n",
      "Batch size: 25 Learning Rate: 0.05 Epochs: 192 Maximum Iterations: 25000 Error: 0.0238794278096\n",
      "Batch size: 50 Learning Rate: 0.05 Epochs: 375 Maximum Iterations: 25000 Error: 0.0244914319348\n",
      "Batch size: 5 Learning Rate: 0.05 Epochs: 56 Maximum Iterations: 50000 Error: 0.0198648720477\n",
      "Batch size: 10 Learning Rate: 0.05 Epochs: 94 Maximum Iterations: 50000 Error: 0.0209337251891\n",
      "Batch size: 20 Learning Rate: 0.05 Epochs: 140 Maximum Iterations: 50000 Error: 0.0262099690682\n",
      "Batch size: 25 Learning Rate: 0.05 Epochs: 184 Maximum Iterations: 50000 Error: 0.0249002061271\n",
      "Batch size: 50 Learning Rate: 0.05 Epochs: 292 Maximum Iterations: 50000 Error: 0.0339643841717\n",
      "\n",
      "\n",
      "------------------Learning rate : 0.1-------------\n",
      "\n",
      "Batch size: 5 Learning Rate: 0.1 Epochs: 9 Maximum Iterations: 10 Error: 0.0705124495324\n",
      "Batch size: 10 Learning Rate: 0.1 Epochs: 9 Maximum Iterations: 10 Error: 0.209189810427\n",
      "Batch size: 20 Learning Rate: 0.1 Epochs: 9 Maximum Iterations: 10 Error: 0.384227548509\n",
      "Batch size: 25 Learning Rate: 0.1 Epochs: 9 Maximum Iterations: 10 Error: 0.435088250846\n",
      "Batch size: 50 Learning Rate: 0.1 Epochs: 9 Maximum Iterations: 10 Error: 0.556156669913\n",
      "Batch size: 5 Learning Rate: 0.1 Epochs: 37 Maximum Iterations: 50 Error: 0.019172693624\n",
      "Batch size: 10 Learning Rate: 0.1 Epochs: 46 Maximum Iterations: 50 Error: 0.0209130955383\n",
      "Batch size: 20 Learning Rate: 0.1 Epochs: 49 Maximum Iterations: 50 Error: 0.0447191852551\n",
      "Batch size: 25 Learning Rate: 0.1 Epochs: 49 Maximum Iterations: 50 Error: 0.0682996517378\n",
      "Batch size: 50 Learning Rate: 0.1 Epochs: 49 Maximum Iterations: 50 Error: 0.204206745346\n",
      "Batch size: 5 Learning Rate: 0.1 Epochs: 51 Maximum Iterations: 100 Error: 0.0190003867301\n",
      "Batch size: 10 Learning Rate: 0.1 Epochs: 68 Maximum Iterations: 100 Error: 0.0195515285995\n",
      "Batch size: 20 Learning Rate: 0.1 Epochs: 80 Maximum Iterations: 100 Error: 0.0228117757741\n",
      "Batch size: 25 Learning Rate: 0.1 Epochs: 91 Maximum Iterations: 100 Error: 0.0249671464496\n",
      "Batch size: 50 Learning Rate: 0.1 Epochs: 99 Maximum Iterations: 100 Error: 0.0685274145154\n",
      "Batch size: 5 Learning Rate: 0.1 Epochs: 82 Maximum Iterations: 500 Error: 0.0187753665519\n",
      "Batch size: 10 Learning Rate: 0.1 Epochs: 83 Maximum Iterations: 500 Error: 0.0191298075389\n",
      "Batch size: 20 Learning Rate: 0.1 Epochs: 105 Maximum Iterations: 500 Error: 0.0202793817068\n",
      "Batch size: 25 Learning Rate: 0.1 Epochs: 98 Maximum Iterations: 500 Error: 0.0232193558491\n",
      "Batch size: 50 Learning Rate: 0.1 Epochs: 179 Maximum Iterations: 500 Error: 0.0255801103793\n",
      "Batch size: 5 Learning Rate: 0.1 Epochs: 110 Maximum Iterations: 1000 Error: 0.0191448918214\n",
      "Batch size: 10 Learning Rate: 0.1 Epochs: 45 Maximum Iterations: 1000 Error: 0.0209881439321\n",
      "Batch size: 20 Learning Rate: 0.1 Epochs: 90 Maximum Iterations: 1000 Error: 0.0212957261006\n",
      "Batch size: 25 Learning Rate: 0.1 Epochs: 117 Maximum Iterations: 1000 Error: 0.0210032266098\n",
      "Batch size: 50 Learning Rate: 0.1 Epochs: 190 Maximum Iterations: 1000 Error: 0.0240844461675\n",
      "Batch size: 5 Learning Rate: 0.1 Epochs: 31 Maximum Iterations: 5000 Error: 0.0190542388799\n",
      "Batch size: 10 Learning Rate: 0.1 Epochs: 46 Maximum Iterations: 5000 Error: 0.0209910464489\n",
      "Batch size: 20 Learning Rate: 0.1 Epochs: 92 Maximum Iterations: 5000 Error: 0.0210029352184\n",
      "Batch size: 25 Learning Rate: 0.1 Epochs: 105 Maximum Iterations: 5000 Error: 0.0222092991269\n",
      "Batch size: 50 Learning Rate: 0.1 Epochs: 193 Maximum Iterations: 5000 Error: 0.0237571022964\n",
      "Batch size: 5 Learning Rate: 0.1 Epochs: 44 Maximum Iterations: 10000 Error: 0.0190683139683\n",
      "Batch size: 10 Learning Rate: 0.1 Epochs: 49 Maximum Iterations: 10000 Error: 0.0203179814581\n",
      "Batch size: 20 Learning Rate: 0.1 Epochs: 86 Maximum Iterations: 10000 Error: 0.0218046375747\n",
      "Batch size: 25 Learning Rate: 0.1 Epochs: 110 Maximum Iterations: 10000 Error: 0.0215412779859\n",
      "Batch size: 50 Learning Rate: 0.1 Epochs: 161 Maximum Iterations: 10000 Error: 0.0290898020942\n",
      "Batch size: 5 Learning Rate: 0.1 Epochs: 40 Maximum Iterations: 25000 Error: 0.0192522364586\n",
      "Batch size: 10 Learning Rate: 0.1 Epochs: 82 Maximum Iterations: 25000 Error: 0.0194925977139\n",
      "Batch size: 20 Learning Rate: 0.1 Epochs: 102 Maximum Iterations: 25000 Error: 0.0204350589198\n",
      "Batch size: 25 Learning Rate: 0.1 Epochs: 124 Maximum Iterations: 25000 Error: 0.0205530424859\n",
      "Batch size: 50 Learning Rate: 0.1 Epochs: 175 Maximum Iterations: 25000 Error: 0.0262121766562\n",
      "Batch size: 5 Learning Rate: 0.1 Epochs: 36 Maximum Iterations: 50000 Error: 0.0190142405084\n",
      "Batch size: 10 Learning Rate: 0.1 Epochs: 56 Maximum Iterations: 50000 Error: 0.0199755570263\n",
      "Batch size: 20 Learning Rate: 0.1 Epochs: 91 Maximum Iterations: 50000 Error: 0.0211238616599\n",
      "Batch size: 25 Learning Rate: 0.1 Epochs: 112 Maximum Iterations: 50000 Error: 0.0213900268342\n",
      "Batch size: 50 Learning Rate: 0.1 Epochs: 189 Maximum Iterations: 50000 Error: 0.0241995044547\n",
      "\n",
      "\n",
      "------------------Learning rate : 0.3-------------\n",
      "\n",
      "Batch size: 5 Learning Rate: 0.3 Epochs: 9 Maximum Iterations: 10 Error: 0.0169451173966\n",
      "Batch size: 10 Learning Rate: 0.3 Epochs: 9 Maximum Iterations: 10 Error: 0.0316217989969\n",
      "Batch size: 20 Learning Rate: 0.3 Epochs: 9 Maximum Iterations: 10 Error: 0.117365501244\n",
      "Batch size: 25 Learning Rate: 0.3 Epochs: 9 Maximum Iterations: 10 Error: 0.165875304266\n",
      "Batch size: 50 Learning Rate: 0.3 Epochs: 9 Maximum Iterations: 10 Error: 0.336647908085\n",
      "Batch size: 5 Learning Rate: 0.3 Epochs: 49 Maximum Iterations: 50 Error: 0.0168296621572\n",
      "Batch size: 10 Learning Rate: 0.3 Epochs: 49 Maximum Iterations: 50 Error: 0.018831276273\n",
      "Batch size: 20 Learning Rate: 0.3 Epochs: 37 Maximum Iterations: 50 Error: 0.0194069997737\n",
      "Batch size: 25 Learning Rate: 0.3 Epochs: 44 Maximum Iterations: 50 Error: 0.0201126713581\n",
      "Batch size: 50 Learning Rate: 0.3 Epochs: 49 Maximum Iterations: 50 Error: 0.0319599746218\n",
      "Batch size: 5 Learning Rate: 0.3 Epochs: 9 Maximum Iterations: 100 Error: 0.0172168065734\n",
      "Batch size: 10 Learning Rate: 0.3 Epochs: 27 Maximum Iterations: 100 Error: 0.0185073321059\n",
      "Batch size: 20 Learning Rate: 0.3 Epochs: 59 Maximum Iterations: 100 Error: 0.0195053039548\n",
      "Batch size: 25 Learning Rate: 0.3 Epochs: 87 Maximum Iterations: 100 Error: 0.0195139217314\n",
      "Batch size: 50 Learning Rate: 0.3 Epochs: 74 Maximum Iterations: 100 Error: 0.0212750529913\n",
      "Batch size: 5 Learning Rate: 0.3 Epochs: 11 Maximum Iterations: 500 Error: 0.0167828546344\n",
      "Batch size: 10 Learning Rate: 0.3 Epochs: 21 Maximum Iterations: 500 Error: 0.0181741186186\n",
      "Batch size: 20 Learning Rate: 0.3 Epochs: 74 Maximum Iterations: 500 Error: 0.0193643168966\n",
      "Batch size: 25 Learning Rate: 0.3 Epochs: 55 Maximum Iterations: 500 Error: 0.0197202748729\n",
      "Batch size: 50 Learning Rate: 0.3 Epochs: 92 Maximum Iterations: 500 Error: 0.0201073458552\n",
      "Batch size: 5 Learning Rate: 0.3 Epochs: 8 Maximum Iterations: 1000 Error: 0.0182710370369\n",
      "Batch size: 10 Learning Rate: 0.3 Epochs: 20 Maximum Iterations: 1000 Error: 0.0189996732134\n",
      "Batch size: 20 Learning Rate: 0.3 Epochs: 54 Maximum Iterations: 1000 Error: 0.0188277961958\n",
      "Batch size: 25 Learning Rate: 0.3 Epochs: 36 Maximum Iterations: 1000 Error: 0.0214701359111\n",
      "Batch size: 50 Learning Rate: 0.3 Epochs: 77 Maximum Iterations: 1000 Error: 0.021062680623\n",
      "Batch size: 5 Learning Rate: 0.3 Epochs: 109 Maximum Iterations: 5000 Error: 0.0171868256485\n",
      "Batch size: 10 Learning Rate: 0.3 Epochs: 63 Maximum Iterations: 5000 Error: 0.0184860914075\n",
      "Batch size: 20 Learning Rate: 0.3 Epochs: 27 Maximum Iterations: 5000 Error: 0.0221593802701\n",
      "Batch size: 25 Learning Rate: 0.3 Epochs: 70 Maximum Iterations: 5000 Error: 0.0192296100645\n",
      "Batch size: 50 Learning Rate: 0.3 Epochs: 63 Maximum Iterations: 5000 Error: 0.0237676591976\n",
      "Batch size: 5 Learning Rate: 0.3 Epochs: 110 Maximum Iterations: 10000 Error: 0.0172033043854\n",
      "Batch size: 10 Learning Rate: 0.3 Epochs: 68 Maximum Iterations: 10000 Error: 0.0192045587294\n"
     ]
    },
    {
     "name": "stdout",
     "output_type": "stream",
     "text": [
      "Batch size: 20 Learning Rate: 0.3 Epochs: 79 Maximum Iterations: 10000 Error: 0.0193617881597\n",
      "Batch size: 25 Learning Rate: 0.3 Epochs: 64 Maximum Iterations: 10000 Error: 0.0195615927835\n",
      "Batch size: 50 Learning Rate: 0.3 Epochs: 75 Maximum Iterations: 10000 Error: 0.0211621170173\n",
      "Batch size: 5 Learning Rate: 0.3 Epochs: 165 Maximum Iterations: 25000 Error: 0.0179744036332\n",
      "Batch size: 10 Learning Rate: 0.3 Epochs: 93 Maximum Iterations: 25000 Error: 0.0191461875553\n",
      "Batch size: 20 Learning Rate: 0.3 Epochs: 35 Maximum Iterations: 25000 Error: 0.0192796402024\n",
      "Batch size: 25 Learning Rate: 0.3 Epochs: 38 Maximum Iterations: 25000 Error: 0.0209356839671\n",
      "Batch size: 50 Learning Rate: 0.3 Epochs: 99 Maximum Iterations: 25000 Error: 0.0199419301247\n",
      "Batch size: 5 Learning Rate: 0.3 Epochs: 21 Maximum Iterations: 50000 Error: 0.0170587664826\n",
      "Batch size: 10 Learning Rate: 0.3 Epochs: 19 Maximum Iterations: 50000 Error: 0.0188885098914\n",
      "Batch size: 20 Learning Rate: 0.3 Epochs: 64 Maximum Iterations: 50000 Error: 0.0187853245942\n",
      "Batch size: 25 Learning Rate: 0.3 Epochs: 46 Maximum Iterations: 50000 Error: 0.0199864370318\n",
      "Batch size: 50 Learning Rate: 0.3 Epochs: 76 Maximum Iterations: 50000 Error: 0.0211776088863\n"
     ]
    }
   ],
   "source": [
    "Learning_rates = [0.001, 0.05, 0.01, 0.05, 0.1, 0.3]\n",
    "MaxIter = [10, 50, 100, 500, 1000, 5000, 10000, 25000, 50000]\n",
    "batch_sizes = [5,10,20,25,50]\n",
    "optimal_weights = []\n",
    "updates = [\"online\",\"batch\",\"mini-batch\"]\n",
    "for update in updates:\n",
    "    print('----------------------------------------------------\\n')\n",
    "    print('\\t\\t\\t'+update.upper())\n",
    "\n",
    "    for alpha in Learning_rates:\n",
    "        \n",
    "        print(\"\\n\")\n",
    "        print(\"------------------Learning rate : \" + str(alpha)+\"-------------\\n\")\n",
    "        for i,maxIter in enumerate(MaxIter):\n",
    "            \n",
    "            if (update == \"mini-batch\"):\n",
    "                for batch_size in batch_sizes:\n",
    "                    cost_updates = []\n",
    "                    w = lms_grad_desc(X,y,maxIter,alpha,update, batch_size)\n",
    "            else:\n",
    "                cost_updates = []\n",
    "                w = lms_grad_desc(X,y,maxIter,alpha,update)\n",
    "        optimal_weights.append(w)"
   ]
  },
  {
   "cell_type": "markdown",
   "metadata": {},
   "source": [
    "(B) What settings worked well for you:  online vs. batch vs. minibatch? What step size? How did you decide to terminate?"
   ]
  },
  {
   "cell_type": "markdown",
   "metadata": {},
   "source": [
    "> __Observations:__ \n",
    "- Online gradient descend converges the fastest, mini-batch update follows second and Batch gradient descend is the slowest among the three to converge. \n",
    "- Mini-batch gives the minimum error. Batch update follows second.  \n",
    "\n",
    "> __Online Update :__  \n",
    "- Best Learning Rate = $0.1$\n",
    "- Number of epochs to reach optimum solution: ~ $22$  \n",
    "- Error: $0.0209473970304$  \n",
    "\n",
    "> __Batch Update:__  \n",
    "- Best Learning Rate = $0.05$  \n",
    "- Number of epochs to reach optimum solution: ~ $181$  \n",
    "- Error: $0.0201898138323$  \n",
    "\n",
    "> __Mini Batch :__  \n",
    "- Best Learning Rate = $0.3$  \n",
    "- Batch size = $10$    \n",
    "- Number of epochs to reach optimum solution: ~ $60$  \n",
    "- Error: $0.0185828720358$  \n",
    "\n",
    "> __STOPPING CRITERIA__  \n",
    "The function stops updating the weights if the percentage in absolute change in error is less than 0.1%.  "
   ]
  },
  {
   "cell_type": "markdown",
   "metadata": {},
   "source": [
    "(C) Make a graph of error on the entire data set as a function of epoch. An epoch is a complete sweep through all the data."
   ]
  },
  {
   "cell_type": "code",
   "execution_count": 15,
   "metadata": {},
   "outputs": [
    {
     "name": "stdout",
     "output_type": "stream",
     "text": [
      "ONLINE UPDATE: \n",
      "Learning Rate: 0.1 Epochs: 22 Maximum Iterations: 1000 Error: 0.0209473970304\n",
      "BATCH UPDATE : \n",
      "Learning Rate: 0.3 Epochs: 181 Maximum Iterations: 1000 Error: 0.0201898138323\n",
      "MINI-BATCH UPDATE : \n",
      "Batch size: 10 Learning Rate: 0.3 Epochs: 58 Maximum Iterations: 1000 Error: 0.0185828720358\n"
     ]
    },
    {
     "data": {
      "image/png": "[encoded data removed]",
      "text/plain": [
       "<matplotlib.figure.Figure at 0x113a20ef0>"
      ]
     },
     "metadata": {
      "needs_background": "light"
     },
     "output_type": "display_data"
    }
   ],
   "source": [
    "#ONLINE\n",
    "cost_updates = []\n",
    "print(\"ONLINE UPDATE: \")\n",
    "lms_grad_desc(X,y,1000,0.1,\"online\")\n",
    "fig, axs = plt.subplots(1,3)\n",
    "\n",
    "axs[0].plot([i for i in range(len(cost_updates))],cost_updates)\n",
    "axs[0].set_title(\"Online Update, alpha = 0.1\")\n",
    "axs[0].set_xlabel('Number of epochs')\n",
    "axs[0].set_ylabel('Mean square error')\n",
    "axs[0].set_ylim(0,0.4)\n",
    "axs[0].set_xlim(0,10)\n",
    "axs[0].grid(True)\n",
    "\n",
    "#BATCH\n",
    "cost_updates = []\n",
    "print(\"BATCH UPDATE : \")\n",
    "lms_grad_desc(X,y,1000,0.3,\"batch\")\n",
    "axs[1].plot([i for i in range(len(cost_updates))],cost_updates)\n",
    "axs[1].set_title(\"Batch update, alpha = 0.3\")\n",
    "axs[1].set_xlabel('Number of epochs')\n",
    "axs[1].set_ylabel('Mean square error')\n",
    "axs[1].set_ylim(0,0.5)\n",
    "axs[1].grid(True)\n",
    "\n",
    "#MINI-BATCH\n",
    "cost_updates = []\n",
    "print(\"MINI-BATCH UPDATE : \")\n",
    "lms_grad_desc(X,y,1000,0.3,\"mini-batch\", 10)\n",
    "axs[2].plot([i for i in range(len(cost_updates))],cost_updates)\n",
    "axs[2].set_title(\"Mini-Batch update, alpha = 0.3, Batch-size = 10\")\n",
    "axs[2].set_xlabel('Number of epochs')\n",
    "axs[2].set_ylabel('Mean square error')\n",
    "axs[2].set_ylim(0,0.4)\n",
    "axs[2].set_xlim(0,20)\n",
    "axs[2].grid(True)\n",
    "\n",
    "fig.set_size_inches(20, 7.5)\n",
    "plt.show()"
   ]
  },
  {
   "cell_type": "markdown",
   "metadata": {},
   "source": [
    "## Part 3"
   ]
  },
  {
   "cell_type": "markdown",
   "metadata": {},
   "source": [
    "The data set from a regression problem can be converted into a classification problem simply by using the sign of (+ or -) as representing one of two classes. In the data set used in Part 1 and 2, you'll see a variable that represents this binary (0 or 1) class.\n",
    "\n",
    "Use the perceptron learning rule to solve for the coefficients {$w_1$, $w_2$, $b$} of this classification problem.   \n",
    "\n",
    "Two warnings: First, your solution to Part 3 should require only a few lines of code changed from the code you wrote for Part 2. Second, the Perceptron algorithm will not converge if there is no exact solution to the training data. It will jitter among coefficients that all yield roughly equally good solutions."
   ]
  },
  {
   "cell_type": "markdown",
   "metadata": {},
   "source": [
    "Complete the following functions below and use them to answer questions (A) and (B). \n",
    "\n",
    "**Note:** Please do not change the interface of the given functions."
   ]
  },
  {
   "cell_type": "code",
   "execution_count": 16,
   "metadata": {},
   "outputs": [],
   "source": [
    "def perceptron_update(X, y, w):\n",
    "    \"\"\"\n",
    "    One iteration of the Perceptron update over the entire dataset (not just a single point).\n",
    "    \n",
    "    Parameters\n",
    "    ----------\n",
    "    X : NumPy array of features (size : no of examples X features)\n",
    "    y : Numpy array of class labels (size : no of examples X 1)\n",
    "    w : array of coefficients from the previous iteration\n",
    "    \n",
    "    Returns\n",
    "    -------\n",
    "    w : Coefficients of the classifier (after updating)\n",
    "    incorrect : Incorrectly classified examples\n",
    "    \"\"\"\n",
    "    def relu(y):\n",
    "        '''\n",
    "        takes a value and returns 1 if the values is greater than 0 and 0 if not\n",
    "        '''\n",
    "        if y>0:\n",
    "            return 1\n",
    "        return 0\n",
    "    \n",
    "    incorrect = 0\n",
    "    \n",
    "    for i,x in enumerate(X):\n",
    "        fx = X[i].dot(w.T)\n",
    "        fx = relu(fx)\n",
    "        w = w + alpha*(x*(y[i]- fx))\n",
    "        incorrect += 0 if(fx == y[i]) else 1\n",
    "\n",
    "    return w,incorrect\n",
    "\n",
    "def perceptron(X, y, maxIter, alpha):\n",
    "    \"\"\"\n",
    "    Implements the Perceptron algorithm.\n",
    "    \n",
    "    Parameters\n",
    "    ----------\n",
    "    X : NumPy array of features (size : no of examples X features)\n",
    "    y : Numpy array of class labels (size : no of examples X 1)\n",
    "    maxIter : The maximum number of iterations allowed \n",
    "    alpha : Learning Rate\n",
    "    \n",
    "    Returns\n",
    "    -------\n",
    "    w : Coefficients of the classifier\n",
    "    incorrect : Incorrectly classified examples on termination\n",
    "    \"\"\"\n",
    "    w = np.zeros(X[0].size)\n",
    "    for iter in range(maxIter):\n",
    "        X,y = shuffle(X,y)\n",
    "        w, incorrect = perceptron_update(X,y,w)\n",
    "        incorrect_updates.append(incorrect)\n",
    "\n",
    "        if(iter > 100 and incorrect_updates[-2]>0 and abs(incorrect_updates[-1]-incorrect_updates[-2])/incorrect_updates[-2] < 0.001):\n",
    "            break\n",
    "    return w, incorrect"
   ]
  },
  {
   "cell_type": "markdown",
   "metadata": {},
   "source": [
    "(A) Report the values of coefficients $w_1$, $w_2$, and $b$."
   ]
  },
  {
   "cell_type": "code",
   "execution_count": 17,
   "metadata": {},
   "outputs": [
    {
     "name": "stdout",
     "output_type": "stream",
     "text": [
      "w1: -2.91774 w2: 4.42845 b: -0.9\n"
     ]
    }
   ],
   "source": [
    "incorrect_updates = []\n",
    "w,incorrect = perceptron(X,z,100,0.001)\n",
    "print(\"w1:\", w[0], \"w2:\", w[1], \"b:\", w[2])"
   ]
  },
  {
   "cell_type": "markdown",
   "metadata": {},
   "source": [
    "(B) Make a graph of the accuracy (% correct classification) on the training set as a function of epoch."
   ]
  },
  {
   "cell_type": "code",
   "execution_count": 18,
   "metadata": {},
   "outputs": [
    {
     "data": {
      "image/png": "[encoded data removed]",
      "text/plain": [
       "<matplotlib.figure.Figure at 0x11310c048>"
      ]
     },
     "metadata": {
      "needs_background": "light"
     },
     "output_type": "display_data"
    }
   ],
   "source": [
    "accuracy = 1-np.array(incorrect_updates)/len(z)\n",
    "fig,axs = plt.subplots(1)\n",
    "axs.plot([i for i in range(len(incorrect_updates))],accuracy)\n",
    "axs.set_title(\"Perceptron update, alpha = 0.01\")\n",
    "axs.set_xlabel('Number of epochs')\n",
    "axs.set_ylabel('Accuracy')\n",
    "# axs.set_ylim(0,0.4)\n",
    "# axs.set_xlim(0,20)\n",
    "axs.grid(True)\n",
    "\n",
    "fig.set_size_inches(20, 7.5)"
   ]
  },
  {
   "cell_type": "markdown",
   "metadata": {},
   "source": [
    "## Part 4"
   ]
  },
  {
   "cell_type": "markdown",
   "metadata": {},
   "source": [
    "In machine learning, we really want to train a model based on some data and then expect the model to do well on \"out of sample\" data. Try this with the code you wrote for Part 3:  Train the model on the first {5, 10, 25, 50, 75} examples in the data set and test the model on the final 25 examples."
   ]
  },
  {
   "cell_type": "markdown",
   "metadata": {},
   "source": [
    "Complete the following function below and use it to answer (A). \n",
    "\n",
    "**Note:** Please do not change the interface of the given function."
   ]
  },
  {
   "cell_type": "code",
   "execution_count": 19,
   "metadata": {},
   "outputs": [],
   "source": [
    "def classify(X, y, w):\n",
    "    \"\"\"\n",
    "    Use this function to classify examples in the test set\n",
    "    \n",
    "    Parameters\n",
    "    ----------\n",
    "    X : Test set features\n",
    "    y : Test set labels\n",
    "    w : Perceptron coefficients\n",
    "    \n",
    "    Returns\n",
    "    -------\n",
    "    correct : number of correctly classified examples\n",
    "    \"\"\"\n",
    "    def relu(y):\n",
    "        if y>0:\n",
    "            return 1\n",
    "        return 0\n",
    "    \n",
    "    correct = 0\n",
    "    \n",
    "    for i,x in enumerate(X):\n",
    "        fx = X[i].dot(w.T)\n",
    "        fx = relu(fx)\n",
    "        w = w + alpha*(x*(y[i]- fx))\n",
    "        correct += 1 if(fx == y[i]) else 0\n",
    "\n",
    "    return correct"
   ]
  },
  {
   "cell_type": "markdown",
   "metadata": {},
   "source": [
    "How does performance on the test set vary with the amount of training data? Make a bar graph showing performance for each of the different training set sizes."
   ]
  },
  {
   "cell_type": "code",
   "execution_count": 26,
   "metadata": {},
   "outputs": [
    {
     "name": "stdout",
     "output_type": "stream",
     "text": [
      "[0.72, 0.72, 0.92, 0.92, 0.92]\n"
     ]
    }
   ],
   "source": [
    "train_size = [5, 10, 25, 50, 75]\n",
    "accuracy = []\n",
    "for size in train_size:\n",
    "    train_X, train_Y = X[:size], z[:size]\n",
    "    test_X, test_Y = X[-25:], z[-25:]\n",
    "    w,incorrect = perceptron(train_X,train_Y,1000,0.001)\n",
    "    correct = classify(test_X,test_Y,w)\n",
    "    accuracy.append(correct/len(test_Y))\n",
    "\n",
    "print(accuracy)"
   ]
  },
  {
   "cell_type": "code",
   "execution_count": 27,
   "metadata": {},
   "outputs": [
    {
     "data": {
      "image/png": "[encoded data removed]",
      "text/plain": [
       "<matplotlib.figure.Figure at 0x1131ad400>"
      ]
     },
     "metadata": {
      "needs_background": "light"
     },
     "output_type": "display_data"
    }
   ],
   "source": [
    "fig,axs = plt.subplots(1)\n",
    "axs.bar(train_size,accuracy)\n",
    "axs.set_title(\"Perceptron performance with training size, alpha = 0.001\")\n",
    "axs.set_xlabel('Training size')\n",
    "axs.set_ylabel('Accuracy')\n",
    "# axs.set_ylim(0,0.4)\n",
    "# axs.set_xlim(0,20)\n",
    "axs.grid(True)\n",
    "\n",
    "fig.set_size_inches(20, 7.5)\n"
   ]
  },
  {
   "cell_type": "markdown",
   "metadata": {},
   "source": [
    ">As we can see here that as the training size increases from 5 to 50 the test accuracy increases and becomes almost same with increase in training size"
   ]
  },
  {
   "cell_type": "code",
   "execution_count": null,
   "metadata": {},
   "outputs": [],
   "source": []
  }
 ],
 "metadata": {
  "kernelspec": {
   "display_name": "Python 3",
   "language": "python",
   "name": "python3"
  },
  "language_info": {
   "codemirror_mode": {
    "name": "ipython",
    "version": 3
   },
   "file_extension": ".py",
   "mimetype": "text/x-python",
   "name": "python",
   "nbconvert_exporter": "python",
   "pygments_lexer": "ipython3",
   "version": "3.6.1"
  }
 },
 "nbformat": 4,
 "nbformat_minor": 2
}
