{
 "cells": [
  {
   "cell_type": "markdown",
   "metadata": {},
   "source": [
    "# <center> Neural Networks and Deep Learning (CSCI 5922)</center>\n",
    "# <center> Spring 2019 </center>"
   ]
  },
  {
   "cell_type": "markdown",
   "metadata": {},
   "source": [
    "**Name: Payoj Jain**"
   ]
  },
  {
   "cell_type": "markdown",
   "metadata": {},
   "source": [
    "## Goal"
   ]
  },
  {
   "cell_type": "markdown",
   "metadata": {},
   "source": [
    "The goal of this assignment is to introduce neural networks in terms of ideas you are already familiar with:  linear regression and linear-threshold classification"
   ]
  },
  {
   "cell_type": "markdown",
   "metadata": {},
   "source": [
    "## Dataset"
   ]
  },
  {
   "cell_type": "markdown",
   "metadata": {},
   "source": [
    "You are given a dataset with 2 input variables ($x_1$, $x_2$) and an output variable ($y$)."
   ]
  },
  {
   "cell_type": "code",
   "execution_count": 1,
   "metadata": {},
   "outputs": [],
   "source": [
    "from sklearn.datasets import make_regression\n",
    "from matplotlib import pyplot as plt\n",
    "import numpy as np\n",
    "import os\n",
    "\n",
    "# Load data\n",
    "data = np.loadtxt(os.path.join('data', 'assign1_data.txt'))\n",
    "X = data[:,:2]\n",
    "y = data[:, 2]\n",
    "z = data[:, 3]\n",
    "\n",
    "# Concatenating bias to X\n",
    "b = np.array([[1]]*X.shape[0])\n",
    "X = np.concatenate((X,b),axis=1)\n",
    "\n",
    "cost_updates = []\n",
    "incorrect_updates = []"
   ]
  },
  {
   "cell_type": "markdown",
   "metadata": {},
   "source": [
    "## Part 1"
   ]
  },
  {
   "cell_type": "markdown",
   "metadata": {},
   "source": [
    "Write a program to find the least squares solution to $y = w_1 x_1 + w_2 x_2 + b$ for the above dataset. "
   ]
  },
  {
   "cell_type": "markdown",
   "metadata": {},
   "source": [
    "Complete the following function below and use it to answer questions (A) and (B). \n",
    "\n",
    "**Note:** Please do not change the interface of the given function."
   ]
  },
  {
   "cell_type": "code",
   "execution_count": 2,
   "metadata": {},
   "outputs": [],
   "source": [
    "def lms(X, y):\n",
    "    \"\"\"\n",
    "    Finds the Least Mean Squares solution\n",
    "    \n",
    "    Parameters\n",
    "    ----------\n",
    "    X : NumPy array of features (size : no of examples X features)\n",
    "    y : Numpy array of output value 'y' (size : no of examples X 1)\n",
    "    \n",
    "    Returns\n",
    "    -------\n",
    "    w : solution array\n",
    "    \"\"\"\n",
    "\n",
    "    from numpy.linalg import inv\n",
    "    w = (inv((X.T@X))@X.T)@y\n",
    "    return w"
   ]
  },
  {
   "cell_type": "markdown",
   "metadata": {},
   "source": [
    "(A) Report the values of $w_1$, $w_2$, and $b$."
   ]
  },
  {
   "cell_type": "code",
   "execution_count": 3,
   "metadata": {
    "scrolled": false
   },
   "outputs": [
    {
     "name": "stdout",
     "output_type": "stream",
     "text": [
      "w1: -2.04424259514 w2: 3.99686016866 b: -0.924290811868\n"
     ]
    }
   ],
   "source": [
    "w = lms(X,y)\n",
    "print(\"w1:\", w[0], \"w2:\", w[1], \"b:\", w[2])"
   ]
  },
  {
   "cell_type": "markdown",
   "metadata": {},
   "source": [
    "(B) What function or method did you use to find the least-squares solution?"
   ]
  },
  {
   "cell_type": "markdown",
   "metadata": {},
   "source": [
    "> Closed form Normal Equation which is derived from $$ y = X^T \\cdot w $$  The Normal equation is written as:  \n",
    "$$ w = (X^T \\cdot X)^{-1}X^T \\cdot y$$\n"
   ]
  },
  {
   "cell_type": "markdown",
   "metadata": {},
   "source": [
    "## Part 2"
   ]
  },
  {
   "cell_type": "markdown",
   "metadata": {},
   "source": [
    "Using the LMS algorithm, write a program that determines the coefficients {w1,w2,b} via incremental updating, steepest descent, and multiple passes through the training data. You will need to experiment with updating rules (online, batch, minibatch), step sizes (i.e., learning rates), stopping criteria, etc. Experiment to find settings that lead to solutions with the fewest number of sweeps through the data."
   ]
  },
  {
   "cell_type": "markdown",
   "metadata": {},
   "source": [
    "Complete the following functions below and use them to answer questions (A), (B) and (C). You may find the shuffle function from scikit-learn useful. \n",
    "\n",
    "Use the following hyperparameters:\n",
    "\n",
    "Learning rates = [0.001, 0.05, 0.01, 0.05, 0.1, 0.3]\n",
    "\n",
    "MaxIter = [10, 50, 100, 500, 1000, 5000, 10000, 25000, 50000]\n",
    "\n",
    "**Note:** Please do not change the interface of the given functions."
   ]
  },
  {
   "cell_type": "code",
   "execution_count": 4,
   "metadata": {},
   "outputs": [],
   "source": [
    "from sklearn.utils import shuffle\n",
    "\n",
    "\n",
    "def cost_(X,y,w):\n",
    "    \"\"\"\n",
    "    takes training example, labels and weights and compute the cost for a particular iteration\n",
    "    \n",
    "    Returns\n",
    "    -------\n",
    "    cost : Mean square error\n",
    "    \"\"\"\n",
    "    num_of_training_samples = len(y)\n",
    "    fx = X.dot(w.T)\n",
    "    cost = (1/(2*num_of_training_samples))*np.sum(np.square(fx-y))\n",
    "    return cost\n",
    "\n",
    "def online_update(X, y, w, alpha = 0.01):\n",
    "    \"\"\"\n",
    "    One iteration of the online update over the entire dataset (one sweep of the dataset).\n",
    "    \n",
    "    Parameters\n",
    "    ----------\n",
    "    X : NumPy array of features (size : no of examples X features)\n",
    "    y : Numpy array of class labels (size : no of examples X 1)\n",
    "    w : array of coefficients from the previous iteration\n",
    "    alpha : Learning rate, default 0.01\n",
    "    \n",
    "    Returns\n",
    "    -------\n",
    "    w : Coefficients of the classifier (after updating)\n",
    "    cost : average cost for one iteration\n",
    "    \"\"\"\n",
    "    cost = 0\n",
    "    for i,x in enumerate(X):\n",
    "        \n",
    "        fx = X[i].dot(w.T)\n",
    "        w = w - alpha*(x*(fx - y[i]))\n",
    "        cost += cost_(X,y,w)\n",
    "    cost /= len(y)\n",
    "    return w,cost\n",
    "\n",
    "def batch_update(X, y, w, alpha = 0.01):\n",
    "    \"\"\"\n",
    "    One iteration of the batch update.\n",
    "    \n",
    "    Parameters\n",
    "    ----------\n",
    "    X : NumPy array of features (size : no of examples X features)\n",
    "    y : Numpy array of class labels (size : no of examples X 1)\n",
    "    w : array of coefficients from the previous iteration\n",
    "    alpha : Learning rate, default 0.01\n",
    "    \n",
    "    Returns\n",
    "    -------\n",
    "    w : Coefficients of the classifier (after updating)\n",
    "    cost : cost of 1 iteration\n",
    "    \"\"\"\n",
    "    \n",
    "    num_of_training_samples = X.shape[0]\n",
    "    fx = X.dot(w.T)\n",
    "    w = w - (1/num_of_training_samples)*alpha*(X.T@(fx - y))\n",
    "    cost = cost_(X,y,w)\n",
    "    return w, cost\n",
    "\n",
    "def mini_batch_update(X, y, w, alpha, batch_size = 10):\n",
    "    \"\"\"\n",
    "    One iteration of the mini-batch update over the entire dataset (one sweep of the dataset).\n",
    "    \n",
    "    Parameters\n",
    "    ----------\n",
    "    X : NumPy array of features (size : no of examples X features)\n",
    "    y : Numpy array of class labels (size : no of examples X 1)\n",
    "    w : array of coefficients from the previous iteration\n",
    "    alpha : Learning rate, default 0.01\n",
    "    batch_size : size of the batch for gradient update\n",
    "    \n",
    "    Returns\n",
    "    -------\n",
    "    w : Coefficients of the classifier (after updating)\n",
    "    cost: cost of 1 iteration\n",
    "    \"\"\"\n",
    "    \n",
    "    batches = int(X.shape[0]/batch_size)\n",
    "    num_of_training_samples = X.shape[0]\n",
    "    cost = 0\n",
    "    for i in range(0,num_of_training_samples,batch_size):\n",
    "        train_X = X[i:i+batch_size]\n",
    "        train_y = y[i:i+batch_size]\n",
    "\n",
    "        w,c = batch_update(train_X,train_y,w,alpha)\n",
    "        cost += c\n",
    "        \n",
    "    cost = cost/batches\n",
    "    \n",
    "    return w,cost\n",
    "\n",
    "def lms_grad_desc(X, y, maxIter, alpha, update, *batch_size):\n",
    "    \"\"\"\n",
    "    Implements the LMS with gradient descent.\n",
    "    \n",
    "    Parameters\n",
    "    ----------\n",
    "    X : NumPy array of features (size : no of examples X features)\n",
    "    y : Numpy array of class labels (size : no of examples X 1)\n",
    "    maxIter : Maximum number of iterations allowed\n",
    "    alpha : Learning rate\n",
    "    update : update function to utilize (one of online, batch, mini-batch)\n",
    "    batch_size : number of examples in a batch (only useful when update = mini_batch_update)\n",
    "    \n",
    "    Returns\n",
    "    -------\n",
    "    w : Coefficients of the classifier (after updating)\n",
    "    \n",
    "    Note : *batch_size is an optional argument and only to be used when doing mini-batch Gradient Descent \n",
    "    \"\"\"\n",
    "    \n",
    "    map = {\"online\":online_update,\"batch\":batch_update,\"mini-batch\":mini_batch_update}\n",
    "    \n",
    "    w = np.zeros(X[0].size)\n",
    "    \n",
    "    \n",
    "#     w_updates = np.zeros(maxIter)\n",
    "    for iter in range(maxIter):\n",
    "        \n",
    "        X,y = shuffle(X,y)\n",
    "        if update == 'mini-batch':\n",
    "            w,cost = map[update](X,y,w,alpha,batch_size[0])\n",
    "        else:\n",
    "            w,cost = map[update](X,y,w,alpha)\n",
    "#         w_updates[iter] = w\n",
    "        cost_updates.append(cost)\n",
    "    \n",
    "        if(iter >1 and abs(cost_updates[-1]-cost_updates[-2])/cost_updates[-2] < 0.001):\n",
    "            break\n",
    "            \n",
    "    if update == \"mini-batch\":\n",
    "        print(\"Batch size: \"+str(batch_size[0]) +\" Learning Rate: \"+str(alpha)+\" Epochs: \"+str(iter)+\" Maximum Iterations: \"+str(maxIter)+\" Error: \"+str(cost_updates[iter]))\n",
    "    else:\n",
    "        print(\"Learning Rate: \"+str(alpha)+\" Epochs: \"+str(iter)+\" Maximum Iterations: \"+str(maxIter)+\" Error: \"+str(cost_updates[iter]))\n",
    "\n",
    "    return w"
   ]
  },
  {
   "cell_type": "markdown",
   "metadata": {},
   "source": [
    "(A) Report the values of $w_1$, $w_2$, and $b$. "
   ]
  },
  {
   "cell_type": "code",
   "execution_count": 5,
   "metadata": {
    "scrolled": false
   },
   "outputs": [
    {
     "name": "stdout",
     "output_type": "stream",
     "text": [
      "Learning Rate: 0.1 Epochs: 39 Maximum Iterations: 10000 Error: 0.0209399747507\n",
      "w1: -2.031591931 w2: 3.99999171962 b: -0.897943032625\n"
     ]
    }
   ],
   "source": [
    "w = lms_grad_desc(X,y,10000,0.1,\"online\")\n",
    "print(\"w1:\", w[0], \"w2:\", w[1], \"b:\", w[2])"
   ]
  },
  {
   "cell_type": "code",
   "execution_count": 6,
   "metadata": {},
   "outputs": [
    {
     "name": "stdout",
     "output_type": "stream",
     "text": [
      "Learning Rate: 0.1 Epochs: 457 Maximum Iterations: 10000 Error: 0.0224333610603\n",
      "w1: -1.973413552 w2: 3.79729431956 b: -0.856425664993\n"
     ]
    }
   ],
   "source": [
    "w = lms_grad_desc(X,y,10000,0.1,\"batch\")\n",
    "print(\"w1:\", w[0], \"w2:\", w[1], \"b:\", w[2])"
   ]
  },
  {
   "cell_type": "code",
   "execution_count": 7,
   "metadata": {},
   "outputs": [
    {
     "name": "stdout",
     "output_type": "stream",
     "text": [
      "Batch size: 10 Learning Rate: 0.1 Epochs: 55 Maximum Iterations: 10000 Error: 0.582821331004\n",
      "w1: -2.01515139963 w2: 3.8926694802 b: -0.89456133285\n"
     ]
    }
   ],
   "source": [
    "w = lms_grad_desc(X,y,10000,0.1,\"mini-batch\",10)\n",
    "print(\"w1:\", w[0], \"w2:\", w[1], \"b:\", w[2])"
   ]
  },
  {
   "cell_type": "code",
   "execution_count": 8,
   "metadata": {
    "scrolled": true
   },
   "outputs": [
    {
     "name": "stdout",
     "output_type": "stream",
     "text": [
      "----------------------------------------------------\n",
      "\n",
      "\t\t\tONLINE\n",
      "\n",
      "\n",
      "------------------Learning rate : 0.001-------------\n",
      "\n",
      "Learning Rate: 0.001 Epochs: 9 Maximum Iterations: 10 Error: 0.634485590585\n",
      "Learning Rate: 0.001 Epochs: 49 Maximum Iterations: 50 Error: 0.380187083514\n",
      "Learning Rate: 0.001 Epochs: 99 Maximum Iterations: 100 Error: 0.205224835602\n",
      "Learning Rate: 0.001 Epochs: 444 Maximum Iterations: 500 Error: 0.0216594164109\n",
      "Learning Rate: 0.001 Epochs: 440 Maximum Iterations: 1000 Error: 0.0217661633278\n",
      "Learning Rate: 0.001 Epochs: 443 Maximum Iterations: 5000 Error: 0.0216856561142\n",
      "Learning Rate: 0.001 Epochs: 442 Maximum Iterations: 10000 Error: 0.0217168524809\n",
      "Learning Rate: 0.001 Epochs: 446 Maximum Iterations: 25000 Error: 0.021612389193\n",
      "Learning Rate: 0.001 Epochs: 444 Maximum Iterations: 50000 Error: 0.0216652648031\n",
      "\n",
      "\n",
      "------------------Learning rate : 0.05-------------\n",
      "\n",
      "Learning Rate: 0.05 Epochs: 9 Maximum Iterations: 10 Error: 0.021508939684\n",
      "Learning Rate: 0.05 Epochs: 11 Maximum Iterations: 50 Error: 0.0207660183948\n",
      "Learning Rate: 0.05 Epochs: 41 Maximum Iterations: 100 Error: 0.020349899917\n",
      "Learning Rate: 0.05 Epochs: 11 Maximum Iterations: 500 Error: 0.0211635137401\n",
      "Learning Rate: 0.05 Epochs: 12 Maximum Iterations: 1000 Error: 0.0205263275164\n",
      "Learning Rate: 0.05 Epochs: 22 Maximum Iterations: 5000 Error: 0.0201959891319\n",
      "Learning Rate: 0.05 Epochs: 37 Maximum Iterations: 10000 Error: 0.020375868847\n",
      "Learning Rate: 0.05 Epochs: 28 Maximum Iterations: 25000 Error: 0.0202277942531\n",
      "Learning Rate: 0.05 Epochs: 23 Maximum Iterations: 50000 Error: 0.0202629360655\n",
      "\n",
      "\n",
      "------------------Learning rate : 0.01-------------\n",
      "\n",
      "Learning Rate: 0.01 Epochs: 9 Maximum Iterations: 10 Error: 0.216032543852\n",
      "Learning Rate: 0.01 Epochs: 49 Maximum Iterations: 50 Error: 0.0206985407786\n",
      "Learning Rate: 0.01 Epochs: 60 Maximum Iterations: 100 Error: 0.0201568193083\n",
      "Learning Rate: 0.01 Epochs: 49 Maximum Iterations: 500 Error: 0.0208136243594\n",
      "Learning Rate: 0.01 Epochs: 54 Maximum Iterations: 1000 Error: 0.020307041709\n",
      "Learning Rate: 0.01 Epochs: 50 Maximum Iterations: 5000 Error: 0.020697301896\n",
      "Learning Rate: 0.01 Epochs: 54 Maximum Iterations: 10000 Error: 0.0203286068177\n",
      "Learning Rate: 0.01 Epochs: 57 Maximum Iterations: 25000 Error: 0.0200976960046\n",
      "Learning Rate: 0.01 Epochs: 58 Maximum Iterations: 50000 Error: 0.0200530165331\n",
      "\n",
      "\n",
      "------------------Learning rate : 0.05-------------\n",
      "\n",
      "Learning Rate: 0.05 Epochs: 9 Maximum Iterations: 10 Error: 0.0213788791548\n",
      "Learning Rate: 0.05 Epochs: 31 Maximum Iterations: 50 Error: 0.0201563196481\n",
      "Learning Rate: 0.05 Epochs: 33 Maximum Iterations: 100 Error: 0.0201337866159\n",
      "Learning Rate: 0.05 Epochs: 22 Maximum Iterations: 500 Error: 0.0201349790601\n",
      "Learning Rate: 0.05 Epochs: 34 Maximum Iterations: 1000 Error: 0.0201524316014\n",
      "Learning Rate: 0.05 Epochs: 16 Maximum Iterations: 5000 Error: 0.020457815712\n",
      "Learning Rate: 0.05 Epochs: 12 Maximum Iterations: 10000 Error: 0.0204243880176\n",
      "Learning Rate: 0.05 Epochs: 26 Maximum Iterations: 25000 Error: 0.0203473821479\n",
      "Learning Rate: 0.05 Epochs: 16 Maximum Iterations: 50000 Error: 0.0200462426351\n",
      "\n",
      "\n",
      "------------------Learning rate : 0.1-------------\n",
      "\n",
      "Learning Rate: 0.1 Epochs: 5 Maximum Iterations: 10 Error: 0.021853238824\n",
      "Learning Rate: 0.1 Epochs: 49 Maximum Iterations: 50 Error: 0.0210220792287\n",
      "Learning Rate: 0.1 Epochs: 7 Maximum Iterations: 100 Error: 0.021252451027\n",
      "Learning Rate: 0.1 Epochs: 7 Maximum Iterations: 500 Error: 0.0212681117526\n",
      "Learning Rate: 0.1 Epochs: 63 Maximum Iterations: 1000 Error: 0.0209917171533\n",
      "Learning Rate: 0.1 Epochs: 19 Maximum Iterations: 5000 Error: 0.0209445819239\n",
      "Learning Rate: 0.1 Epochs: 14 Maximum Iterations: 10000 Error: 0.0209809451578\n",
      "Learning Rate: 0.1 Epochs: 21 Maximum Iterations: 25000 Error: 0.0212185637247\n",
      "Learning Rate: 0.1 Epochs: 46 Maximum Iterations: 50000 Error: 0.0212397845441\n",
      "\n",
      "\n",
      "------------------Learning rate : 0.3-------------\n",
      "\n",
      "Learning Rate: 0.3 Epochs: 9 Maximum Iterations: 10 Error: 0.0247904140956\n",
      "Learning Rate: 0.3 Epochs: 14 Maximum Iterations: 50 Error: 0.0252808108603\n",
      "Learning Rate: 0.3 Epochs: 4 Maximum Iterations: 100 Error: 0.0265476644519\n",
      "Learning Rate: 0.3 Epochs: 29 Maximum Iterations: 500 Error: 0.0255981763034\n",
      "Learning Rate: 0.3 Epochs: 15 Maximum Iterations: 1000 Error: 0.0249704547617\n",
      "Learning Rate: 0.3 Epochs: 29 Maximum Iterations: 5000 Error: 0.0260571660858\n",
      "Learning Rate: 0.3 Epochs: 291 Maximum Iterations: 10000 Error: 0.0263621797098\n",
      "Learning Rate: 0.3 Epochs: 47 Maximum Iterations: 25000 Error: 0.0268935946069\n",
      "Learning Rate: 0.3 Epochs: 28 Maximum Iterations: 50000 Error: 0.0244376316486\n",
      "----------------------------------------------------\n",
      "\n",
      "\t\t\tBATCH\n",
      "\n",
      "\n",
      "------------------Learning rate : 0.001-------------\n",
      "\n",
      "Learning Rate: 0.001 Epochs: 2 Maximum Iterations: 10 Error: 0.725923754177\n",
      "Learning Rate: 0.001 Epochs: 2 Maximum Iterations: 50 Error: 0.725923754177\n",
      "Learning Rate: 0.001 Epochs: 2 Maximum Iterations: 100 Error: 0.725923754177\n",
      "Learning Rate: 0.001 Epochs: 2 Maximum Iterations: 500 Error: 0.725923754177\n",
      "Learning Rate: 0.001 Epochs: 2 Maximum Iterations: 1000 Error: 0.725923754177\n",
      "Learning Rate: 0.001 Epochs: 2 Maximum Iterations: 5000 Error: 0.725923754177\n",
      "Learning Rate: 0.001 Epochs: 2 Maximum Iterations: 10000 Error: 0.725923754177\n",
      "Learning Rate: 0.001 Epochs: 2 Maximum Iterations: 25000 Error: 0.725923754177\n",
      "Learning Rate: 0.001 Epochs: 2 Maximum Iterations: 50000 Error: 0.725923754177\n",
      "\n",
      "\n",
      "------------------Learning rate : 0.05-------------\n",
      "\n",
      "Learning Rate: 0.05 Epochs: 9 Maximum Iterations: 10 Error: 0.674028299494\n",
      "Learning Rate: 0.05 Epochs: 49 Maximum Iterations: 50 Error: 0.519276394402\n",
      "Learning Rate: 0.05 Epochs: 99 Maximum Iterations: 100 Error: 0.377736844989\n",
      "Learning Rate: 0.05 Epochs: 499 Maximum Iterations: 500 Error: 0.0448990530393\n",
      "Learning Rate: 0.05 Epochs: 798 Maximum Iterations: 1000 Error: 0.023215856734\n",
      "Learning Rate: 0.05 Epochs: 798 Maximum Iterations: 5000 Error: 0.023215856734\n",
      "Learning Rate: 0.05 Epochs: 798 Maximum Iterations: 10000 Error: 0.023215856734\n",
      "Learning Rate: 0.05 Epochs: 798 Maximum Iterations: 25000 Error: 0.023215856734\n",
      "Learning Rate: 0.05 Epochs: 798 Maximum Iterations: 50000 Error: 0.023215856734\n",
      "\n",
      "\n",
      "------------------Learning rate : 0.01-------------\n",
      "\n",
      "Learning Rate: 0.01 Epochs: 9 Maximum Iterations: 10 Error: 0.714687714004\n",
      "Learning Rate: 0.01 Epochs: 49 Maximum Iterations: 50 Error: 0.674181033051\n",
      "Learning Rate: 0.01 Epochs: 99 Maximum Iterations: 100 Error: 0.630491489684\n",
      "Learning Rate: 0.01 Epochs: 499 Maximum Iterations: 500 Error: 0.37805518526\n",
      "Learning Rate: 0.01 Epochs: 999 Maximum Iterations: 1000 Error: 0.204094326922\n",
      "Learning Rate: 0.01 Epochs: 1834 Maximum Iterations: 5000 Error: 0.0806577716177\n",
      "Learning Rate: 0.01 Epochs: 1834 Maximum Iterations: 10000 Error: 0.0806577716177\n",
      "Learning Rate: 0.01 Epochs: 1834 Maximum Iterations: 25000 Error: 0.0806577716177\n",
      "Learning Rate: 0.01 Epochs: 1834 Maximum Iterations: 50000 Error: 0.0806577716177\n",
      "\n",
      "\n",
      "------------------Learning rate : 0.05-------------\n",
      "\n",
      "Learning Rate: 0.05 Epochs: 9 Maximum Iterations: 10 Error: 0.674028299494\n",
      "Learning Rate: 0.05 Epochs: 49 Maximum Iterations: 50 Error: 0.519276394402\n",
      "Learning Rate: 0.05 Epochs: 99 Maximum Iterations: 100 Error: 0.377736844989\n",
      "Learning Rate: 0.05 Epochs: 499 Maximum Iterations: 500 Error: 0.0448990530393\n",
      "Learning Rate: 0.05 Epochs: 798 Maximum Iterations: 1000 Error: 0.023215856734\n",
      "Learning Rate: 0.05 Epochs: 798 Maximum Iterations: 5000 Error: 0.023215856734\n",
      "Learning Rate: 0.05 Epochs: 798 Maximum Iterations: 10000 Error: 0.023215856734\n",
      "Learning Rate: 0.05 Epochs: 798 Maximum Iterations: 25000 Error: 0.023215856734\n",
      "Learning Rate: 0.05 Epochs: 798 Maximum Iterations: 50000 Error: 0.023215856734\n",
      "\n",
      "\n",
      "------------------Learning rate : 0.1-------------\n",
      "\n",
      "Learning Rate: 0.1 Epochs: 9 Maximum Iterations: 10 Error: 0.630150631284\n",
      "Learning Rate: 0.1 Epochs: 49 Maximum Iterations: 50 Error: 0.377337720331\n",
      "Learning Rate: 0.1 Epochs: 99 Maximum Iterations: 100 Error: 0.203359329627\n",
      "Learning Rate: 0.1 Epochs: 457 Maximum Iterations: 500 Error: 0.0213175790153\n",
      "Learning Rate: 0.1 Epochs: 457 Maximum Iterations: 1000 Error: 0.0213175790153\n",
      "Learning Rate: 0.1 Epochs: 457 Maximum Iterations: 5000 Error: 0.0213175790153\n",
      "Learning Rate: 0.1 Epochs: 457 Maximum Iterations: 10000 Error: 0.0213175790153\n",
      "Learning Rate: 0.1 Epochs: 457 Maximum Iterations: 25000 Error: 0.0213175790153\n",
      "Learning Rate: 0.1 Epochs: 457 Maximum Iterations: 50000 Error: 0.0213175790153\n",
      "\n",
      "\n",
      "------------------Learning rate : 0.3-------------\n",
      "\n",
      "Learning Rate: 0.3 Epochs: 9 Maximum Iterations: 10 Error: 0.485484515696\n",
      "Learning Rate: 0.3 Epochs: 49 Maximum Iterations: 50 Error: 0.112871427044\n",
      "Learning Rate: 0.3 Epochs: 99 Maximum Iterations: 100 Error: 0.0322974110737\n",
      "Learning Rate: 0.3 Epochs: 181 Maximum Iterations: 500 Error: 0.0201898138323\n",
      "Learning Rate: 0.3 Epochs: 181 Maximum Iterations: 1000 Error: 0.0201898138323\n",
      "Learning Rate: 0.3 Epochs: 181 Maximum Iterations: 5000 Error: 0.0201898138323\n",
      "Learning Rate: 0.3 Epochs: 181 Maximum Iterations: 10000 Error: 0.0201898138323\n",
      "Learning Rate: 0.3 Epochs: 181 Maximum Iterations: 25000 Error: 0.0201898138323\n",
      "Learning Rate: 0.3 Epochs: 181 Maximum Iterations: 50000 Error: 0.0201898138323\n",
      "----------------------------------------------------\n",
      "\n",
      "\t\t\tMINI-BATCH\n",
      "\n",
      "\n",
      "------------------Learning rate : 0.001-------------\n",
      "\n",
      "Batch size: 5 Learning Rate: 0.001 Epochs: 9 Maximum Iterations: 10 Error: 0.70467960004\n",
      "Batch size: 10 Learning Rate: 0.001 Epochs: 9 Maximum Iterations: 10 Error: 0.715142154988\n",
      "Batch size: 20 Learning Rate: 0.001 Epochs: 2 Maximum Iterations: 10 Error: 0.724715299958\n",
      "Batch size: 25 Learning Rate: 0.001 Epochs: 2 Maximum Iterations: 10 Error: 0.725016567247\n",
      "Batch size: 50 Learning Rate: 0.001 Epochs: 2 Maximum Iterations: 10 Error: 0.725621685727\n"
     ]
    },
    {
     "name": "stdout",
     "output_type": "stream",
     "text": [
      "Batch size: 5 Learning Rate: 0.001 Epochs: 49 Maximum Iterations: 50 Error: 0.63119849567\n",
      "Batch size: 10 Learning Rate: 0.001 Epochs: 49 Maximum Iterations: 50 Error: 0.674574685895\n",
      "Batch size: 20 Learning Rate: 0.001 Epochs: 2 Maximum Iterations: 50 Error: 0.72466065399\n",
      "Batch size: 25 Learning Rate: 0.001 Epochs: 2 Maximum Iterations: 50 Error: 0.724990116249\n",
      "Batch size: 50 Learning Rate: 0.001 Epochs: 2 Maximum Iterations: 50 Error: 0.725583883874\n",
      "Batch size: 5 Learning Rate: 0.001 Epochs: 99 Maximum Iterations: 100 Error: 0.554467454535\n",
      "Batch size: 10 Learning Rate: 0.001 Epochs: 99 Maximum Iterations: 100 Error: 0.630787640832\n",
      "Batch size: 20 Learning Rate: 0.001 Epochs: 2 Maximum Iterations: 100 Error: 0.724673757829\n",
      "Batch size: 25 Learning Rate: 0.001 Epochs: 2 Maximum Iterations: 100 Error: 0.725002622128\n",
      "Batch size: 50 Learning Rate: 0.001 Epochs: 2 Maximum Iterations: 100 Error: 0.72561811454\n",
      "Batch size: 5 Learning Rate: 0.001 Epochs: 499 Maximum Iterations: 500 Error: 0.204311843721\n",
      "Batch size: 10 Learning Rate: 0.001 Epochs: 417 Maximum Iterations: 500 Error: 0.419604181853\n",
      "Batch size: 20 Learning Rate: 0.001 Epochs: 2 Maximum Iterations: 500 Error: 0.724699368486\n",
      "Batch size: 25 Learning Rate: 0.001 Epochs: 2 Maximum Iterations: 500 Error: 0.724938879407\n",
      "Batch size: 50 Learning Rate: 0.001 Epochs: 2 Maximum Iterations: 500 Error: 0.725623757931\n",
      "Batch size: 5 Learning Rate: 0.001 Epochs: 999 Maximum Iterations: 1000 Error: 0.0687618575943\n",
      "Batch size: 10 Learning Rate: 0.001 Epochs: 621 Maximum Iterations: 1000 Error: 0.324584267944\n",
      "Batch size: 20 Learning Rate: 0.001 Epochs: 2 Maximum Iterations: 1000 Error: 0.724687235138\n",
      "Batch size: 25 Learning Rate: 0.001 Epochs: 2 Maximum Iterations: 1000 Error: 0.724987696544\n",
      "Batch size: 50 Learning Rate: 0.001 Epochs: 2 Maximum Iterations: 1000 Error: 0.725623724678\n",
      "Batch size: 5 Learning Rate: 0.001 Epochs: 1387 Maximum Iterations: 5000 Error: 0.0373081154516\n",
      "Batch size: 10 Learning Rate: 0.001 Epochs: 137 Maximum Iterations: 5000 Error: 0.600370848281\n",
      "Batch size: 20 Learning Rate: 0.001 Epochs: 2 Maximum Iterations: 5000 Error: 0.724689852393\n",
      "Batch size: 25 Learning Rate: 0.001 Epochs: 2 Maximum Iterations: 5000 Error: 0.724985810318\n",
      "Batch size: 50 Learning Rate: 0.001 Epochs: 2 Maximum Iterations: 5000 Error: 0.725622882083\n",
      "Batch size: 5 Learning Rate: 0.001 Epochs: 1371 Maximum Iterations: 10000 Error: 0.0380684218543\n",
      "Batch size: 10 Learning Rate: 0.001 Epochs: 767 Maximum Iterations: 10000 Error: 0.270838759101\n",
      "Batch size: 20 Learning Rate: 0.001 Epochs: 2 Maximum Iterations: 10000 Error: 0.724641781448\n",
      "Batch size: 25 Learning Rate: 0.001 Epochs: 2 Maximum Iterations: 10000 Error: 0.725011421839\n",
      "Batch size: 50 Learning Rate: 0.001 Epochs: 2 Maximum Iterations: 10000 Error: 0.725623878909\n",
      "Batch size: 5 Learning Rate: 0.001 Epochs: 1372 Maximum Iterations: 25000 Error: 0.0380179854363\n",
      "Batch size: 10 Learning Rate: 0.001 Epochs: 906 Maximum Iterations: 25000 Error: 0.228484577708\n",
      "Batch size: 20 Learning Rate: 0.001 Epochs: 2 Maximum Iterations: 25000 Error: 0.724678668897\n",
      "Batch size: 25 Learning Rate: 0.001 Epochs: 2 Maximum Iterations: 25000 Error: 0.724915992188\n",
      "Batch size: 50 Learning Rate: 0.001 Epochs: 2 Maximum Iterations: 25000 Error: 0.725623126359\n",
      "Batch size: 5 Learning Rate: 0.001 Epochs: 1399 Maximum Iterations: 50000 Error: 0.036762305865\n",
      "Batch size: 10 Learning Rate: 0.001 Epochs: 628 Maximum Iterations: 50000 Error: 0.32177639959\n",
      "Batch size: 20 Learning Rate: 0.001 Epochs: 2 Maximum Iterations: 50000 Error: 0.724682355127\n",
      "Batch size: 25 Learning Rate: 0.001 Epochs: 2 Maximum Iterations: 50000 Error: 0.725004193101\n",
      "Batch size: 50 Learning Rate: 0.001 Epochs: 2 Maximum Iterations: 50000 Error: 0.725601708964\n",
      "\n",
      "\n",
      "------------------Learning rate : 0.05-------------\n",
      "\n",
      "Batch size: 5 Learning Rate: 0.05 Epochs: 9 Maximum Iterations: 10 Error: 0.209986930953\n",
      "Batch size: 10 Learning Rate: 0.05 Epochs: 9 Maximum Iterations: 10 Error: 0.384294073909\n",
      "Batch size: 20 Learning Rate: 0.05 Epochs: 9 Maximum Iterations: 10 Error: 0.52398008796\n",
      "Batch size: 25 Learning Rate: 0.05 Epochs: 9 Maximum Iterations: 10 Error: 0.557787368614\n",
      "Batch size: 50 Learning Rate: 0.05 Epochs: 9 Maximum Iterations: 10 Error: 0.632168809317\n",
      "Batch size: 5 Learning Rate: 0.05 Epochs: 49 Maximum Iterations: 50 Error: 0.020293474333\n",
      "Batch size: 10 Learning Rate: 0.05 Epochs: 49 Maximum Iterations: 50 Error: 0.0449559186173\n",
      "Batch size: 20 Learning Rate: 0.05 Epochs: 49 Maximum Iterations: 50 Error: 0.152963395458\n",
      "Batch size: 25 Learning Rate: 0.05 Epochs: 49 Maximum Iterations: 50 Error: 0.205042459972\n",
      "Batch size: 50 Learning Rate: 0.05 Epochs: 49 Maximum Iterations: 50 Error: 0.378808373258\n",
      "Batch size: 5 Learning Rate: 0.05 Epochs: 58 Maximum Iterations: 100 Error: 0.0196631237123\n",
      "Batch size: 10 Learning Rate: 0.05 Epochs: 86 Maximum Iterations: 100 Error: 0.0217797896088\n",
      "Batch size: 20 Learning Rate: 0.05 Epochs: 99 Maximum Iterations: 100 Error: 0.0449520578847\n",
      "Batch size: 25 Learning Rate: 0.05 Epochs: 99 Maximum Iterations: 100 Error: 0.0687444863058\n",
      "Batch size: 50 Learning Rate: 0.05 Epochs: 99 Maximum Iterations: 100 Error: 0.204242702687\n",
      "Batch size: 5 Learning Rate: 0.05 Epochs: 47 Maximum Iterations: 500 Error: 0.0207749211628\n",
      "Batch size: 10 Learning Rate: 0.05 Epochs: 95 Maximum Iterations: 500 Error: 0.0208574132555\n",
      "Batch size: 20 Learning Rate: 0.05 Epochs: 148 Maximum Iterations: 500 Error: 0.0246945937573\n",
      "Batch size: 25 Learning Rate: 0.05 Epochs: 195 Maximum Iterations: 500 Error: 0.0235846100477\n",
      "Batch size: 50 Learning Rate: 0.05 Epochs: 356 Maximum Iterations: 500 Error: 0.0258510507741\n",
      "Batch size: 5 Learning Rate: 0.05 Epochs: 46 Maximum Iterations: 1000 Error: 0.0208870998523\n",
      "Batch size: 10 Learning Rate: 0.05 Epochs: 93 Maximum Iterations: 1000 Error: 0.0210692698456\n",
      "Batch size: 20 Learning Rate: 0.05 Epochs: 153 Maximum Iterations: 1000 Error: 0.0239381072959\n",
      "Batch size: 25 Learning Rate: 0.05 Epochs: 206 Maximum Iterations: 1000 Error: 0.0225967292003\n",
      "Batch size: 50 Learning Rate: 0.05 Epochs: 381 Maximum Iterations: 1000 Error: 0.0241297962849\n",
      "Batch size: 5 Learning Rate: 0.05 Epochs: 61 Maximum Iterations: 5000 Error: 0.0196483971196\n",
      "Batch size: 10 Learning Rate: 0.05 Epochs: 93 Maximum Iterations: 5000 Error: 0.0209693264466\n",
      "Batch size: 20 Learning Rate: 0.05 Epochs: 146 Maximum Iterations: 5000 Error: 0.025075204393\n",
      "Batch size: 25 Learning Rate: 0.05 Epochs: 199 Maximum Iterations: 5000 Error: 0.0231917590596\n",
      "Batch size: 50 Learning Rate: 0.05 Epochs: 358 Maximum Iterations: 5000 Error: 0.0256606561962\n",
      "Batch size: 5 Learning Rate: 0.05 Epochs: 57 Maximum Iterations: 10000 Error: 0.0196831078036\n",
      "Batch size: 10 Learning Rate: 0.05 Epochs: 83 Maximum Iterations: 10000 Error: 0.0222874066116\n",
      "Batch size: 20 Learning Rate: 0.05 Epochs: 133 Maximum Iterations: 10000 Error: 0.0279290516845\n",
      "Batch size: 25 Learning Rate: 0.05 Epochs: 156 Maximum Iterations: 10000 Error: 0.0305402379351\n",
      "Batch size: 50 Learning Rate: 0.05 Epochs: 346 Maximum Iterations: 10000 Error: 0.0267186467114\n",
      "Batch size: 5 Learning Rate: 0.05 Epochs: 43 Maximum Iterations: 25000 Error: 0.0216762375717\n",
      "Batch size: 10 Learning Rate: 0.05 Epochs: 105 Maximum Iterations: 25000 Error: 0.0202104824104\n",
      "Batch size: 20 Learning Rate: 0.05 Epochs: 180 Maximum Iterations: 25000 Error: 0.0213944361517\n",
      "Batch size: 25 Learning Rate: 0.05 Epochs: 137 Maximum Iterations: 25000 Error: 0.0375773319292\n",
      "Batch size: 50 Learning Rate: 0.05 Epochs: 293 Maximum Iterations: 25000 Error: 0.0338016907704\n",
      "Batch size: 5 Learning Rate: 0.05 Epochs: 49 Maximum Iterations: 50000 Error: 0.0203197955395\n",
      "Batch size: 10 Learning Rate: 0.05 Epochs: 83 Maximum Iterations: 50000 Error: 0.0223026478061\n",
      "Batch size: 20 Learning Rate: 0.05 Epochs: 181 Maximum Iterations: 50000 Error: 0.0213926855512\n",
      "Batch size: 25 Learning Rate: 0.05 Epochs: 219 Maximum Iterations: 50000 Error: 0.0217415731672\n",
      "Batch size: 50 Learning Rate: 0.05 Epochs: 45 Maximum Iterations: 50000 Error: 0.398460078898\n",
      "\n",
      "\n",
      "------------------Learning rate : 0.01-------------\n",
      "\n",
      "Batch size: 5 Learning Rate: 0.01 Epochs: 9 Maximum Iterations: 10 Error: 0.557823125785\n",
      "Batch size: 10 Learning Rate: 0.01 Epochs: 9 Maximum Iterations: 10 Error: 0.633114970699\n",
      "Batch size: 20 Learning Rate: 0.01 Epochs: 9 Maximum Iterations: 10 Error: 0.675831148364\n",
      "Batch size: 25 Learning Rate: 0.01 Epochs: 9 Maximum Iterations: 10 Error: 0.684525077987\n",
      "Batch size: 50 Learning Rate: 0.01 Epochs: 9 Maximum Iterations: 10 Error: 0.704267528419\n",
      "Batch size: 5 Learning Rate: 0.01 Epochs: 49 Maximum Iterations: 50 Error: 0.205583120796\n",
      "Batch size: 10 Learning Rate: 0.01 Epochs: 49 Maximum Iterations: 50 Error: 0.379688567424\n",
      "Batch size: 20 Learning Rate: 0.01 Epochs: 49 Maximum Iterations: 50 Error: 0.520375018756\n",
      "Batch size: 25 Learning Rate: 0.01 Epochs: 49 Maximum Iterations: 50 Error: 0.554815791637\n",
      "Batch size: 50 Learning Rate: 0.01 Epochs: 49 Maximum Iterations: 50 Error: 0.63089091324\n"
     ]
    },
    {
     "name": "stdout",
     "output_type": "stream",
     "text": [
      "Batch size: 5 Learning Rate: 0.01 Epochs: 99 Maximum Iterations: 100 Error: 0.068961182088\n",
      "Batch size: 10 Learning Rate: 0.01 Epochs: 99 Maximum Iterations: 100 Error: 0.204772889812\n",
      "Batch size: 20 Learning Rate: 0.01 Epochs: 99 Maximum Iterations: 100 Error: 0.378881492162\n",
      "Batch size: 25 Learning Rate: 0.01 Epochs: 99 Maximum Iterations: 100 Error: 0.429628898274\n",
      "Batch size: 50 Learning Rate: 0.01 Epochs: 99 Maximum Iterations: 100 Error: 0.55419995845\n",
      "Batch size: 5 Learning Rate: 0.01 Epochs: 223 Maximum Iterations: 500 Error: 0.0214968571478\n",
      "Batch size: 10 Learning Rate: 0.01 Epochs: 362 Maximum Iterations: 500 Error: 0.0254114105513\n",
      "Batch size: 20 Learning Rate: 0.01 Epochs: 499 Maximum Iterations: 500 Error: 0.0450389298073\n",
      "Batch size: 25 Learning Rate: 0.01 Epochs: 499 Maximum Iterations: 500 Error: 0.0687192854085\n",
      "Batch size: 50 Learning Rate: 0.01 Epochs: 499 Maximum Iterations: 500 Error: 0.204186678496\n",
      "Batch size: 5 Learning Rate: 0.01 Epochs: 223 Maximum Iterations: 1000 Error: 0.0215096686683\n",
      "Batch size: 10 Learning Rate: 0.01 Epochs: 385 Maximum Iterations: 1000 Error: 0.0239175288995\n",
      "Batch size: 20 Learning Rate: 0.01 Epochs: 618 Maximum Iterations: 1000 Error: 0.0312455227663\n",
      "Batch size: 25 Learning Rate: 0.01 Epochs: 726 Maximum Iterations: 1000 Error: 0.0344858146507\n",
      "Batch size: 50 Learning Rate: 0.01 Epochs: 483 Maximum Iterations: 1000 Error: 0.212202814991\n",
      "Batch size: 5 Learning Rate: 0.01 Epochs: 234 Maximum Iterations: 5000 Error: 0.0210575153701\n",
      "Batch size: 10 Learning Rate: 0.01 Epochs: 380 Maximum Iterations: 5000 Error: 0.0242031793601\n",
      "Batch size: 20 Learning Rate: 0.01 Epochs: 603 Maximum Iterations: 5000 Error: 0.0324622314729\n",
      "Batch size: 25 Learning Rate: 0.01 Epochs: 731 Maximum Iterations: 5000 Error: 0.0341008096646\n",
      "Batch size: 50 Learning Rate: 0.01 Epochs: 844 Maximum Iterations: 5000 Error: 0.093576694762\n",
      "Batch size: 5 Learning Rate: 0.01 Epochs: 226 Maximum Iterations: 10000 Error: 0.0213781367438\n",
      "Batch size: 10 Learning Rate: 0.01 Epochs: 383 Maximum Iterations: 10000 Error: 0.0240175502068\n",
      "Batch size: 20 Learning Rate: 0.01 Epochs: 632 Maximum Iterations: 10000 Error: 0.0302410855838\n",
      "Batch size: 25 Learning Rate: 0.01 Epochs: 777 Maximum Iterations: 10000 Error: 0.0310033661437\n",
      "Batch size: 50 Learning Rate: 0.01 Epochs: 608 Maximum Iterations: 10000 Error: 0.157839723325\n",
      "Batch size: 5 Learning Rate: 0.01 Epochs: 221 Maximum Iterations: 25000 Error: 0.0216259898812\n",
      "Batch size: 10 Learning Rate: 0.01 Epochs: 393 Maximum Iterations: 25000 Error: 0.0234990853894\n",
      "Batch size: 20 Learning Rate: 0.01 Epochs: 660 Maximum Iterations: 25000 Error: 0.0284549881722\n",
      "Batch size: 25 Learning Rate: 0.01 Epochs: 704 Maximum Iterations: 25000 Error: 0.0363018266206\n",
      "Batch size: 50 Learning Rate: 0.01 Epochs: 232 Maximum Iterations: 25000 Error: 0.394849762637\n",
      "Batch size: 5 Learning Rate: 0.01 Epochs: 219 Maximum Iterations: 50000 Error: 0.0217436179336\n",
      "Batch size: 10 Learning Rate: 0.01 Epochs: 389 Maximum Iterations: 50000 Error: 0.0237119576597\n",
      "Batch size: 20 Learning Rate: 0.01 Epochs: 619 Maximum Iterations: 50000 Error: 0.0311805967079\n",
      "Batch size: 25 Learning Rate: 0.01 Epochs: 725 Maximum Iterations: 50000 Error: 0.0345619510377\n",
      "Batch size: 50 Learning Rate: 0.01 Epochs: 479 Maximum Iterations: 50000 Error: 0.214261581952\n",
      "\n",
      "\n",
      "------------------Learning rate : 0.05-------------\n",
      "\n",
      "Batch size: 5 Learning Rate: 0.05 Epochs: 9 Maximum Iterations: 10 Error: 0.212143028911\n",
      "Batch size: 10 Learning Rate: 0.05 Epochs: 9 Maximum Iterations: 10 Error: 0.384820630451\n",
      "Batch size: 20 Learning Rate: 0.05 Epochs: 9 Maximum Iterations: 10 Error: 0.52456638772\n",
      "Batch size: 25 Learning Rate: 0.05 Epochs: 9 Maximum Iterations: 10 Error: 0.558115320278\n",
      "Batch size: 50 Learning Rate: 0.05 Epochs: 9 Maximum Iterations: 10 Error: 0.632373094511\n",
      "Batch size: 5 Learning Rate: 0.05 Epochs: 49 Maximum Iterations: 50 Error: 0.0201927181313\n",
      "Batch size: 10 Learning Rate: 0.05 Epochs: 49 Maximum Iterations: 50 Error: 0.0451293334491\n",
      "Batch size: 20 Learning Rate: 0.05 Epochs: 49 Maximum Iterations: 50 Error: 0.152814641246\n",
      "Batch size: 25 Learning Rate: 0.05 Epochs: 49 Maximum Iterations: 50 Error: 0.205148403338\n",
      "Batch size: 50 Learning Rate: 0.05 Epochs: 49 Maximum Iterations: 50 Error: 0.377419173657\n",
      "Batch size: 5 Learning Rate: 0.05 Epochs: 56 Maximum Iterations: 100 Error: 0.0196490466799\n",
      "Batch size: 10 Learning Rate: 0.05 Epochs: 99 Maximum Iterations: 100 Error: 0.020554110082\n",
      "Batch size: 20 Learning Rate: 0.05 Epochs: 99 Maximum Iterations: 100 Error: 0.0449621263222\n",
      "Batch size: 25 Learning Rate: 0.05 Epochs: 99 Maximum Iterations: 100 Error: 0.0688539940049\n",
      "Batch size: 50 Learning Rate: 0.05 Epochs: 99 Maximum Iterations: 100 Error: 0.204198404551\n",
      "Batch size: 5 Learning Rate: 0.05 Epochs: 109 Maximum Iterations: 500 Error: 0.0194478220712\n",
      "Batch size: 10 Learning Rate: 0.05 Epochs: 90 Maximum Iterations: 500 Error: 0.0212908009636\n",
      "Batch size: 20 Learning Rate: 0.05 Epochs: 149 Maximum Iterations: 500 Error: 0.0245599675336\n",
      "Batch size: 25 Learning Rate: 0.05 Epochs: 189 Maximum Iterations: 500 Error: 0.0242421148945\n",
      "Batch size: 50 Learning Rate: 0.05 Epochs: 272 Maximum Iterations: 500 Error: 0.0383297361109\n",
      "Batch size: 5 Learning Rate: 0.05 Epochs: 57 Maximum Iterations: 1000 Error: 0.0197379114362\n",
      "Batch size: 10 Learning Rate: 0.05 Epochs: 90 Maximum Iterations: 1000 Error: 0.0212212448153\n",
      "Batch size: 20 Learning Rate: 0.05 Epochs: 162 Maximum Iterations: 1000 Error: 0.0228598718724\n",
      "Batch size: 25 Learning Rate: 0.05 Epochs: 185 Maximum Iterations: 1000 Error: 0.0247281142212\n",
      "Batch size: 50 Learning Rate: 0.05 Epochs: 303 Maximum Iterations: 1000 Error: 0.0320489168792\n",
      "Batch size: 5 Learning Rate: 0.05 Epochs: 67 Maximum Iterations: 5000 Error: 0.0194113337193\n",
      "Batch size: 10 Learning Rate: 0.05 Epochs: 85 Maximum Iterations: 5000 Error: 0.0219400955101\n",
      "Batch size: 20 Learning Rate: 0.05 Epochs: 152 Maximum Iterations: 5000 Error: 0.024029453208\n",
      "Batch size: 25 Learning Rate: 0.05 Epochs: 159 Maximum Iterations: 5000 Error: 0.0296869497949\n",
      "Batch size: 50 Learning Rate: 0.05 Epochs: 334 Maximum Iterations: 5000 Error: 0.0279199376633\n",
      "Batch size: 5 Learning Rate: 0.05 Epochs: 44 Maximum Iterations: 10000 Error: 0.0213104317432\n",
      "Batch size: 10 Learning Rate: 0.05 Epochs: 95 Maximum Iterations: 10000 Error: 0.020783508319\n",
      "Batch size: 20 Learning Rate: 0.05 Epochs: 162 Maximum Iterations: 10000 Error: 0.0228459954802\n",
      "Batch size: 25 Learning Rate: 0.05 Epochs: 215 Maximum Iterations: 10000 Error: 0.0219768650642\n",
      "Batch size: 50 Learning Rate: 0.05 Epochs: 364 Maximum Iterations: 10000 Error: 0.0252177337797\n",
      "Batch size: 5 Learning Rate: 0.05 Epochs: 52 Maximum Iterations: 25000 Error: 0.0200843687462\n",
      "Batch size: 10 Learning Rate: 0.05 Epochs: 103 Maximum Iterations: 25000 Error: 0.0202146556546\n",
      "Batch size: 20 Learning Rate: 0.05 Epochs: 168 Maximum Iterations: 25000 Error: 0.0222665832763\n",
      "Batch size: 25 Learning Rate: 0.05 Epochs: 170 Maximum Iterations: 25000 Error: 0.0271388423862\n",
      "Batch size: 50 Learning Rate: 0.05 Epochs: 310 Maximum Iterations: 25000 Error: 0.0309804414599\n",
      "Batch size: 5 Learning Rate: 0.05 Epochs: 51 Maximum Iterations: 50000 Error: 0.0201378972545\n",
      "Batch size: 10 Learning Rate: 0.05 Epochs: 94 Maximum Iterations: 50000 Error: 0.0208504860706\n",
      "Batch size: 20 Learning Rate: 0.05 Epochs: 172 Maximum Iterations: 50000 Error: 0.0219633482551\n",
      "Batch size: 25 Learning Rate: 0.05 Epochs: 206 Maximum Iterations: 50000 Error: 0.0225817366171\n",
      "Batch size: 50 Learning Rate: 0.05 Epochs: 325 Maximum Iterations: 50000 Error: 0.0289587169959\n",
      "\n",
      "\n",
      "------------------Learning rate : 0.1-------------\n",
      "\n",
      "Batch size: 5 Learning Rate: 0.1 Epochs: 9 Maximum Iterations: 10 Error: 0.0707305696842\n",
      "Batch size: 10 Learning Rate: 0.1 Epochs: 9 Maximum Iterations: 10 Error: 0.211729647209\n",
      "Batch size: 20 Learning Rate: 0.1 Epochs: 9 Maximum Iterations: 10 Error: 0.385297110128\n",
      "Batch size: 25 Learning Rate: 0.1 Epochs: 9 Maximum Iterations: 10 Error: 0.43417852359\n",
      "Batch size: 50 Learning Rate: 0.1 Epochs: 9 Maximum Iterations: 10 Error: 0.556399360578\n",
      "Batch size: 5 Learning Rate: 0.1 Epochs: 26 Maximum Iterations: 50 Error: 0.0195138786302\n",
      "Batch size: 10 Learning Rate: 0.1 Epochs: 49 Maximum Iterations: 50 Error: 0.0202001606181\n",
      "Batch size: 20 Learning Rate: 0.1 Epochs: 49 Maximum Iterations: 50 Error: 0.0450149677687\n",
      "Batch size: 25 Learning Rate: 0.1 Epochs: 49 Maximum Iterations: 50 Error: 0.0686671886776\n",
      "Batch size: 50 Learning Rate: 0.1 Epochs: 49 Maximum Iterations: 50 Error: 0.204390499993\n",
      "Batch size: 5 Learning Rate: 0.1 Epochs: 47 Maximum Iterations: 100 Error: 0.0190685674464\n",
      "Batch size: 10 Learning Rate: 0.1 Epochs: 57 Maximum Iterations: 100 Error: 0.0197215276786\n",
      "Batch size: 20 Learning Rate: 0.1 Epochs: 83 Maximum Iterations: 100 Error: 0.022327590737\n",
      "Batch size: 25 Learning Rate: 0.1 Epochs: 99 Maximum Iterations: 100 Error: 0.0231535872721\n"
     ]
    },
    {
     "name": "stdout",
     "output_type": "stream",
     "text": [
      "Batch size: 50 Learning Rate: 0.1 Epochs: 99 Maximum Iterations: 100 Error: 0.0685225738709\n",
      "Batch size: 5 Learning Rate: 0.1 Epochs: 32 Maximum Iterations: 500 Error: 0.0191609715665\n",
      "Batch size: 10 Learning Rate: 0.1 Epochs: 78 Maximum Iterations: 500 Error: 0.0195141189182\n",
      "Batch size: 20 Learning Rate: 0.1 Epochs: 92 Maximum Iterations: 500 Error: 0.0209735850255\n",
      "Batch size: 25 Learning Rate: 0.1 Epochs: 122 Maximum Iterations: 500 Error: 0.0207241099457\n",
      "Batch size: 50 Learning Rate: 0.1 Epochs: 196 Maximum Iterations: 500 Error: 0.0234202363744\n",
      "Batch size: 5 Learning Rate: 0.1 Epochs: 47 Maximum Iterations: 1000 Error: 0.0190181765296\n",
      "Batch size: 10 Learning Rate: 0.1 Epochs: 52 Maximum Iterations: 1000 Error: 0.0200486079871\n",
      "Batch size: 20 Learning Rate: 0.1 Epochs: 99 Maximum Iterations: 1000 Error: 0.020587361707\n",
      "Batch size: 25 Learning Rate: 0.1 Epochs: 101 Maximum Iterations: 1000 Error: 0.0228043174381\n",
      "Batch size: 50 Learning Rate: 0.1 Epochs: 181 Maximum Iterations: 1000 Error: 0.0252552856278\n",
      "Batch size: 5 Learning Rate: 0.1 Epochs: 49 Maximum Iterations: 5000 Error: 0.0188181544326\n",
      "Batch size: 10 Learning Rate: 0.1 Epochs: 46 Maximum Iterations: 5000 Error: 0.0207976304988\n",
      "Batch size: 20 Learning Rate: 0.1 Epochs: 94 Maximum Iterations: 5000 Error: 0.0208293227996\n",
      "Batch size: 25 Learning Rate: 0.1 Epochs: 110 Maximum Iterations: 5000 Error: 0.0216340717435\n",
      "Batch size: 50 Learning Rate: 0.1 Epochs: 212 Maximum Iterations: 5000 Error: 0.0221462341606\n",
      "Batch size: 5 Learning Rate: 0.1 Epochs: 25 Maximum Iterations: 10000 Error: 0.0194271879182\n",
      "Batch size: 10 Learning Rate: 0.1 Epochs: 55 Maximum Iterations: 10000 Error: 0.0198579281961\n",
      "Batch size: 20 Learning Rate: 0.1 Epochs: 88 Maximum Iterations: 10000 Error: 0.0215805498961\n",
      "Batch size: 25 Learning Rate: 0.1 Epochs: 116 Maximum Iterations: 10000 Error: 0.0211149104033\n",
      "Batch size: 50 Learning Rate: 0.1 Epochs: 217 Maximum Iterations: 10000 Error: 0.0218614954096\n",
      "Batch size: 5 Learning Rate: 0.1 Epochs: 31 Maximum Iterations: 25000 Error: 0.0193711693442\n",
      "Batch size: 10 Learning Rate: 0.1 Epochs: 48 Maximum Iterations: 25000 Error: 0.0206128018085\n",
      "Batch size: 20 Learning Rate: 0.1 Epochs: 98 Maximum Iterations: 25000 Error: 0.0205263935561\n",
      "Batch size: 25 Learning Rate: 0.1 Epochs: 117 Maximum Iterations: 25000 Error: 0.0210252933729\n",
      "Batch size: 50 Learning Rate: 0.1 Epochs: 189 Maximum Iterations: 25000 Error: 0.0242166165212\n",
      "Batch size: 5 Learning Rate: 0.1 Epochs: 32 Maximum Iterations: 50000 Error: 0.0192213437319\n",
      "Batch size: 10 Learning Rate: 0.1 Epochs: 50 Maximum Iterations: 50000 Error: 0.0204140273108\n",
      "Batch size: 20 Learning Rate: 0.1 Epochs: 93 Maximum Iterations: 50000 Error: 0.0210501457849\n",
      "Batch size: 25 Learning Rate: 0.1 Epochs: 104 Maximum Iterations: 50000 Error: 0.0223629080491\n",
      "Batch size: 50 Learning Rate: 0.1 Epochs: 197 Maximum Iterations: 50000 Error: 0.0233358359316\n",
      "\n",
      "\n",
      "------------------Learning rate : 0.3-------------\n",
      "\n",
      "Batch size: 5 Learning Rate: 0.3 Epochs: 9 Maximum Iterations: 10 Error: 0.0189407547931\n",
      "Batch size: 10 Learning Rate: 0.3 Epochs: 9 Maximum Iterations: 10 Error: 0.0332288987025\n",
      "Batch size: 20 Learning Rate: 0.3 Epochs: 9 Maximum Iterations: 10 Error: 0.117963691003\n",
      "Batch size: 25 Learning Rate: 0.3 Epochs: 9 Maximum Iterations: 10 Error: 0.164831928494\n",
      "Batch size: 50 Learning Rate: 0.3 Epochs: 9 Maximum Iterations: 10 Error: 0.336975982536\n",
      "Batch size: 5 Learning Rate: 0.3 Epochs: 49 Maximum Iterations: 50 Error: 0.0166220320301\n",
      "Batch size: 10 Learning Rate: 0.3 Epochs: 19 Maximum Iterations: 50 Error: 0.0194126623063\n",
      "Batch size: 20 Learning Rate: 0.3 Epochs: 49 Maximum Iterations: 50 Error: 0.0182914196014\n",
      "Batch size: 25 Learning Rate: 0.3 Epochs: 37 Maximum Iterations: 50 Error: 0.0212511096726\n",
      "Batch size: 50 Learning Rate: 0.3 Epochs: 49 Maximum Iterations: 50 Error: 0.031990407633\n",
      "Batch size: 5 Learning Rate: 0.3 Epochs: 81 Maximum Iterations: 100 Error: 0.0178467433839\n",
      "Batch size: 10 Learning Rate: 0.3 Epochs: 29 Maximum Iterations: 100 Error: 0.0187436183689\n",
      "Batch size: 20 Learning Rate: 0.3 Epochs: 43 Maximum Iterations: 100 Error: 0.0193893738152\n",
      "Batch size: 25 Learning Rate: 0.3 Epochs: 76 Maximum Iterations: 100 Error: 0.0191523655118\n",
      "Batch size: 50 Learning Rate: 0.3 Epochs: 63 Maximum Iterations: 100 Error: 0.0237126683163\n",
      "Batch size: 5 Learning Rate: 0.3 Epochs: 154 Maximum Iterations: 500 Error: 0.0175356089558\n",
      "Batch size: 10 Learning Rate: 0.3 Epochs: 31 Maximum Iterations: 500 Error: 0.0187041737451\n",
      "Batch size: 20 Learning Rate: 0.3 Epochs: 34 Maximum Iterations: 500 Error: 0.0201189177577\n",
      "Batch size: 25 Learning Rate: 0.3 Epochs: 37 Maximum Iterations: 500 Error: 0.0212874141377\n",
      "Batch size: 50 Learning Rate: 0.3 Epochs: 79 Maximum Iterations: 500 Error: 0.0208522997572\n",
      "Batch size: 5 Learning Rate: 0.3 Epochs: 66 Maximum Iterations: 1000 Error: 0.017841992496\n",
      "Batch size: 10 Learning Rate: 0.3 Epochs: 57 Maximum Iterations: 1000 Error: 0.0184876906713\n",
      "Batch size: 20 Learning Rate: 0.3 Epochs: 50 Maximum Iterations: 1000 Error: 0.0196050292868\n",
      "Batch size: 25 Learning Rate: 0.3 Epochs: 60 Maximum Iterations: 1000 Error: 0.0194699835627\n",
      "Batch size: 50 Learning Rate: 0.3 Epochs: 81 Maximum Iterations: 1000 Error: 0.02068850334\n",
      "Batch size: 5 Learning Rate: 0.3 Epochs: 98 Maximum Iterations: 5000 Error: 0.0167153234373\n",
      "Batch size: 10 Learning Rate: 0.3 Epochs: 33 Maximum Iterations: 5000 Error: 0.0188686076185\n",
      "Batch size: 20 Learning Rate: 0.3 Epochs: 46 Maximum Iterations: 5000 Error: 0.0195375827971\n",
      "Batch size: 25 Learning Rate: 0.3 Epochs: 59 Maximum Iterations: 5000 Error: 0.0195759489821\n",
      "Batch size: 50 Learning Rate: 0.3 Epochs: 90 Maximum Iterations: 5000 Error: 0.0201813624757\n",
      "Batch size: 5 Learning Rate: 0.3 Epochs: 11 Maximum Iterations: 10000 Error: 0.0166953922828\n",
      "Batch size: 10 Learning Rate: 0.3 Epochs: 23 Maximum Iterations: 10000 Error: 0.0188501036087\n",
      "Batch size: 20 Learning Rate: 0.3 Epochs: 57 Maximum Iterations: 10000 Error: 0.0194041700213\n",
      "Batch size: 25 Learning Rate: 0.3 Epochs: 69 Maximum Iterations: 10000 Error: 0.0192381855144\n",
      "Batch size: 50 Learning Rate: 0.3 Epochs: 77 Maximum Iterations: 10000 Error: 0.021047359727\n",
      "Batch size: 5 Learning Rate: 0.3 Epochs: 63 Maximum Iterations: 25000 Error: 0.0169649984363\n",
      "Batch size: 10 Learning Rate: 0.3 Epochs: 32 Maximum Iterations: 25000 Error: 0.0185943235271\n",
      "Batch size: 20 Learning Rate: 0.3 Epochs: 56 Maximum Iterations: 25000 Error: 0.0193292351858\n",
      "Batch size: 25 Learning Rate: 0.3 Epochs: 50 Maximum Iterations: 25000 Error: 0.0196995316569\n",
      "Batch size: 50 Learning Rate: 0.3 Epochs: 74 Maximum Iterations: 25000 Error: 0.0213565637984\n",
      "Batch size: 5 Learning Rate: 0.3 Epochs: 139 Maximum Iterations: 50000 Error: 0.0175273517534\n",
      "Batch size: 10 Learning Rate: 0.3 Epochs: 87 Maximum Iterations: 50000 Error: 0.0190913901889\n",
      "Batch size: 20 Learning Rate: 0.3 Epochs: 31 Maximum Iterations: 50000 Error: 0.0205485817253\n",
      "Batch size: 25 Learning Rate: 0.3 Epochs: 61 Maximum Iterations: 50000 Error: 0.0193716457185\n",
      "Batch size: 50 Learning Rate: 0.3 Epochs: 73 Maximum Iterations: 50000 Error: 0.0215267672434\n"
     ]
    }
   ],
   "source": [
    "Learning_rates = [0.001, 0.05, 0.01, 0.05, 0.1, 0.3]\n",
    "MaxIter = [10, 50, 100, 500, 1000, 5000, 10000, 25000, 50000]\n",
    "batch_sizes = [5,10,20,25,50]\n",
    "optimal_weights = []\n",
    "updates = [\"online\",\"batch\",\"mini-batch\"]\n",
    "for update in updates:\n",
    "    print('----------------------------------------------------\\n')\n",
    "    print('\\t\\t\\t'+update.upper())\n",
    "\n",
    "    for alpha in Learning_rates:\n",
    "        \n",
    "        print(\"\\n\")\n",
    "        print(\"------------------Learning rate : \" + str(alpha)+\"-------------\\n\")\n",
    "        for i,maxIter in enumerate(MaxIter):\n",
    "            \n",
    "            if (update == \"mini-batch\"):\n",
    "                for batch_size in batch_sizes:\n",
    "                    cost_updates = []\n",
    "                    w = lms_grad_desc(X,y,maxIter,alpha,update, batch_size)\n",
    "            else:\n",
    "                cost_updates = []\n",
    "                w = lms_grad_desc(X,y,maxIter,alpha,update)\n",
    "        optimal_weights.append(w)"
   ]
  },
  {
   "cell_type": "markdown",
   "metadata": {},
   "source": [
    "(B) What settings worked well for you:  online vs. batch vs. minibatch? What step size? How did you decide to terminate?"
   ]
  },
  {
   "cell_type": "markdown",
   "metadata": {},
   "source": [
    "> __Observations:__ \n",
    "- Online gradient descend converges the fastest, mini-batch update follows second and Batch gradient descend is the slowest among the three to converge. \n",
    "- Mini-batch gives the minimum error. Batch update follows second.  \n",
    "\n",
    "> __Online Update :__  \n",
    "- Best Learning Rate = $0.1$\n",
    "- Number of epochs to reach optimum solution: ~ $22$  \n",
    "- Error: $0.0209473970304$  \n",
    "\n",
    "> __Batch Update:__  \n",
    "- Best Learning Rate = $0.05$  \n",
    "- Number of epochs to reach optimum solution: ~ $181$  \n",
    "- Error: $0.0201898138323$  \n",
    "\n",
    "> __Mini Batch :__  \n",
    "- Best Learning Rate = $0.3$  \n",
    "- Batch size = $10$    \n",
    "- Number of epochs to reach optimum solution: ~ $60$  \n",
    "- Error: $0.0185828720358$  \n",
    "\n",
    "> __STOPPING CRITERIA__  \n",
    "The function stops updating the weights if the percentage in absolute change in error is less than 0.1%.  "
   ]
  },
  {
   "cell_type": "markdown",
   "metadata": {},
   "source": [
    "(C) Make a graph of error on the entire data set as a function of epoch. An epoch is a complete sweep through all the data."
   ]
  },
  {
   "cell_type": "code",
   "execution_count": 9,
   "metadata": {},
   "outputs": [
    {
     "name": "stdout",
     "output_type": "stream",
     "text": [
      "ONLINE UPDATE: \n",
      "Learning Rate: 0.1 Epochs: 10 Maximum Iterations: 1000 Error: 0.0209642199305\n",
      "BATCH UPDATE : \n",
      "Learning Rate: 0.3 Epochs: 181 Maximum Iterations: 1000 Error: 0.0201898138323\n",
      "MINI-BATCH UPDATE : \n",
      "Batch size: 10 Learning Rate: 0.3 Epochs: 34 Maximum Iterations: 1000 Error: 0.0191140512972\n"
     ]
    },
    {
     "data": {
      "image/png": "[encoded data removed]",
      "text/plain": [
       "<matplotlib.figure.Figure at 0x113828128>"
      ]
     },
     "metadata": {
      "needs_background": "light"
     },
     "output_type": "display_data"
    }
   ],
   "source": [
    "#ONLINE\n",
    "cost_updates = []\n",
    "print(\"ONLINE UPDATE: \")\n",
    "lms_grad_desc(X,y,1000,0.1,\"online\")\n",
    "fig, axs = plt.subplots(1,3)\n",
    "\n",
    "axs[0].plot([i for i in range(len(cost_updates))],cost_updates)\n",
    "axs[0].set_title(\"Online Update, alpha = 0.1\")\n",
    "axs[0].set_xlabel('Number of epochs')\n",
    "axs[0].set_ylabel('Mean square error')\n",
    "axs[0].set_ylim(0,0.4)\n",
    "axs[0].set_xlim(0,10)\n",
    "axs[0].grid(True)\n",
    "\n",
    "#BATCH\n",
    "cost_updates = []\n",
    "print(\"BATCH UPDATE : \")\n",
    "lms_grad_desc(X,y,1000,0.3,\"batch\")\n",
    "axs[1].plot([i for i in range(len(cost_updates))],cost_updates)\n",
    "axs[1].set_title(\"Batch update, alpha = 0.3\")\n",
    "axs[1].set_xlabel('Number of epochs')\n",
    "axs[1].set_ylabel('Mean square error')\n",
    "axs[1].set_ylim(0,0.5)\n",
    "axs[1].grid(True)\n",
    "\n",
    "#MINI-BATCH\n",
    "cost_updates = []\n",
    "print(\"MINI-BATCH UPDATE : \")\n",
    "lms_grad_desc(X,y,1000,0.3,\"mini-batch\", 10)\n",
    "axs[2].plot([i for i in range(len(cost_updates))],cost_updates)\n",
    "axs[2].set_title(\"Mini-Batch update, alpha = 0.3, Batch-size = 10\")\n",
    "axs[2].set_xlabel('Number of epochs')\n",
    "axs[2].set_ylabel('Mean square error')\n",
    "axs[2].set_ylim(0,0.4)\n",
    "axs[2].set_xlim(0,20)\n",
    "axs[2].grid(True)\n",
    "\n",
    "fig.set_size_inches(20, 7.5)\n",
    "plt.show()"
   ]
  },
  {
   "cell_type": "markdown",
   "metadata": {},
   "source": [
    "## Part 3"
   ]
  },
  {
   "cell_type": "markdown",
   "metadata": {},
   "source": [
    "The data set from a regression problem can be converted into a classification problem simply by using the sign of (+ or -) as representing one of two classes. In the data set used in Part 1 and 2, you'll see a variable that represents this binary (0 or 1) class.\n",
    "\n",
    "Use the perceptron learning rule to solve for the coefficients {$w_1$, $w_2$, $b$} of this classification problem.   \n",
    "\n",
    "Two warnings: First, your solution to Part 3 should require only a few lines of code changed from the code you wrote for Part 2. Second, the Perceptron algorithm will not converge if there is no exact solution to the training data. It will jitter among coefficients that all yield roughly equally good solutions."
   ]
  },
  {
   "cell_type": "markdown",
   "metadata": {},
   "source": [
    "Complete the following functions below and use them to answer questions (A) and (B). \n",
    "\n",
    "**Note:** Please do not change the interface of the given functions."
   ]
  },
  {
   "cell_type": "code",
   "execution_count": 10,
   "metadata": {},
   "outputs": [],
   "source": [
    "def perceptron_update(X, y, w):\n",
    "    \"\"\"\n",
    "    One iteration of the Perceptron update over the entire dataset (not just a single point).\n",
    "    \n",
    "    Parameters\n",
    "    ----------\n",
    "    X : NumPy array of features (size : no of examples X features)\n",
    "    y : Numpy array of class labels (size : no of examples X 1)\n",
    "    w : array of coefficients from the previous iteration\n",
    "    \n",
    "    Returns\n",
    "    -------\n",
    "    w : Coefficients of the classifier (after updating)\n",
    "    incorrect : Incorrectly classified examples\n",
    "    \"\"\"\n",
    "    def relu(y):\n",
    "        '''\n",
    "        takes a value and returns 1 if the values is greater than 0 and 0 if not\n",
    "        '''\n",
    "        if y>0:\n",
    "            return 1\n",
    "        return 0\n",
    "    \n",
    "    incorrect = 0\n",
    "    \n",
    "    for i,x in enumerate(X):\n",
    "        fx = X[i].dot(w.T)\n",
    "        fx = relu(fx)\n",
    "        w = w + alpha*(x*(y[i]- fx))\n",
    "        incorrect += 0 if(fx == y[i]) else 1\n",
    "\n",
    "    return w,incorrect\n",
    "\n",
    "def perceptron(X, y, maxIter, alpha):\n",
    "    \"\"\"\n",
    "    Implements the Perceptron algorithm.\n",
    "    \n",
    "    Parameters\n",
    "    ----------\n",
    "    X : NumPy array of features (size : no of examples X features)\n",
    "    y : Numpy array of class labels (size : no of examples X 1)\n",
    "    maxIter : The maximum number of iterations allowed \n",
    "    alpha : Learning Rate\n",
    "    \n",
    "    Returns\n",
    "    -------\n",
    "    w : Coefficients of the classifier\n",
    "    incorrect : Incorrectly classified examples on termination\n",
    "    \"\"\"\n",
    "    w = np.zeros(X[0].size)\n",
    "    for iter in range(maxIter):\n",
    "        X,y = shuffle(X,y)\n",
    "        \n",
    "        w, incorrect = perceptron_update(X,y,w)\n",
    "        incorrect_updates.append(incorrect)\n",
    "\n",
    "        if(iter > 100 and incorrect_updates[-2]>0 and abs(incorrect_updates[-1]-incorrect_updates[-2])/incorrect_updates[-2] < 0.001):\n",
    "            break\n",
    "    return w, incorrect"
   ]
  },
  {
   "cell_type": "markdown",
   "metadata": {},
   "source": [
    "(A) Report the values of coefficients $w_1$, $w_2$, and $b$."
   ]
  },
  {
   "cell_type": "code",
   "execution_count": 11,
   "metadata": {},
   "outputs": [
    {
     "name": "stdout",
     "output_type": "stream",
     "text": [
      "w1: -3.04416 w2: 4.34781 b: -0.3\n"
     ]
    }
   ],
   "source": [
    "incorrect_updates = []\n",
    "w,incorrect = perceptron(X,z,100,0.001)\n",
    "print(\"w1:\", w[0], \"w2:\", w[1], \"b:\", w[2])"
   ]
  },
  {
   "cell_type": "markdown",
   "metadata": {},
   "source": [
    "(B) Make a graph of the accuracy (% correct classification) on the training set as a function of epoch."
   ]
  },
  {
   "cell_type": "code",
   "execution_count": 12,
   "metadata": {},
   "outputs": [
    {
     "data": {
      "image/png": "[encoded data removed]",
      "text/plain": [
       "<matplotlib.figure.Figure at 0x1065c3278>"
      ]
     },
     "metadata": {
      "needs_background": "light"
     },
     "output_type": "display_data"
    }
   ],
   "source": [
    "accuracy = 1-np.array(incorrect_updates)/len(z)\n",
    "fig,axs = plt.subplots(1)\n",
    "axs.plot([i for i in range(len(incorrect_updates))],accuracy)\n",
    "axs.set_title(\"Perceptron update, alpha = 0.01\")\n",
    "axs.set_xlabel('Number of epochs')\n",
    "axs.set_ylabel('Accuracy')\n",
    "# axs.set_ylim(0,0.4)\n",
    "# axs.set_xlim(0,20)\n",
    "axs.grid(True)\n",
    "\n",
    "fig.set_size_inches(20, 7.5)"
   ]
  },
  {
   "cell_type": "markdown",
   "metadata": {},
   "source": [
    "## Part 4"
   ]
  },
  {
   "cell_type": "markdown",
   "metadata": {},
   "source": [
    "In machine learning, we really want to train a model based on some data and then expect the model to do well on \"out of sample\" data. Try this with the code you wrote for Part 3:  Train the model on the first {5, 10, 25, 50, 75} examples in the data set and test the model on the final 25 examples."
   ]
  },
  {
   "cell_type": "markdown",
   "metadata": {},
   "source": [
    "Complete the following function below and use it to answer (A). \n",
    "\n",
    "**Note:** Please do not change the interface of the given function."
   ]
  },
  {
   "cell_type": "code",
   "execution_count": 21,
   "metadata": {},
   "outputs": [],
   "source": [
    "def classify(X, y, w):\n",
    "    \"\"\"\n",
    "    Use this function to classify examples in the test set\n",
    "    \n",
    "    Parameters\n",
    "    ----------\n",
    "    X : Test set features\n",
    "    y : Test set labels\n",
    "    w : Perceptron coefficients\n",
    "    \n",
    "    Returns\n",
    "    -------\n",
    "    correct : number of correctly classified examples\n",
    "    \"\"\"\n",
    "    def relu(y):\n",
    "        if y>0:\n",
    "            return 1\n",
    "        return 0\n",
    "    \n",
    "    correct = 0\n",
    "    \n",
    "    for i,x in enumerate(X):\n",
    "        fx = X[i].dot(w.T)\n",
    "        fx = relu(fx)\n",
    "        w = w + alpha*(x*(y[i]- fx))\n",
    "        correct += 1 if(fx == y[i]) else 0\n",
    "\n",
    "    return correct"
   ]
  },
  {
   "cell_type": "markdown",
   "metadata": {},
   "source": [
    "How does performance on the test set vary with the amount of training data? Make a bar graph showing performance for each of the different training set sizes."
   ]
  },
  {
   "cell_type": "code",
   "execution_count": 22,
   "metadata": {},
   "outputs": [
    {
     "name": "stdout",
     "output_type": "stream",
     "text": [
      "[0.72, 0.88, 0.92, 0.92, 0.92]\n"
     ]
    }
   ],
   "source": [
    "train_size = [5, 10, 25, 50, 75]\n",
    "accuracy = []\n",
    "alpha = 0.1\n",
    "for size in train_size:\n",
    "    train_X, train_Y = X[:size], z[:size]\n",
    "    test_X, test_Y = X[-25:], z[-25:]\n",
    "    w,incorrect = perceptron(train_X,train_Y,1000,alpha)\n",
    "    correct = classify(test_X,test_Y,w)\n",
    "    accuracy.append(correct/len(test_Y))\n",
    "\n",
    "print(accuracy)"
   ]
  },
  {
   "cell_type": "code",
   "execution_count": 24,
   "metadata": {},
   "outputs": [
    {
     "data": {
      "image/png": "[encoded data removed]",
      "text/plain": [
       "<matplotlib.figure.Figure at 0x1139c7828>"
      ]
     },
     "metadata": {
      "needs_background": "light"
     },
     "output_type": "display_data"
    }
   ],
   "source": [
    "fig,axs = plt.subplots(1)\n",
    "axs.bar(train_size,accuracy)\n",
    "axs.set_title(\"Perceptron performance with training size, alpha = 0.1\")\n",
    "axs.set_xlabel('Training size')\n",
    "axs.set_ylabel('Accuracy')\n",
    "# axs.set_ylim(0,0.4)\n",
    "# axs.set_xlim(0,20)\n",
    "axs.grid(True)\n",
    "\n",
    "fig.set_size_inches(20, 7.5)\n"
   ]
  },
  {
   "cell_type": "markdown",
   "metadata": {},
   "source": [
    ">As we can see here that as the training size increases from 5 to 50 the test accuracy increases and becomes almost same with increase in training size"
   ]
  },
  {
   "cell_type": "code",
   "execution_count": null,
   "metadata": {},
   "outputs": [],
   "source": []
  }
 ],
 "metadata": {
  "kernelspec": {
   "display_name": "Python 3",
   "language": "python",
   "name": "python3"
  },
  "language_info": {
   "codemirror_mode": {
    "name": "ipython",
    "version": 3
   },
   "file_extension": ".py",
   "mimetype": "text/x-python",
   "name": "python",
   "nbconvert_exporter": "python",
   "pygments_lexer": "ipython3",
   "version": "3.6.1"
  }
 },
 "nbformat": 4,
 "nbformat_minor": 2
}
