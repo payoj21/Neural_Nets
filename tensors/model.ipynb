{
 "cells": [
  {
   "cell_type": "markdown",
   "metadata": {},
   "source": [
    "# MLP using Automatic Differentiation\n",
    "\n",
    "***\n",
    "**Name**: Payoj Jain\n",
    "***\n",
    "\n",
    "## Goal\n",
    "\n",
    "The goal of this assignment is to build 1 layer MLP network using the framework that you built in **Assignment 3**."
   ]
  },
  {
   "cell_type": "code",
   "execution_count": 1,
   "metadata": {},
   "outputs": [],
   "source": [
    "from tensor import Tensor\n",
    "import numpy as np\n",
    "from sklearn.datasets import make_classification"
   ]
  },
  {
   "cell_type": "markdown",
   "metadata": {},
   "source": [
    "### 1. Implementing the model"
   ]
  },
  {
   "cell_type": "code",
   "execution_count": 2,
   "metadata": {},
   "outputs": [],
   "source": [
    "class MLP(object):\n",
    "    def __init__(self, n_in, n_hid, n_out):\n",
    "        \"\"\"\n",
    "        Initialize Layers (hidden and output) of the network.\n",
    "        Note: Tensors are used here instead of ndarrays, operations\n",
    "        on tensors such as dot, add, subtract, pow will allow us\n",
    "        to keep track of the computational graph, thereby making\n",
    "        gradient computation easier using a simple call to the \n",
    "        loss (MSE in this case).\n",
    "        \n",
    "        params:\n",
    "        n_in (int): Number of input neurons.\n",
    "        n_hid (int): Number of neurons in hidden layer.\n",
    "        n_out (int): Number of neurons in output layer. \n",
    "        \"\"\"\n",
    "\n",
    "        self.l1 = Tensor(np.random.randn(n_in, n_hid))\n",
    "        self.l2 = Tensor(np.random.randn(n_hid, n_out))\n",
    "\n",
    "    def forward(self, X):\n",
    "        \"\"\"\n",
    "        Implement the forward pass.\n",
    "\n",
    "        params:\n",
    "        X (NxM Tensor):\n",
    "            M dimensional input to be feed forward to the network.\n",
    "\n",
    "        returns:\n",
    "\n",
    "        y_hat (1xN Tensor): activations of the output layer.\n",
    "        \"\"\"\n",
    "        # TO-DO\n",
    "        # Obtain final layer activations using tensors.\n",
    "        # Unlike Assignment 3, you do not need to hold intermediate\n",
    "        # values here as the AD architecture will build the computational\n",
    "        # graph you.\n",
    "#         raise NotImplementedError()\n",
    "\n",
    "        z1 = X.dot(self.l1)\n",
    "        g1 = z1.relu()\n",
    "        z2 = g1.dot(self.l2)\n",
    "        g2 = z2.relu()\n",
    "        \n",
    "        return g2\n",
    "    \n",
    "    def update(self, step_size):\n",
    "        \"\"\"\n",
    "        Implement the update rule for network weights and biases.\n",
    "\n",
    "        return:\n",
    "\n",
    "        none.\n",
    "        \"\"\"\n",
    "        # TO-DO\n",
    "#         raise NotImplementedError()\n",
    "        self.l1.value -=  step_size*self.l1.grad\n",
    "        self.l2.value -=  step_size*self.l2.grad\n",
    "        \n",
    "    def zero_grad(self):\n",
    "        \"\"\"\n",
    "        Resets gradients for each layer defined in\n",
    "        the constructor.\n",
    "        \"\"\"\n",
    "        # TO-DO\n",
    "        self.l1.zero_grad()\n",
    "        self.l2.zero_grad()\n",
    "#         raise NotImplementedError()"
   ]
  },
  {
   "cell_type": "markdown",
   "metadata": {},
   "source": [
    "### 2. Train the model "
   ]
  },
  {
   "cell_type": "code",
   "execution_count": 3,
   "metadata": {},
   "outputs": [],
   "source": [
    "def train(model, X, y, epochs, lr, batch_size):\n",
    "    \"\"\"\n",
    "    Implement the train loop.\n",
    "    Make sure gradients are reset after each call to forward.\n",
    "    \n",
    "    params:\n",
    "    model (MLP): 1-hidden-layer MLP model to be trained.\n",
    "    X (Nx5 ndarray): Training inputs.\n",
    "    y (Nx1 ndarray): Groundtruth labels.\n",
    "    epochs (int): number of epochs for training\n",
    "    lr (float32): Learning-rate/Step-size for gradient descent. \n",
    "    \n",
    "    returns:\n",
    "    Implementation choice.\n",
    "    \"\"\"\n",
    "    # TO-DO\n",
    "    # For each mini batch, do the following:\n",
    "    # 1. Obtain predictions using forward().\n",
    "    # 2. Compute MSE loss.\n",
    "    # 3. Accumulate layer gradients using the backward call\n",
    "    #    on loss.\n",
    "    # 4. update() layer weights using gradient descent.\n",
    "    #   NOTE: you do not need to maintain computational\n",
    "    #\n",
    "#     raise NotImplementedError()\n",
    "    from sklearn.utils import shuffle\n",
    "    mean_squared_error = []\n",
    "\n",
    "    for epoch in range(epochs):\n",
    "        X, y = shuffle(X, y)        \n",
    "        epoch_error = 0\n",
    "\n",
    "        for batch in range(0,X.shape[0],batch_size):\n",
    "            \n",
    "            X_train = Tensor(X[batch:batch+batch_size])\n",
    "            y_train = Tensor(y[batch:batch+batch_size])\n",
    "            \n",
    "            y_hat = model.forward(X_train)\n",
    "            \n",
    "            model.zero_grad()\n",
    "            \n",
    "            mse = (y_train - y_hat).pow(2).mean()\n",
    "            mse.backward()\n",
    "            \n",
    "            model.update(lr)\n",
    "            \n",
    "            epoch_error += mse.value\n",
    "            \n",
    "        mean_error = epoch_error/(X.shape[0]/batch_size)\n",
    "        mean_squared_error.append(mean_error)\n",
    "    return mean_squared_error"
   ]
  },
  {
   "cell_type": "markdown",
   "metadata": {},
   "source": [
    "### 3. Experiment\n",
    "***\n",
    "\n",
    "**Part 3.A**  \n",
    "\n",
    "Create a model with $I = 5$ inputs, $H = 100$ and $O = 1$ output neuron. Train the model for 100 epochs using the dataset below. Plot the MSE loss for each epoch. You do not need to threshold/binarize the outputs."
   ]
  },
  {
   "cell_type": "code",
   "execution_count": 12,
   "metadata": {},
   "outputs": [],
   "source": [
    "# Do-not modify this.\n",
    "# Load dataset.\n",
    "X, y = np.load(\"data/X.npy\"), np.load(\"data/y.npy\")"
   ]
  },
  {
   "cell_type": "code",
   "execution_count": 13,
   "metadata": {},
   "outputs": [],
   "source": [
    "# Part 3.A\n",
    "mlp = MLP(5,100,1)\n",
    "error = train(mlp,X,y,100,0.000005,10)"
   ]
  },
  {
   "cell_type": "code",
   "execution_count": 14,
   "metadata": {},
   "outputs": [],
   "source": [
    "from matplotlib import pyplot as plt"
   ]
  },
  {
   "cell_type": "code",
   "execution_count": 15,
   "metadata": {},
   "outputs": [
    {
     "data": {
      "text/plain": [
       "<matplotlib.text.Text at 0x113c1b630>"
      ]
     },
     "execution_count": 15,
     "metadata": {},
     "output_type": "execute_result"
    },
    {
     "data": {
      "image/png": "[encoded data removed]",
      "text/plain": [
       "<matplotlib.figure.Figure at 0x113b61400>"
      ]
     },
     "metadata": {
      "needs_background": "light"
     },
     "output_type": "display_data"
    }
   ],
   "source": [
    "plt.plot([i for i in range(len(error))],error)\n",
    "plt.title('MSE loss for each epoch. batch size = 10, learning rate = 0.000005')\n",
    "plt.xlabel('Number of epoch')\n",
    "plt.ylabel('MSE')"
   ]
  },
  {
   "cell_type": "markdown",
   "metadata": {},
   "source": [
    "**Part 3.B**\n",
    "\n",
    "Modify the `train()` to `train_decay()` such that learning rate decays after a condition has been met. For example: \n",
    "1. If running loss stays with a limit for 'e' number of epochs.\n",
    "2. Or a constant weight decay after 'e' number of epochs.\n",
    "\n",
    "Plot MSE loss for **3.A and 3.B** on the same graph."
   ]
  },
  {
   "cell_type": "markdown",
   "metadata": {},
   "source": [
    "> __Note__: I have chosen to change the learning rate when the change in loss is less than 10% for continuous 5 epochs. "
   ]
  },
  {
   "cell_type": "code",
   "execution_count": 8,
   "metadata": {},
   "outputs": [],
   "source": [
    "def train_decay(model, X, y, epochs, lr, decay, batch_size):\n",
    "    \n",
    "    mean_squared_errors = []\n",
    "    old_error = 0\n",
    "    epoch_count = 0 \n",
    "    for epoch in range(epochs):\n",
    "        \n",
    "        from sklearn.utils import shuffle\n",
    "        epoch_error = 0\n",
    "        X, y = shuffle(X, y)\n",
    "\n",
    "        for batch in range(0,X.shape[0],batch_size):\n",
    "            \n",
    "            X_train = Tensor(X[batch:batch+batch_size])\n",
    "            y_train = Tensor(y[batch:batch+batch_size])\n",
    "            \n",
    "            y_hat = model.forward(X_train)\n",
    "            \n",
    "            model.zero_grad()\n",
    "            \n",
    "            mse = (y_train - y_hat).pow(2).mean()\n",
    "            mse.backward()\n",
    "            \n",
    "            model.update(lr)\n",
    "            \n",
    "            epoch_error += mse.value\n",
    "            \n",
    "        mean_error = epoch_error/(X.shape[0]/batch_size)\n",
    "        mean_squared_errors.append(mean_error)\n",
    "        \n",
    "        # Change the lr if change in error is within 10% for 5 continuous epochs\n",
    "        \n",
    "        if epoch > 1 and (0.9 * old_error < mean_error < 1.1 *old_error):\n",
    "            epoch_count += 1\n",
    "            if epoch_count == 5:\n",
    "                lr /= decay\n",
    "                epoch_count = 0\n",
    "        old_error = mean_error\n",
    "    return mean_squared_errors"
   ]
  },
  {
   "cell_type": "markdown",
   "metadata": {},
   "source": [
    "> __Note__: I have deep copied the weights from the first network to the network __with decay learning rate__. To compare the behavior of learning rate the initial conditions of the networks have to be the same. "
   ]
  },
  {
   "cell_type": "code",
   "execution_count": 28,
   "metadata": {},
   "outputs": [],
   "source": [
    "import copy\n",
    "mlp = MLP(5,100,1)\n",
    "l1 = copy.deepcopy(mlp.l1.value)\n",
    "l2 = copy.deepcopy(mlp.l2.value)\n",
    "mlp_decay = MLP(5,100,1)\n",
    "mlp_decay.l1 = Tensor(l1)\n",
    "mlp_decay.l2 = Tensor(l2)"
   ]
  },
  {
   "cell_type": "code",
   "execution_count": 29,
   "metadata": {},
   "outputs": [],
   "source": [
    "lr_error = train_decay(mlp,X,y,100,0.00001,1,10)\n",
    "decay_error = train_decay(mlp_decay,X,y,100,0.00001,1.5,10)"
   ]
  },
  {
   "cell_type": "code",
   "execution_count": 30,
   "metadata": {},
   "outputs": [
    {
     "data": {
      "text/plain": [
       "<matplotlib.legend.Legend at 0x1144671d0>"
      ]
     },
     "execution_count": 30,
     "metadata": {},
     "output_type": "execute_result"
    },
    {
     "data": {
      "image/png": "[encoded data removed]",
      "text/plain": [
       "<matplotlib.figure.Figure at 0x114250898>"
      ]
     },
     "metadata": {
      "needs_background": "light"
     },
     "output_type": "display_data"
    }
   ],
   "source": [
    "plt.plot([i for i in range(len(lr_error))],lr_error, label='Normal training')\n",
    "plt.plot([i for i in range(len(decay_error))],decay_error, label='decay rate = 1.25')\n",
    "plt.title('MSE loss for each epoch. batch size = 10, learning rate = 0.00001')\n",
    "plt.xlabel('Number of epochs')\n",
    "plt.ylabel('MSE')\n",
    "plt.legend()"
   ]
  },
  {
   "cell_type": "code",
   "execution_count": null,
   "metadata": {},
   "outputs": [],
   "source": []
  }
 ],
 "metadata": {
  "kernelspec": {
   "display_name": "Python 3",
   "language": "python",
   "name": "python3"
  },
  "language_info": {
   "codemirror_mode": {
    "name": "ipython",
    "version": 3
   },
   "file_extension": ".py",
   "mimetype": "text/x-python",
   "name": "python",
   "nbconvert_exporter": "python",
   "pygments_lexer": "ipython3",
   "version": "3.6.1"
  }
 },
 "nbformat": 4,
 "nbformat_minor": 2
}
