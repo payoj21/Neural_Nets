{
 "cells": [
  {
   "cell_type": "markdown",
   "metadata": {},
   "source": [
    "# Convolutional Neural Nets"
   ]
  },
  {
   "cell_type": "markdown",
   "metadata": {},
   "source": [
    "**Name: Payoj Jain**"
   ]
  },
  {
   "cell_type": "markdown",
   "metadata": {},
   "source": [
    "<b> Objective- </b>\n",
    "\n",
    "In this assignment, you will create and train a convolutional network using our automatic differentiation framework. There are two major tasks:\n",
    "1. Implement a simple but useful convolutional layer within our automatic differentiation framework. The layer won't support padding and will only permit a stride of 1. Your implementation will not make use of the Toeplitz matrix (which converts convolution into a matrix multiplication). Instead, it will convolve the filter over the input tensor. With NumPy, this can be slow, so your implementation will make use of a just-in-time (JIT) NumPy acceleration library called Numba.\n",
    "2. Construct and train a convolutional network similar to LeNet, using our automatic differentiation framework, to classify digits. To keep training times low, the dataset you'll use is a subset of the MNIST dataset that includes only subsets of the digits 3, 7, 8, and 9 -- which tend to be near one another in the learned representation space."
   ]
  },
  {
   "cell_type": "markdown",
   "metadata": {},
   "source": [
    "<b> Files provided- </b>\n",
    "1. **functions.py** - Contains the definition of functions supported by auto-diff framework. No change is required in this file.\n",
    "2. **utils.py**      - Contains utilities for auto-diff framework. No change is required in this file.\n",
    "3. **tensor.py**    - Contains the Tensor wrapper class. Two additional functions have been added to the Tensor class, *conv2d and reshape*, you will provide a definition for these operations in the file conv_functions.py. No change is required in this file.\n",
    "4. **np_utils.py** - Contains an example for accelerated version of rot180 (i.e. np.rot90 applied twice). You may add additional helper functions or use the given function if it helps.\n",
    "\n",
    "<b> Files to be modified - </b>\n",
    "1. **conv_functions.py** - Contains the definition of Convolution2D and Reshape operations added to the Tensor class. The first major task is to implement these two classes. Please look into the file for additional details.\n",
    "2. **assignment_7.ipynb** - Contains unit tests for your implementation of Convolution2D and Reshape operations. Additionally you will implement a network similar to LeNet.\n",
    " \n"
   ]
  },
  {
   "cell_type": "markdown",
   "metadata": {},
   "source": [
    "<b> Notes for Task 1 </b>\n",
    "* You are free to implement the forward and backward pass for convolution operation as you see fit.\n",
    "* If you find that the implementation is time consuming, you can use Numba to accelerate it. More information about Numba can be found here - http://numba.pydata.org/\n",
    "    * Some key details on Numba :\n",
    "        * All you need to numba-fy your function is to add a decorator to it. Please refer the example_helper_func given in conv_functions.py.\n",
    "        * Numba doesn't understand the *self* argument, so ensure that your accelerated functions do not have *self* as an argument.\n",
    "        * While Numba supports most NumPy functions, some of them (that you might need, ex: np.pad, np.rot90) are not supported. Please refer https://numba.pydata.org/numba-doc/dev/reference/numpysupported.html for more information.\n",
    "        * With Numba, it takes about 60-90 seconds to pass the unit tests.\n",
    "* Stride and Padding are defaulted to 1 and 0 respectively and are only included to keep an extensible interface, you won't use them in your implementation (unless you want to support arbitrary stride/padding)\n",
    "* In the unit tests, your implementation is tested against PyTorch's. Please refer https://pytorch.org/docs/stable/nn.html for documentation."
   ]
  },
  {
   "cell_type": "markdown",
   "metadata": {},
   "source": [
    "<b> Notes for Task 2 </b>\n",
    "* You will use the newly integrated conv2d layers to create a LeNet style network, The task is to classify a subset of MNIST digits. The dataset contains digits 3, 7, 8, 9 of size 1x21x21. It has 4k training examples and 1k validation examples.\n",
    "* You may use the following configuration for your LeNet style network - \n",
    "    * Kernel for first conv layer: number of filters = 2, kernel size = (1, 6, 6), ReLU activation\n",
    "    * Kernel for second conv layer: number of filters = 8, kernel size = (2, 6, 6), ReLU activation\n",
    "    * Out size for first fully connected layer = 100, ReLU activation\n",
    "    * Out size for output fully connected layer = 4, sigmoid activation\n",
    "    * MSE loss between one-hot encoded true labels and predictions.\n",
    "* You are free to use the entire dataset if you have enough compute, but are not required to do so. \n",
    "* The idea is to use simple, already implemented blocks to form the network, even if it might not be the best design choice (e.g. sigmoid instead of softmax at output, MSE loss instead of cross entropy loss, absence of pooling layers, etc.). You are free to add operations within the AD framework if you want to try out something new. Please share your tested implementation on Piazza if you do so!"
   ]
  },
  {
   "cell_type": "markdown",
   "metadata": {},
   "source": [
    "# Part 1\n"
   ]
  },
  {
   "cell_type": "markdown",
   "metadata": {},
   "source": [
    "Implement the convolutional layer within your automatic differentiation framework with no padding and a fixed stride of 1."
   ]
  },
  {
   "cell_type": "code",
   "execution_count": 1,
   "metadata": {},
   "outputs": [],
   "source": [
    "import numpy as np\n",
    "from functions import Function\n",
    "import unittest\n",
    "import torch\n",
    "from tensor import Tensor\n",
    "import time\n",
    "from numba import jit\n",
    "import np_utils\n",
    "import copy\n",
    "import pickle\n",
    "import gzip\n",
    "import matplotlib.pyplot as plt\n",
    "from conv_functions import *\n",
    "%matplotlib inline"
   ]
  },
  {
   "cell_type": "code",
   "execution_count": 2,
   "metadata": {},
   "outputs": [],
   "source": [
    "class ConvTests(unittest.TestCase):\n",
    "\n",
    "    def setUp(self):\n",
    "        self._started_at = time.time()\n",
    "\n",
    "    def tearDown(self):\n",
    "        elapsed = time.time() - self._started_at\n",
    "        print('{} ({}s)'.format(self.id(), round(elapsed, 2)))\n",
    "\n",
    "    def test_forward_1(self):\n",
    "        a = np.random.rand(50, 1, 50, 50)\n",
    "        b = np.random.rand(20, 1, 2, 2)\n",
    "        # Implementation\n",
    "        result_1 = Tensor(a).conv2d(Tensor(b)).value\n",
    "        # Torch\n",
    "        result_2 = torch.nn.functional.conv2d(torch.tensor(a), torch.tensor(b), stride=1).numpy()\n",
    "\n",
    "        self.assertEqual(np.allclose(result_1, result_2), True)\n",
    "\n",
    "    def test_forward_2(self):\n",
    "        a = np.random.rand(50, 1, 28, 28)\n",
    "        b = np.random.rand(50, 1, 3, 4)\n",
    "        # Implementation\n",
    "        result_1 = Tensor(a).conv2d(Tensor(b)).value\n",
    "        # Torch\n",
    "        result_2 = torch.nn.functional.conv2d(torch.tensor(a), torch.tensor(b), stride=1).numpy()\n",
    "\n",
    "        self.assertEqual(np.allclose(result_1, result_2), True)\n",
    "\n",
    "    def test_forward_3(self):\n",
    "        a = np.random.rand(20, 3, 28, 30)\n",
    "        b = np.random.rand(50, 3, 4, 4)\n",
    "        # Implementation\n",
    "        result_1 = Tensor(a).conv2d(Tensor(b)).value\n",
    "        # Torch\n",
    "        result_2 = torch.nn.functional.conv2d(torch.tensor(a), torch.tensor(b), stride=1).numpy()\n",
    "\n",
    "        self.assertEqual(np.allclose(result_1, result_2), True)\n",
    "\n",
    "    def test_backward_1(self):\n",
    "        a = np.random.rand(50, 2, 30, 30)\n",
    "        b = np.random.rand(20, 2, 2, 2)\n",
    "        # Implementation\n",
    "        inp_1 = Tensor(a)\n",
    "        kernel_1 = Tensor(b)\n",
    "        res_1 = inp_1.conv2d(kernel_1)\n",
    "        mse_1 = res_1.sum()\n",
    "        mse_1.backward()\n",
    "        # Torch\n",
    "        inp_2 = torch.tensor(a, requires_grad=True)\n",
    "        kernel_2 = torch.tensor(b, requires_grad=True)\n",
    "        res_2 = torch.nn.functional.conv2d(inp_2, kernel_2, stride=1)\n",
    "        mse_2 = torch.sum(res_2)\n",
    "        mse_2.backward()\n",
    "\n",
    "        self.assertEqual(np.allclose(inp_1.grad, inp_2.grad.numpy()), True)\n",
    "        self.assertEqual(np.allclose(kernel_1.grad, kernel_2.grad.numpy()), True)\n",
    "\n",
    "    def test_backward_2(self):\n",
    "        a = np.random.rand(3, 1, 3, 3)\n",
    "        b = np.random.rand(2, 1, 2, 2)\n",
    "        # Implementation\n",
    "        inp_1 = Tensor(a)\n",
    "        kernel_1 = Tensor(b)\n",
    "        res_1 = inp_1.conv2d(kernel_1)\n",
    "        y_1 = Tensor(np.ones_like(res_1.value))\n",
    "        mse_1 = (y_1 - res_1).pow(2).sum()\n",
    "        mse_1.backward()\n",
    "        # Torch\n",
    "        inp_2 = torch.tensor(a, requires_grad=True)\n",
    "        kernel_2 = torch.tensor(b, requires_grad=True)\n",
    "        res_2 = torch.nn.functional.conv2d(inp_2, kernel_2, stride=1)\n",
    "        y_2 = torch.tensor(np.ones_like(res_2.data))\n",
    "        mse_2 = torch.sum((y_2 - res_2) ** 2)\n",
    "        mse_2.backward()\n",
    "\n",
    "        self.assertEqual(np.allclose(inp_1.grad, inp_2.grad.numpy()), True)\n",
    "        self.assertEqual(np.allclose(kernel_1.grad, kernel_2.grad.numpy()), True)\n",
    "\n",
    "    def test_backward_3(self):\n",
    "        a = np.random.rand(4, 3, 20, 20)\n",
    "        b = np.random.rand(10, 3, 3, 4)\n",
    "        # Implementation\n",
    "        inp_1 = Tensor(a)\n",
    "        kernel_1 = Tensor(b)\n",
    "        res_1 = inp_1.conv2d(kernel_1)\n",
    "        y_1 = Tensor(np.ones_like(res_1.value))\n",
    "        mse_1 = (y_1 - res_1).pow(2).sum()\n",
    "        mse_1.backward()\n",
    "        # Torch\n",
    "        inp_2 = torch.tensor(a, requires_grad=True)\n",
    "        kernel_2 = torch.tensor(b, requires_grad=True)\n",
    "        res_2 = torch.nn.functional.conv2d(inp_2, kernel_2, stride=1)\n",
    "        y_2 = torch.tensor(np.ones_like(res_2.data))\n",
    "        mse_2 = torch.sum((y_2 - res_2) ** 2)\n",
    "        mse_2.backward()\n",
    "\n",
    "        self.assertEqual(np.allclose(inp_1.grad, inp_2.grad.numpy()), True)\n",
    "        self.assertEqual(np.allclose(kernel_1.grad, kernel_2.grad.numpy()), True)\n",
    "\n",
    "    def test_layers_4(self):\n",
    "        a = np.random.rand(2, 2, 8, 8)\n",
    "        b = np.random.rand(3, 2, 4, 4)\n",
    "        c = np.random.rand(4, 3, 2, 2)\n",
    "        # Implementation\n",
    "        inp_1 = Tensor(a)\n",
    "        kernel_1 = Tensor(b)\n",
    "        kernel_11 = Tensor(c)\n",
    "        res_1 = inp_1.conv2d(kernel_1)\n",
    "        res_11 = res_1.conv2d(kernel_11)\n",
    "        y_1 = Tensor(np.ones_like(res_11.value))\n",
    "        mse = (y_1 - res_11).pow(2).sum()\n",
    "        mse.backward()\n",
    "        # Torch\n",
    "        inp_2 = torch.tensor(a, requires_grad=True)\n",
    "        kernel_2 = torch.tensor(b, requires_grad=True)\n",
    "        kernel_22 = torch.tensor(c, requires_grad=True)\n",
    "        res_2 = torch.nn.functional.conv2d(inp_2, kernel_2, stride=1)\n",
    "        res_22 = torch.nn.functional.conv2d(res_2, kernel_22, stride=1)\n",
    "        y_2 = torch.tensor(np.ones_like(res_22.data))\n",
    "        mse = torch.sum((y_2 - res_22) ** 2)\n",
    "        mse.backward()\n",
    "\n",
    "        self.assertEqual(np.allclose(inp_1.grad, inp_2.grad.numpy()), True)\n",
    "        self.assertEqual(np.allclose(kernel_1.grad, kernel_2.grad.numpy()), True)\n",
    "        self.assertEqual(np.allclose(kernel_11.grad, kernel_22.grad.numpy()), True)\n",
    "\n",
    "    def test_time(self):\n",
    "        a = np.random.rand(100, 1, 28, 28)\n",
    "        b = np.random.rand(20, 1, 14, 14)\n",
    "        c = np.random.rand(30, 20, 7, 7)\n",
    "        # Implementation\n",
    "        inp_1 = Tensor(a)\n",
    "        kernel_1 = Tensor(b)\n",
    "        kernel_11 = Tensor(c)\n",
    "        res_1 = inp_1.conv2d(kernel_1)\n",
    "        res_11 = res_1.conv2d(kernel_11)\n",
    "        y_1 = Tensor(np.ones_like(res_11.value))\n",
    "        mse_1 = (y_1 - res_11).pow(2).sum()\n",
    "        mse_1.backward()\n",
    "        # Torch\n",
    "        inp_2 = torch.tensor(a, requires_grad=True)\n",
    "        kernel_2 = torch.tensor(b, requires_grad=True)\n",
    "        kernel_22 = torch.tensor(c, requires_grad=True)\n",
    "        res_2 = torch.nn.functional.conv2d(inp_2, kernel_2, stride=1)\n",
    "        res_22 = torch.nn.functional.conv2d(res_2, kernel_22, stride=1)\n",
    "        y_2 = torch.tensor(np.ones_like(res_22.data))\n",
    "        mse_2 = torch.sum((y_2 - res_22) ** 2)\n",
    "        mse_2.backward()\n",
    "\n",
    "        self.assertEqual(np.allclose(inp_1.grad, inp_2.grad.numpy()), True)\n",
    "        self.assertEqual(np.allclose(kernel_1.grad, kernel_2.grad.numpy()), True)\n",
    "        self.assertEqual(np.allclose(kernel_11.grad, kernel_22.grad.numpy()), True)\n",
    "\n",
    "    def test_reshape(self):\n",
    "        a = np.random.rand(2, 4, 3, 3)\n",
    "        b = np.random.rand(72, 1)\n",
    "        # Implementation\n",
    "        inp_1 = Tensor(a)\n",
    "        inp_11 = Tensor(b)\n",
    "        reshape_1 = inp_1.reshape(b.shape)\n",
    "        loss_1 = (inp_11 + reshape_1).sum()\n",
    "        loss_1.backward()\n",
    "        # Torch\n",
    "        inp_2 = torch.tensor(a, requires_grad=True)\n",
    "        inp_22 = torch.tensor(b, requires_grad=True)\n",
    "        reshape_2 = torch.sum(inp_2.view(b.shape) + inp_22)\n",
    "        reshape_2.backward()\n",
    "\n",
    "        self.assertEqual(np.allclose(inp_1.grad, inp_2.grad.numpy()), True)\n",
    "        self.assertEqual(np.allclose(inp_11.grad, inp_22.grad.numpy()), True)"
   ]
  },
  {
   "cell_type": "code",
   "execution_count": 3,
   "metadata": {},
   "outputs": [
    {
     "name": "stderr",
     "output_type": "stream",
     "text": [
      ".."
     ]
    },
    {
     "name": "stdout",
     "output_type": "stream",
     "text": [
      "__main__.ConvTests.test_backward_1 (30.87s)\n",
      "__main__.ConvTests.test_backward_2 (0.03s)\n"
     ]
    },
    {
     "name": "stderr",
     "output_type": "stream",
     "text": [
      "."
     ]
    },
    {
     "name": "stdout",
     "output_type": "stream",
     "text": [
      "__main__.ConvTests.test_backward_3 (0.54s)\n"
     ]
    },
    {
     "name": "stderr",
     "output_type": "stream",
     "text": [
      "."
     ]
    },
    {
     "name": "stdout",
     "output_type": "stream",
     "text": [
      "__main__.ConvTests.test_forward_1 (28.38s)\n"
     ]
    },
    {
     "name": "stderr",
     "output_type": "stream",
     "text": [
      "."
     ]
    },
    {
     "name": "stdout",
     "output_type": "stream",
     "text": [
      "__main__.ConvTests.test_forward_2 (16.99s)\n"
     ]
    },
    {
     "name": "stderr",
     "output_type": "stream",
     "text": [
      "..."
     ]
    },
    {
     "name": "stdout",
     "output_type": "stream",
     "text": [
      "__main__.ConvTests.test_forward_3 (7.18s)\n",
      "__main__.ConvTests.test_layers_4 (0.01s)\n",
      "__main__.ConvTests.test_reshape (0.0s)\n"
     ]
    },
    {
     "name": "stderr",
     "output_type": "stream",
     "text": [
      "."
     ]
    },
    {
     "name": "stdout",
     "output_type": "stream",
     "text": [
      "__main__.ConvTests.test_time (25.19s)\n"
     ]
    },
    {
     "name": "stderr",
     "output_type": "stream",
     "text": [
      "\n",
      "----------------------------------------------------------------------\n",
      "Ran 9 tests in 109.207s\n",
      "\n",
      "OK\n"
     ]
    }
   ],
   "source": [
    "if __name__ == '__main__':\n",
    "    unittest.main(argv=['first-arg-is-ignored'], exit=False)"
   ]
  },
  {
   "cell_type": "markdown",
   "metadata": {},
   "source": [
    "# Part 2\n"
   ]
  },
  {
   "cell_type": "markdown",
   "metadata": {},
   "source": [
    "Create a CNN similar to LeNet to classify digits in a reduced MNIST dataset, Plot the training error and validation accuracy against epochs."
   ]
  },
  {
   "cell_type": "code",
   "execution_count": 4,
   "metadata": {},
   "outputs": [],
   "source": [
    "import math"
   ]
  },
  {
   "cell_type": "code",
   "execution_count": 5,
   "metadata": {},
   "outputs": [],
   "source": [
    "class ConvNetwork:\n",
    "    def __init__(self):\n",
    "        \"\"\"\n",
    "        Initialize convolutional and fully connected weights here.\n",
    "        Kaiming weight initialization works well for the model.\n",
    "        \"\"\"\n",
    "        self.kernel1 = Tensor(np.random.normal(0,math.sqrt(2./36),(2,1,6,6)))\n",
    "        self.kernel2 = Tensor(np.random.normal(0,math.sqrt(2./72),(8,2,6,6)))\n",
    "#         self.conv1 = Tensor(np.random.normal(0,math.sqrt(2./512),(32,2,16,16)))\n",
    "#         self.conv2 = Tensor(np.random.normal(0,math.sqrt(2./968),(32,8,11,11)))\n",
    "        self.W1      = Tensor(np.random.normal(0,math.sqrt(2./100),(968,100)))\n",
    "        self.W2      = Tensor(np.random.normal(0,math.sqrt(2./100),(100,4)))\n",
    "\n",
    "    def forward(self, input_in):\n",
    "        \"\"\"\n",
    "        Forward pass of the network.\n",
    "        :param input_in: Input tensor of size (batch_size x in_channels x height x width).\n",
    "        :return: output tensor (batch_size x out_size).\n",
    "        \"\"\"\n",
    "        #--------- LAYER 1 ---------------------\n",
    "        conv1 = input_in.conv2d(self.kernel1)\n",
    "        conv1 = conv1.relu()\n",
    "        \n",
    "        #--------- LAYER 2 ---------------------\n",
    "        conv2 = conv1.conv2d(self.kernel2)\n",
    "        conv2 = conv2.relu()\n",
    "\n",
    "        (a, b, c, d) = conv2.value.shape\n",
    "\n",
    "        flatten = conv2.reshape((-1,b*c*d))\n",
    "        act_l1 = flatten.dot(self.W1).relu()\n",
    "        output = act_l1.dot(self.W2).sigmoid()\n",
    "                    \n",
    "        return output\n",
    "\n",
    "    def update(self, lr):\n",
    "        \"\"\"\n",
    "        Update the weights of the network using SGD.\n",
    "        \"\"\"\n",
    "        self.kernel1.value -= lr*self.kernel1.grad\n",
    "        self.kernel2.value -= lr*self.kernel2.grad\n",
    "        self.W1.value -= lr*self.W1.grad\n",
    "        self.W2.value -= lr*self.W2.grad\n",
    "    \n",
    "    def zero_grad(self):\n",
    "        \"\"\"\n",
    "        Reset gradients for the weights of the network.\n",
    "        \"\"\"\n",
    "        self.kernel1.zero_grad()\n",
    "        self.kernel2.zero_grad()\n",
    "        self.W1.zero_grad()\n",
    "        self.W2.zero_grad()"
   ]
  },
  {
   "cell_type": "code",
   "execution_count": 6,
   "metadata": {},
   "outputs": [],
   "source": [
    "def test(model, X, y):\n",
    "    \"\"\"\n",
    "    Test the model\n",
    "    :param model: Trained ConvNetwork object.\n",
    "    :param X: Validation set inputs.\n",
    "    :param y: Validation set targets.\n",
    "    :return: Accuracy of model.\n",
    "    \"\"\"\n",
    "    (batch_size, _) = y.shape\n",
    "    \n",
    "    X_new = Tensor(X).reshape((batch_size, 1, 21, 21))\n",
    "    y_hat = model.forward(X_new)\n",
    "    accuracy = 0\n",
    "    \n",
    "    for i in range(y_hat.value.shape[0]):\n",
    "        accuracy += y[i][y_hat.value[i].argmax()]\n",
    "     \n",
    "    return accuracy/batch_size"
   ]
  },
  {
   "cell_type": "code",
   "execution_count": 7,
   "metadata": {},
   "outputs": [],
   "source": [
    "def train(model, X, y, X_valid, y_valid, epochs, batch_size):\n",
    "    \"\"\"\n",
    "    Train the model and validate it every few epochs.\n",
    "    :param model: ConvNetwork object.\n",
    "    :param X: Training set inputs.\n",
    "    :param y: Training set targets.\n",
    "    :param X_valid: Validation set inputs.\n",
    "    :param y_valid: Validation set targets.\n",
    "    :return: Training error for every epoch.\n",
    "    :return: Validation accuracy every few epochs.\n",
    "    \"\"\"\n",
    "    error_train = []\n",
    "    valid_acc = []\n",
    "    batches = int(X.shape[0]/batch_size)\n",
    "    \n",
    "    for epoch in range(1, epochs+1):\n",
    "        from sklearn.utils import shuffle\n",
    "        X, y = shuffle(X, y)\n",
    "        error_train_temp = []\n",
    "        for i in range(0, len(X), batch_size):\n",
    "            X_batch = Tensor(X[i:i+batch_size])\n",
    "            X_batch = X_batch.reshape((batch_size,1,21,21))\n",
    "        \n",
    "            y_batch = Tensor(y[i:i+batch_size])\n",
    "            \n",
    "            y_hat = model.forward(X_batch)\n",
    "            \n",
    "            mse_loss = (y_batch - y_hat).pow(2).mean()\n",
    "            error_train_temp.append(mse_loss.value)\n",
    "\n",
    "            model.zero_grad()\n",
    "            mse_loss.backward()\n",
    "            model.update(0.1)\n",
    "            \n",
    "        error_train.append(sum(error_train_temp)/batches)\n",
    "        valid_acc.append(test(model, X_valid, y_valid))\n",
    "        print('Validation accuracy after epoch ', epoch, ': ',valid_acc[epoch-1])\n",
    "    return error_train, valid_acc"
   ]
  },
  {
   "cell_type": "code",
   "execution_count": 8,
   "metadata": {},
   "outputs": [],
   "source": [
    "def view_digit(x, label=None):\n",
    "    \"\"\"\n",
    "    Utility function to view the training data.\n",
    "    (courtesy - Chris Ketelsen)\n",
    "    \"\"\"\n",
    "    fig = plt.figure(figsize=(3, 3))\n",
    "    plt.imshow(x.reshape(21, 21), cmap='gray');\n",
    "    plt.xticks([]);\n",
    "    plt.yticks([]);\n",
    "    if label:\n",
    "        plt.xlabel(\"true: {}\".format(label), fontsize=16)\n",
    "    plt.show()"
   ]
  },
  {
   "cell_type": "code",
   "execution_count": 9,
   "metadata": {},
   "outputs": [],
   "source": [
    "# Load the data into training and validation sets.\n",
    "X_train, y_train, X_valid, y_valid = pickle.load(gzip.open(\"data/mnist21x21_3789_one_hot.pklz\", \"rb\"))\n"
   ]
  },
  {
   "cell_type": "code",
   "execution_count": 10,
   "metadata": {},
   "outputs": [
    {
     "data": {
      "image/png": "[encoded data removed]",
      "text/plain": [
       "<Figure size 216x216 with 1 Axes>"
      ]
     },
     "metadata": {},
     "output_type": "display_data"
    }
   ],
   "source": [
    "# View the training data.\n",
    "training_index = 5\n",
    "label_dict = dict({0: 3, 1: 7, 2: 8, 3: 9})\n",
    "view_digit(X_train[training_index], label_dict[np.argmax(y_train[training_index])])"
   ]
  },
  {
   "cell_type": "code",
   "execution_count": 11,
   "metadata": {},
   "outputs": [
    {
     "name": "stdout",
     "output_type": "stream",
     "text": [
      "Validation accuracy after epoch  1 :  0.8225\n",
      "Validation accuracy after epoch  2 :  0.8975\n",
      "Validation accuracy after epoch  3 :  0.90625\n",
      "Validation accuracy after epoch  4 :  0.92875\n",
      "Validation accuracy after epoch  5 :  0.92625\n",
      "Validation accuracy after epoch  6 :  0.935\n",
      "Validation accuracy after epoch  7 :  0.935\n",
      "Validation accuracy after epoch  8 :  0.9425\n",
      "Validation accuracy after epoch  9 :  0.94125\n",
      "Validation accuracy after epoch  10 :  0.9475\n",
      "Validation accuracy after epoch  11 :  0.93875\n",
      "Validation accuracy after epoch  12 :  0.9475\n",
      "Validation accuracy after epoch  13 :  0.93875\n",
      "Validation accuracy after epoch  14 :  0.955\n",
      "Validation accuracy after epoch  15 :  0.94625\n",
      "Validation accuracy after epoch  16 :  0.95375\n",
      "Validation accuracy after epoch  17 :  0.9575\n",
      "Validation accuracy after epoch  18 :  0.95125\n",
      "Validation accuracy after epoch  19 :  0.95625\n",
      "Validation accuracy after epoch  20 :  0.955\n",
      "(2776.85s)\n"
     ]
    }
   ],
   "source": [
    "# Train and validate the network\n",
    "network = ConvNetwork()\n",
    "\n",
    "num_train = 3072\n",
    "num_valid = 800\n",
    "epochs = 20\n",
    "batch_size = 64\n",
    "\n",
    "\n",
    "_started_at = time.time()\n",
    "train_error, valid_acc = train(network, X_train[:num_train], y_train[:num_train], X_valid[:num_valid], y_valid[:num_valid], epochs, batch_size)\n",
    "elapsed = time.time() - _started_at\n",
    "print('({}s)'.format(round(elapsed, 2)))"
   ]
  },
  {
   "cell_type": "code",
   "execution_count": 12,
   "metadata": {},
   "outputs": [
    {
     "data": {
      "text/plain": [
       "Text(0, 0.5, 'MSE')"
      ]
     },
     "execution_count": 12,
     "metadata": {},
     "output_type": "execute_result"
    },
    {
     "data": {
      "image/png": "[encoded data removed]",
      "text/plain": [
       "<Figure size 864x360 with 1 Axes>"
      ]
     },
     "metadata": {
      "needs_background": "light"
     },
     "output_type": "display_data"
    }
   ],
   "source": [
    "# Plot training error.\n",
    "plt.figure(figsize=(12,5))\n",
    "plt.plot(range(20), train_error)\n",
    "plt.xlim(0,20)\n",
    "plt.title('MSE loss for each epoch. batch size = 128')\n",
    "plt.xlabel('Number of epochs')\n",
    "plt.ylabel('MSE')"
   ]
  },
  {
   "cell_type": "code",
   "execution_count": 13,
   "metadata": {},
   "outputs": [
    {
     "data": {
      "text/plain": [
       "Text(0, 0.5, 'Validation accuracy')"
      ]
     },
     "execution_count": 13,
     "metadata": {},
     "output_type": "execute_result"
    },
    {
     "data": {
      "image/png": "[encoded data removed]",
      "text/plain": [
       "<Figure size 864x360 with 1 Axes>"
      ]
     },
     "metadata": {
      "needs_background": "light"
     },
     "output_type": "display_data"
    }
   ],
   "source": [
    "# Plot validation accuracy.\n",
    "plt.figure(figsize=(12,5))\n",
    "plt.plot(range(20), valid_acc)\n",
    "plt.xlim(0,20)\n",
    "plt.title('Validation accuracy for each epoch. batch size = 128')\n",
    "plt.xlabel('Number of epochs')\n",
    "plt.ylabel('Validation accuracy')"
   ]
  },
  {
   "cell_type": "code",
   "execution_count": null,
   "metadata": {},
   "outputs": [],
   "source": []
  }
 ],
 "metadata": {
  "kernelspec": {
   "display_name": "Python 3",
   "language": "python",
   "name": "python3"
  },
  "language_info": {
   "codemirror_mode": {
    "name": "ipython",
    "version": 3
   },
   "file_extension": ".py",
   "mimetype": "text/x-python",
   "name": "python",
   "nbconvert_exporter": "python",
   "pygments_lexer": "ipython3",
   "version": "3.7.1"
  }
 },
 "nbformat": 4,
 "nbformat_minor": 2
}
