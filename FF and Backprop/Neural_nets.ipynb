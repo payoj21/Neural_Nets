{
 "cells": [
  {
   "cell_type": "markdown",
   "metadata": {},
   "source": [
    "# Neural Network\n",
    "***\n",
    "**Name**: Payoj Jain\n",
    "***\n",
    "\n",
    "## Goal\n",
    "\n",
    "The goal of this assignment is to build a one-hidden-layer back propagation network to process real data.  For this assignment you will implement the neural net (activation function and training code) yourself, not using tensorflow or other deep learning frameworks. The purpose is for you to understand the nitty gritty of what these frameworks are doing for you before we switch over to using them."
   ]
  },
  {
   "cell_type": "markdown",
   "metadata": {},
   "source": [
    "## Data \n",
    "***\n",
    "\n",
    "In this assignment you will be using the Occupancy Detection data set (ODD). It consists of experimental data used for binary classification of room occupancy (i.e., room is occupied versus empty) based on temperature, humidity, light, and CO2 sensors. The train and test data sets are each collected over a week period.\n",
    "\n",
    "The data set includes time stamps with date and hour/minute/second within the day. You are **not to use time stamp features** for predicting occupancy. Since this is a commercial office building, the time stamp is a strong predictor of occupancy. Rather, the goal is to determine whether occupancy - **occ** can be sensed from:\n",
    "1. temperature, expressed in degrees Celsius - **temp**\n",
    "2. relative humidity, expressed as a % - **hum**\n",
    "3. light, in lux - **light**\n",
    "4. CO2, in ppm - **cdx**\n",
    "5. humidity ratio, which is derived from the temperature and the relative humidity - **hum_ratio**"
   ]
  },
  {
   "cell_type": "code",
   "execution_count": 1,
   "metadata": {},
   "outputs": [],
   "source": [
    "import numpy as np\n",
    "import pandas as pd\n",
    "import pickle\n",
    "from sklearn.model_selection import train_test_split"
   ]
  },
  {
   "cell_type": "code",
   "execution_count": 2,
   "metadata": {},
   "outputs": [],
   "source": [
    "data = pd.read_csv('data/datatraining.txt')\n",
    "X = data[['date', 'Humidity', 'Light', 'CO2', 'HumidityRatio', 'Temperature']].values\n",
    "y = data['Occupancy'].values\n",
    "\n",
    "X_train, X_test, y_train, y_test = train_test_split(X, y, test_size=0.1)"
   ]
  },
  {
   "cell_type": "markdown",
   "metadata": {},
   "source": [
    "### 1. Perceptron\n",
    "***\n",
    "\n",
    "Using the perceptron code you wrote for Assignment 1, train a perceptron (linear activation function with a binary threshold) using the training set. Your perceptron should have the 5 input variables described above.\n",
    "\n",
    "**Part A**: Report the training and test set performance in terms of % examples classified correctly.\n",
    "\n",
    "**NOTE**: The Perceptron Update Rule is guaranteed to converge only if there is a setting of the weights that will classify the training set perfectly.  (The learning rule minimizes mistakes. When all examples are classified correctly, the weights stop changing.)  With a noisy data set like this one, the algorithm will not find an exact solution.  Also remember that the perceptron algorithm is not performing gradient descent. Instead, it will jitter around the ideal solution continually changing the weights from one iteration to the next. The weight changes will have a small effect on performance, so you'll see training set performance jitter a bit as well."
   ]
  },
  {
   "cell_type": "code",
   "execution_count": 3,
   "metadata": {},
   "outputs": [
    {
     "name": "stdout",
     "output_type": "stream",
     "text": [
      "[-14.75909925000158 3.7689000000001815 0.9204083333323604\n",
      " -0.004070592657108118 -68.98334166666251]\n",
      "238\n",
      "102\n",
      "Train accuracy :  0.9675218340611353\n"
     ]
    }
   ],
   "source": [
    "from sklearn.utils import shuffle\n",
    "def perceptron_update(X, y, w):\n",
    "#     w, incorrect = None, None\n",
    "    def relu(y):\n",
    "        '''\n",
    "        takes a value and returns 1 if the values is greater than 0 and 0 if not\n",
    "        '''\n",
    "        if y>0:\n",
    "            return 1\n",
    "        return 0\n",
    "    \n",
    "    incorrect = 0\n",
    "    \n",
    "    for i,x in enumerate(X):\n",
    "        fx = x.dot(w.T)\n",
    "        fx = relu(fx)\n",
    "        w = w + alpha*(x*(y[i]- fx))\n",
    "        incorrect += 0 if(fx == y[i]) else 1\n",
    "\n",
    "    return w, incorrect\n",
    "\n",
    "def perceptron(X, y, maxIter, alpha):\n",
    "    w, incorrect, it = np.zeros(X[0].size), 0, 0 \n",
    "    for iter in range(maxIter):\n",
    "        X,y = shuffle(X,y)\n",
    "        \n",
    "        w, incorrect = perceptron_update(X,y,w)\n",
    "        incorrect_updates.append(incorrect)\n",
    "        it += 1;\n",
    "        if(iter > 100 and incorrect_updates[-2]>0 and abs(incorrect_updates[-1]-incorrect_updates[-2])/incorrect_updates[-2] < 0.001):\n",
    "            break\n",
    "    return w, incorrect, it\n",
    "alpha = 0.001\n",
    "incorrect_updates = []\n",
    "w, n, i = perceptron(X_train.T[1:].T, y_train, 1000, alpha)\n",
    "\n",
    "print(w)\n",
    "print(n)\n",
    "print(i)\n",
    "train_accuracy = 1 - (n/X_train.shape[0])\n",
    "print(\"Train accuracy : \", train_accuracy)"
   ]
  },
  {
   "cell_type": "code",
   "execution_count": 4,
   "metadata": {},
   "outputs": [
    {
     "name": "stdout",
     "output_type": "stream",
     "text": [
      "799\n",
      "Test Accuracy :  0.9803680981595092\n"
     ]
    }
   ],
   "source": [
    "def classify(X,y,w):\n",
    "    def relu(y):\n",
    "        if y>0:\n",
    "            return 1\n",
    "        return 0\n",
    "    \n",
    "    correct = 0\n",
    "    \n",
    "    for i,x in enumerate(X):\n",
    "        fx = X[i].dot(w.T)\n",
    "        fx = relu(fx)\n",
    "        w = w + alpha*(x*(y[i]- fx))\n",
    "        correct += 1 if(fx == y[i]) else 0\n",
    "\n",
    "    return correct\n",
    "\n",
    "c = classify(X_test.T[1:].T, y_test, w)\n",
    "print(c)\n",
    "test_accuracy = c/X_test.shape[0]\n",
    "print(\"Test Accuracy : \", test_accuracy)"
   ]
  },
  {
   "cell_type": "markdown",
   "metadata": {},
   "source": [
    "### 2. 1-layer feedforward neural net\n",
    "***\n",
    "\n",
    "In this part, you will implement a 1-layer feedforward neural network from scratch as shown in the figure below.\n",
    "<img src=\"./res/mlp_ann.png\" alt=\"mlp_ann\" style=\"width:500px;\"/>\n",
    "Your tasks are as follows:"
   ]
  },
  {
   "cell_type": "markdown",
   "metadata": {},
   "source": [
    "**PART 2.A**\n",
    "\n",
    "1. Implement `sigmoid(x)`: In this assignment, we will be using the sigmoid activation function as the non-linearity.\n",
    "2. Implement `forward(x)` which calculates the activations at layer 1, 2 and 3 (stored in variables `_a01`, `_a12`, `_a23` respectively) and returns the final layer activations.\n",
    "3. Implement `backward(y, y_hat)` such that it returns layer 1 and layer 2 gradients using the mean squared loss between the predicted and groundtruth vectors.\n",
    "4. Implement `update(l1_grad, l2_grad)` function which will update the weights and biases stored in `_W1, _W2 and _b1, _b2`.\n",
    "5. Implement`train(X, y, epochs)`.\n",
    "6. Implement `predict(X)` to return one-hot encoded representation of the `_a23` layer activation."
   ]
  },
  {
   "cell_type": "code",
   "execution_count": 5,
   "metadata": {},
   "outputs": [],
   "source": [
    "\n",
    "rndg = np.random.RandomState(seed=0)\n",
    "\n",
    "class MLP(object):\n",
    "    \"\"\"\n",
    "        -- Skeleton Code for a Multi-Layer Perceptron Neural Net.\n",
    "           Network has 1 input layer followed by a hidden layer and\n",
    "           an output layer. \n",
    "        \n",
    "    \"\"\"\n",
    "    def __init__(self, n_vis=5, n_hid=10, n_out=1, batch_size=7, lr=0.1):\n",
    "        \"\"\"\n",
    "            Initialize an MLP object.\n",
    "            \n",
    "            params\n",
    "            \n",
    "            n_vis (int): # of neurons in input layer.\n",
    "            n_hid (int): # of neurons in hidden layer.\n",
    "            n_out (int): # number of neurons in final output layer.\n",
    "            batch_size (int): # number of X,y instances in a mini-batch.\n",
    "            lr (double): learning rate/step size.\n",
    "\n",
    "            class variables:\n",
    "            \n",
    "            _W1, _b1 (np.ndarray): \n",
    "                Weights and biases of the input layer respectively.\n",
    "            \n",
    "            _W2, _b2 (np.ndarray):\n",
    "                Weights and biases of the hidden layer respectively.\n",
    "            \n",
    "            _a01, _a12, _a23 (np.ndarray or None):\n",
    "                Activations from input, hidden and output layer respectively.  \n",
    "        \"\"\"\n",
    "        self._n_vis = n_vis\n",
    "        self._n_hid = n_hid\n",
    "        self._n_out = n_out\n",
    "        \n",
    "        self._W1 = rndg.normal(size=(self._n_hid, self._n_vis))\n",
    "        self._b1 = np.ones((self._n_hid, 1))\n",
    "\n",
    "        self._W2 = rndg.normal(size=(self._n_out, self._n_hid))\n",
    "        self._b2 = np.ones((self._n_out, 1))\n",
    "\n",
    "        self._a01 = None\n",
    "        self._a12 = None\n",
    "        self._a23 = None\n",
    "        \n",
    "        self.batch_size = batch_size\n",
    "        self.lr = lr\n",
    "\n",
    "    def sigmoid(self, X):\n",
    "        \"\"\"\n",
    "            Sigmoid Logistic Function.\n",
    "            \n",
    "            params:\n",
    "            \n",
    "            X (np.ndarray)\n",
    "            \n",
    "            return:\n",
    "            \n",
    "            result (np.ndarray): result = f(X) \n",
    "                where f is the sigmoid function.\n",
    "            \n",
    "        \"\"\"\n",
    "#         raise NotImplementedError()\n",
    "        return 1.0/(1.0+np.exp(-X.astype(float)))\n",
    "        \n",
    "        \n",
    "\n",
    "    def forward(self, X):\n",
    "        \"\"\"\n",
    "            Feed forward an input through each \n",
    "            of the layers of network.\n",
    "            \n",
    "            Store each layer activation in the class \n",
    "            variables defined in the constructor. You'll\n",
    "            need them later during backpropogation.\n",
    "            \n",
    "            params:\n",
    "            \n",
    "            X (np.ndarray): batch_size x 5 dimensional array\n",
    "            \n",
    "            return:\n",
    "            \n",
    "            y_hat (np.ndarray): 1 x batch_size dimensional array\n",
    "                representing final layer outputs.\n",
    "            \n",
    "        \"\"\"\n",
    "        \n",
    "#         raise NotImplementedError()\n",
    "        self._a01 = X.T\n",
    "#         print(\"a01\", self._a01.shape[0], self._a01.shape[1])\n",
    "#         print(\"W1\", self._W1.shape[0], self._W1.shape[1]) # w1 10 x 5\n",
    "        self._a12 = self.sigmoid(self._W1.dot(self._a01) + self._b1)\n",
    "#         print(\"a12\", self._a12.shape[0], self._a12.shape[1]) # a12 10 X 7\n",
    "        self._a23 = self.sigmoid(self._W2.dot(self._a12) + self._b2) # W2 1 X 10\n",
    "#         print(\"a23\", self._a23.shape[0], self._a23.shape[1]) # a23 1 X 7\n",
    "        y_hat = self._a23\n",
    "\n",
    "\n",
    "        return y_hat\n",
    "        \n",
    "    def backward(self, y, y_hat):\n",
    "        \n",
    "        \"\"\"\n",
    "            Implement the backpropogation algorithm.\n",
    "            Assume mean squared loss at the output.\n",
    "            \n",
    "            params:\n",
    "            \n",
    "            y (np.ndarray): batch_size x 1 dimensional vector\n",
    "                of grounf truth labels.\n",
    "            y_hat (np.nd_array): 1 x 7 dimensional vector\n",
    "                of predicted lables from forward().\n",
    "            \n",
    "            return:\n",
    "            \n",
    "            l1_grad (np.ndarray): 1 x n_hid dimensional array\n",
    "                representing gradients for input layer.\n",
    "                \n",
    "            l2_grad (np.ndarray): n_hid x n_vis dimensional array\n",
    "                representing gradients for hidden layer.\n",
    "            \n",
    "        \"\"\"\n",
    "        a01 = self._a01\n",
    "        a12 = self._a12\n",
    "        \n",
    "#         print(y_hat, y)\n",
    "#         print((y_hat - y)*(y_hat*(1-y_hat)))\n",
    "        delta_12 = (y_hat - y)*(y_hat*(1-y_hat))  # 1 X 7\n",
    "#         print(delta_12.shape[0], delta_12.shape[1]) \n",
    "#         db_2 = delta_12\n",
    "        dW_2 = delta_12.dot(a12.T)            #change in weights is delta.transpose of a(l) # a12 = 10 X 7\n",
    "#         print(dW_2.shape[0], dW_2.shape[1])         # dW_2 = 1 X 10 \n",
    "        delta_01 = self._W2.T.dot(delta_12)*(a12*(1-a12))\n",
    "        \n",
    "#         db_1 = delta_01\n",
    "        dW_1 = delta_01.dot(a01.T) # dw_1 10 X 5\n",
    "#         print(\"dW_1\", dW_1.shape[0], dW_1.shape[1])\n",
    "#         raise NotImplementedError()\n",
    "\n",
    "        l1_grad = dW_1\n",
    "        l2_grad = dW_2\n",
    "        \n",
    "        return l1_grad, l2_grad        \n",
    "    def update(self, l1_grad, l2_grad):\n",
    "        \"\"\"\n",
    "            Implement the update rule for network weights and biases.\n",
    "            \n",
    "            params:\n",
    "            \n",
    "            l1_grad (np.ndarray): gradients for input layer.\n",
    "            l2_grad (np.ndarray): gradients for hidden layer.\n",
    "            \n",
    "            return:\n",
    "            \n",
    "            none.\n",
    "        \"\"\"\n",
    "        # TO-DO\n",
    "#         print(\"lr :\",self.lr, \"l1_grad :\", l1_grad, \"W1 :\", self._W1)\n",
    "        self._W1 = self._W1 - self.lr*l1_grad\n",
    "        self._W2 = self._W2 - self.lr*l2_grad \n",
    "        \n",
    "    def predict(self, X, threshold = 0.5):\n",
    "        \"\"\"\n",
    "            Returns one hot encoding of vector X using 0.5\n",
    "            as the threshold.\n",
    "            \n",
    "            params:\n",
    "            \n",
    "            X (np.ndarray): predictions/activations of the output layer.\n",
    "            \n",
    "            return:\n",
    "            \n",
    "            y (np.ndarray): one hot encoding of output layer.\n",
    "        \"\"\"\n",
    "#         Y = np.zeros(X.shape[0])\n",
    "        \n",
    "        y_hat = self.forward(X)\n",
    "        for i in range(len(y_hat[0])):\n",
    "            if y_hat[0][i]>= 0.5:\n",
    "                y_hat[0][i] = 1\n",
    "            else:\n",
    "                y_hat[0][i] = 0\n",
    "#         raise NotImplementedError()\n",
    "#         print (\"*************************\\n\", y_hat)\n",
    "        return y_hat\n",
    "    def train(self, X, y, epochs):\n",
    "        \"\"\"\n",
    "            Implement the train loop for n epochs.\n",
    "            In each epoch do the following:\n",
    "            1. Shuffle the dataset.\n",
    "            2. create self.batch_size sized-mini-batches of the dataset.\n",
    "            3. get network predictions using forward().\n",
    "            4. calculate the gradients using backward().\n",
    "            5. update the network weights using update().\n",
    "            6. Repeat 1-5 until convergence.\n",
    "            \n",
    "            params:\n",
    "            \n",
    "            X (np.ndarray): N x 5 dimensional ndarray of inputs.\n",
    "            y (np.ndarray): N x 1 dimensional array of true labels.\n",
    "            epochs (int): # of epochs to train the network for. \n",
    "            \n",
    "            return:\n",
    "            \n",
    "            none.\n",
    "        \"\"\"\n",
    "        # TO-DO\n",
    "\n",
    "        mini_batch_size = self.batch_size\n",
    "        \n",
    "        for epoch in range(epochs):\n",
    "\n",
    "            X, y = shuffle(X, y)\n",
    "            \n",
    "            for batch in range(0,X.shape[0],mini_batch_size):\n",
    "                y_hat = self.forward(X[batch:batch+mini_batch_size])\n",
    "#                 print(y_hat.shape[0], y_hat.shape[1])\n",
    "                l1_grad, l2_grad = self.backward(y[batch:batch+mini_batch_size],y_hat)\n",
    "                self.update(l1_grad, l2_grad)\n",
    "\n",
    "#         raise NotImplementedError()\n",
    "            \n",
    "    def test(self, X_test, y_test):\n",
    "        \"\"\"\n",
    "            Implement the test function which reports accuracy of \n",
    "            the model on the test set X_test against the true labels\n",
    "            y_test.\n",
    "            \n",
    "            You may re-use the predict and accuracy functions defined above.\n",
    "            \n",
    "            params:\n",
    "            \n",
    "            X_test (np.ndarray): N x M dimensional array where M is the \n",
    "                number of attributes considered for training the model.\n",
    "            y_test (np.ndarray): N x 1 dimensional array.\n",
    "            \n",
    "            return:\n",
    "            \n",
    "            accuracy (double): accuracy of the predicted labels against the \n",
    "                groundtruth labels.\n",
    "        \"\"\"\n",
    "        pred = self.predict(X_test)\n",
    "        accuracy = self.accuracy(y_test, pred)\n",
    "        return accuracy\n",
    "#         raise NotImplementedError()\n",
    "    \n",
    "    @classmethod\n",
    "    def accuracy(self, y, y_hat):\n",
    "        len_ = y.flatten().shape[0]\n",
    "        acc = np.sum(y.flatten() == y_hat.flatten())/len_\n",
    "#         print(acc)\n",
    "        return acc"
   ]
  },
  {
   "cell_type": "code",
   "execution_count": 6,
   "metadata": {
    "scrolled": true
   },
   "outputs": [
    {
     "name": "stderr",
     "output_type": "stream",
     "text": [
      "...\n",
      "----------------------------------------------------------------------\n",
      "Ran 3 tests in 0.617s\n",
      "\n",
      "OK\n"
     ]
    },
    {
     "data": {
      "text/plain": [
       "<unittest.runner.TextTestResult run=3 errors=0 failures=0>"
      ]
     },
     "execution_count": 6,
     "metadata": {},
     "output_type": "execute_result"
    }
   ],
   "source": [
    "import unittest\n",
    "from sklearn.datasets import make_classification\n",
    "\n",
    "def load_params(path, model):\n",
    "    \n",
    "    params = pickle.load(open(path, 'rb'))\n",
    "    for key in params:\n",
    "        model.__dict__[key] = params[key]\n",
    "\n",
    "class TestMLP(unittest.TestCase):\n",
    "    def setUp(self):\n",
    "        \n",
    "        self.net = MLP()\n",
    "        self.pre_trained_model = load_params(\"./res/mlp.pkl\", self.net)\n",
    "        self.X = np.load(\"./res/x.npy\")\n",
    "        self.y = np.load(\"./res/y.npy\")\n",
    "        self.p = np.load(\"./res/p.npy\")\n",
    "        self.sigX = np.asarray([-1, -2, -3, 0, 1, 2, 3])\n",
    "    \n",
    "    def test_forward(self):\n",
    "        self.assertEqual(np.sum(self.net.forward(self.X[901:])), np.sum(self.p))\n",
    "    \n",
    "    def test_train(self):\n",
    "        x, y = make_classification(\n",
    "            n_samples=1000,\n",
    "            n_features=5,\n",
    "            n_redundant=0,\n",
    "            random_state=rndg\n",
    "        )\n",
    "        net = MLP(5, 10, 1, 7, 0.01)\n",
    "        net.train(self.X[:900], self.y[:900], 100)\n",
    "#         print (self.y[901:])\n",
    "        self.assertTrue(net.accuracy(net.predict(self.X[901:]), self.y[901:]) > 0.88)\n",
    "    \n",
    "    def test_sigmoid(self):\n",
    "        self.assertEqual(\n",
    "            np.sum(self.net.sigmoid(self.sigX)), 3.5\n",
    "        )\n",
    "        \n",
    "suite = unittest.TestLoader().loadTestsFromTestCase(TestMLP)\n",
    "unittest.TextTestRunner().run(suite)"
   ]
  },
  {
   "cell_type": "markdown",
   "metadata": {},
   "source": [
    "**PART 2.B**\n",
    "\n",
    "Report the baseline performance of the untrained MLP that you built in **PART 2.A** using the selected values. To calculate the baseline score, feed-forward entire test set through the test function. The test function will return a set of predictions. Calculate the accuracy of these predictions against ground truth training lables.  \n",
    "Report:\n",
    "1. accuracy"
   ]
  },
  {
   "cell_type": "code",
   "execution_count": 7,
   "metadata": {},
   "outputs": [
    {
     "name": "stderr",
     "output_type": "stream",
     "text": [
      "/Library/Frameworks/Python.framework/Versions/3.6/lib/python3.6/site-packages/ipykernel_launcher.py:66: RuntimeWarning: overflow encountered in exp\n"
     ]
    },
    {
     "data": {
      "text/plain": [
       "0.21963190184049081"
      ]
     },
     "execution_count": 7,
     "metadata": {},
     "output_type": "execute_result"
    }
   ],
   "source": [
    "### Part 2.B\n",
    "net = MLP()\n",
    "baseline_accuracy = net.test(X_test.T[1:].T, y_test)\n",
    "baseline_accuracy"
   ]
  },
  {
   "cell_type": "markdown",
   "metadata": {},
   "source": [
    "**PART 2.C**\n",
    "\n",
    "Select a learning rate, batch size and train the network for 100 epochs. After each epoch plot a graph of netowrk's accuracy on the test data. On the same graph, plot a constant horizontal line of the baseline score that you reported in **PART 2.B**.  \n",
    "\n",
    "Report:\n",
    "1. learning rate\n",
    "2. batch size"
   ]
  },
  {
   "cell_type": "code",
   "execution_count": 11,
   "metadata": {
    "scrolled": true
   },
   "outputs": [
    {
     "name": "stderr",
     "output_type": "stream",
     "text": [
      "/Library/Frameworks/Python.framework/Versions/3.6/lib/python3.6/site-packages/ipykernel_launcher.py:66: RuntimeWarning: overflow encountered in exp\n"
     ]
    }
   ],
   "source": [
    "### Part 2.C\n",
    "from matplotlib import pyplot as plt\n",
    "\n",
    "epochs = 100\n",
    "accuracy_history = []\n",
    "lr, batch_size = 0.0002,10\n",
    "net = MLP(5, 5, 1, batch_size, lr)\n",
    "X_train_p2 = X_train.T[1:].T\n",
    "X_test_p2 = X_test.T[1:].T\n",
    "for epoch in range(1,epochs+1):\n",
    "\n",
    "    net.train(X_train_p2, y_train, epoch)\n",
    "    acc = net.test(X_test_p2, y_test)\n",
    "#     print(acc)\n",
    "    accuracy_history.append(acc)\n",
    "# print(accuracy_history)"
   ]
  },
  {
   "cell_type": "markdown",
   "metadata": {},
   "source": [
    "> Learning Rate : 0.0002  \n",
    "Batch size = 10"
   ]
  },
  {
   "cell_type": "code",
   "execution_count": 12,
   "metadata": {},
   "outputs": [
    {
     "data": {
      "image/png": "[encoded data removed]",
      "text/plain": [
       "<matplotlib.figure.Figure at 0x1064f4ef0>"
      ]
     },
     "metadata": {
      "needs_background": "light"
     },
     "output_type": "display_data"
    }
   ],
   "source": [
    "epochs = [e for e in range(1,101)]\n",
    "plt.plot(epochs, accuracy_history, label = 'MLP')\n",
    "plt.plot(epochs, [baseline_accuracy]*100, label = 'Baseline')\n",
    "plt.xlabel(\"Number of epochs\")\n",
    "plt.ylabel(\"Accuracy\")\n",
    "plt.legend()\n",
    "plt.show()"
   ]
  },
  {
   "cell_type": "code",
   "execution_count": 14,
   "metadata": {},
   "outputs": [
    {
     "name": "stdout",
     "output_type": "stream",
     "text": [
      "0.787254366812\n"
     ]
    },
    {
     "name": "stderr",
     "output_type": "stream",
     "text": [
      "/Library/Frameworks/Python.framework/Versions/3.6/lib/python3.6/site-packages/ipykernel_launcher.py:66: RuntimeWarning: overflow encountered in exp\n"
     ]
    }
   ],
   "source": [
    "p2_train_accuracy = net.test(X_train_p2, y_train)\n",
    "print(p2_train_accuracy)"
   ]
  },
  {
   "cell_type": "markdown",
   "metadata": {},
   "source": [
    "**PART 2.D**\n",
    "\n",
    "Now train nets with varying size of the hidden layer $H={1, 2, 5, 10..}$ for max epochs = 100. Make a plot of the nets' accuracy on test set as a function of $H$."
   ]
  },
  {
   "cell_type": "code",
   "execution_count": 17,
   "metadata": {},
   "outputs": [
    {
     "name": "stderr",
     "output_type": "stream",
     "text": [
      "/Library/Frameworks/Python.framework/Versions/3.6/lib/python3.6/site-packages/ipykernel_launcher.py:66: RuntimeWarning: overflow encountered in exp\n"
     ]
    }
   ],
   "source": [
    "### Part 2.D\n",
    "H = [1,2,5,10,15,20,25,30]\n",
    "epochs = 100\n",
    "hidden_accuracy_history = []\n",
    "lr, batch_size = 0.002,10\n",
    "for h in H:\n",
    "    net = MLP(5, h, 1, batch_size, lr)\n",
    "    net.train(X_train.T[1:].T, y_train, epochs)\n",
    "    acc = net.test(X_test.T[1:].T, y_test)\n",
    "    hidden_accuracy_history.append(acc)"
   ]
  },
  {
   "cell_type": "code",
   "execution_count": 19,
   "metadata": {},
   "outputs": [
    {
     "data": {
      "text/plain": [
       "[0.78773006134969326,\n",
       " 0.21226993865030674,\n",
       " 0.78773006134969326,\n",
       " 0.78773006134969326,\n",
       " 0.78773006134969326,\n",
       " 0.94233128834355828,\n",
       " 0.94233128834355828,\n",
       " 0.96196319018404908]"
      ]
     },
     "execution_count": 19,
     "metadata": {},
     "output_type": "execute_result"
    }
   ],
   "source": [
    "hidden_accuracy_history"
   ]
  },
  {
   "cell_type": "code",
   "execution_count": 18,
   "metadata": {},
   "outputs": [
    {
     "data": {
      "image/png": "[encoded data removed]",
      "text/plain": [
       "<matplotlib.figure.Figure at 0x115b7a240>"
      ]
     },
     "metadata": {
      "needs_background": "light"
     },
     "output_type": "display_data"
    }
   ],
   "source": [
    "plt.plot(H,hidden_accuracy_history, label='MLP')\n",
    "plt.xlabel(\"Number of Hidden layer units\")\n",
    "plt.ylabel(\"Accuracy\")\n",
    "plt.legend()\n",
    "plt.show()"
   ]
  },
  {
   "cell_type": "markdown",
   "metadata": {},
   "source": [
    "### 3. Extra Credit"
   ]
  },
  {
   "cell_type": "markdown",
   "metadata": {},
   "source": [
    "See how much adding information about time of day helps the network. Add a new set of inputs that represent the time of day. (Don't add information about day of week or absolute date.)  \n",
    "\n",
    "\n",
    "**PART 3.A**  \n",
    "\n",
    "Determine an appropriate representation for the time of day. Describe the representation you used. For example, you might add one unit with a value ranging from 0 to 1 for times ranging from 00:00 to 23:59. Report the representation you selected.\n"
   ]
  },
  {
   "cell_type": "markdown",
   "metadata": {},
   "source": [
    "**Representing Time as a feature**  \n",
    ">My idea for representing time as a feature in the input layer is to ignore the date and convert the time into seconds. Normalising these resultant time by subtracting the minimum from each training example time and dividing the difference with the maximum time"
   ]
  },
  {
   "cell_type": "code",
   "execution_count": 20,
   "metadata": {
    "scrolled": true
   },
   "outputs": [
    {
     "data": {
      "text/plain": [
       "array([ 0.74427547,  0.74495883,  0.74566534, ...,  0.39679635,\n",
       "        0.39750287,  0.3981978 ])"
      ]
     },
     "execution_count": 20,
     "metadata": {},
     "output_type": "execute_result"
    }
   ],
   "source": [
    "### Part 3.A\n",
    "import datetime\n",
    "import time\n",
    "\n",
    "times_of_day = X.T[0]\n",
    "time_feature = np.array([time.mktime(datetime.datetime.strptime(t.split()[1],\"%H:%M:%S\").timetuple()) for t in times_of_day])\n",
    "\n",
    "# taking z-norm. Subtracting the minimum time from each and then dividing eaach time with the max\n",
    "time_feature -= min(time_feature)\n",
    "time_feature /= max(time_feature)\n",
    "time_feature"
   ]
  },
  {
   "cell_type": "markdown",
   "metadata": {},
   "source": [
    "**PART 3.B**  \n",
    "\n",
    "Train your net with $H=5$ hidden and compare training and test set performance to the net you built in (2e)"
   ]
  },
  {
   "cell_type": "code",
   "execution_count": null,
   "metadata": {},
   "outputs": [],
   "source": [
    "### Part 3.B"
   ]
  },
  {
   "cell_type": "code",
   "execution_count": 21,
   "metadata": {},
   "outputs": [],
   "source": [
    "new_feature = np.array([time_feature])\n",
    "new_X = np.concatenate((X.T[1:].T, new_feature.T), axis = 1)"
   ]
  },
  {
   "cell_type": "code",
   "execution_count": 22,
   "metadata": {},
   "outputs": [],
   "source": [
    "lr, batch_size = 0.001, 10\n",
    "n_vis, n_hid, n_out = 6, 5, 1\n",
    "epochs = 100"
   ]
  },
  {
   "cell_type": "code",
   "execution_count": 28,
   "metadata": {},
   "outputs": [
    {
     "name": "stderr",
     "output_type": "stream",
     "text": [
      "/Library/Frameworks/Python.framework/Versions/3.6/lib/python3.6/site-packages/ipykernel_launcher.py:66: RuntimeWarning: overflow encountered in exp\n"
     ]
    }
   ],
   "source": [
    "# Test performance with time as a feature\n",
    "X_train_p3, X_test_p3, y_train, y_test = train_test_split(new_X, y, test_size=0.1)\n",
    "net = MLP(n_vis, n_hid, n_out, batch_size, lr)\n",
    "net.train(X_train_p3, y_train, epochs)\n",
    "p3_test_accuracy = net.test(X_test_p3, y_test)\n",
    "p3_train_accuracy = net.test(X_train_p3, y_train)"
   ]
  },
  {
   "cell_type": "code",
   "execution_count": 33,
   "metadata": {},
   "outputs": [
    {
     "name": "stdout",
     "output_type": "stream",
     "text": [
      "Test performance after 100 epochs for model WITHOUT time as a feature (lr: 0.002, batch_size: 10): 0.78773006135\n",
      "Test performance after 100 epochs for model with time as a feature (lr: 0.002, batch_size: 10)   : 0.946012269939\n"
     ]
    }
   ],
   "source": [
    "# Comparing Test performance for models with and without time as a feature\n",
    "print(\"Test performance after 100 epochs for model WITHOUT time as a feature (lr: 0.002, batch_size: 10):\", accuracy_history[-1])\n",
    "print(\"Test performance after 100 epochs for model with time as a feature (lr: 0.002, batch_size: 10)   :\", p3_test_accuracy)"
   ]
  },
  {
   "cell_type": "code",
   "execution_count": 34,
   "metadata": {},
   "outputs": [
    {
     "name": "stdout",
     "output_type": "stream",
     "text": [
      "Training performance after 100 epochs for model WITHOUT time as a feature (lr: 0.002, batch_size: 10): 0.787254366812\n",
      "Training performance after 100 epochs for model with time as a feature (lr: 0.002, batch_size: 10)   : 0.938455240175\n"
     ]
    }
   ],
   "source": [
    "# Train accuracy without time as a feature\n",
    "print(\"Training performance after 100 epochs for model WITHOUT time as a feature (lr: 0.002, batch_size: 10):\", p2_train_accuracy)\n",
    "print(\"Training performance after 100 epochs for model with time as a feature (lr: 0.002, batch_size: 10)   :\", p3_train_accuracy)"
   ]
  },
  {
   "cell_type": "code",
   "execution_count": null,
   "metadata": {},
   "outputs": [],
   "source": []
  }
 ],
 "metadata": {
  "kernelspec": {
   "display_name": "Python 3",
   "language": "python",
   "name": "python3"
  },
  "language_info": {
   "codemirror_mode": {
    "name": "ipython",
    "version": 3
   },
   "file_extension": ".py",
   "mimetype": "text/x-python",
   "name": "python",
   "nbconvert_exporter": "python",
   "pygments_lexer": "ipython3",
   "version": "3.6.1"
  }
 },
 "nbformat": 4,
 "nbformat_minor": 2
}
